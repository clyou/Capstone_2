{
 "cells": [
  {
   "cell_type": "code",
   "execution_count": 1,
   "metadata": {
    "collapsed": true
   },
   "outputs": [],
   "source": [
    "import pandas as pd\n",
    "import numpy as np\n",
    "import os \n",
    "import scipy.stats as st\n",
    "import statsmodels as sm\n",
    "import matplotlib.pyplot as plt\n",
    "import seaborn as sns\n",
    "from get_text import case_names, text, get_df, get_all_df"
   ]
  },
  {
   "cell_type": "code",
   "execution_count": 2,
   "metadata": {
    "collapsed": true
   },
   "outputs": [],
   "source": [
    "# Import the master dataframes; one will include stemmed speech while the other will not\n",
    "df = get_all_df(stemmed='stemmed')\n",
    "df_no_stem = get_all_df(stemmed='notstemmed')"
   ]
  },
  {
   "cell_type": "code",
   "execution_count": 3,
   "metadata": {
    "collapsed": true
   },
   "outputs": [],
   "source": [
    "# script for obtaining the dictionaries for mapping the key:value pairs in the dataframe \n",
    "import bs4 as bs\n",
    "import urllib.request  \n",
    "import requests\n",
    "from urllib.parse import urljoin\n",
    "\n",
    "def get_codes(input_item):\n",
    "\n",
    "    url_get = ('http://scdb.wustl.edu/documentation.php?var=' + str(input_item))\n",
    "    sauce = urllib.request.urlopen(str(url_get)).read()\n",
    "    soup = bs.BeautifulSoup(sauce, 'lxml')\n",
    "\n",
    "    things = []\n",
    "    for a in soup.find_all('td'):\n",
    "        x = a.string\n",
    "        y = str(x).strip()\n",
    "        things.append(y)\n",
    "\n",
    "    stop = (len(things)-15)\n",
    "    things = things[23:stop]\n",
    "    new_keys = dict(zip(things[::2], things[1::2]))\n",
    "    new_keys_two = {int(float(key)):new_keys[key] for key in new_keys}\n",
    "    return new_keys_two"
   ]
  },
  {
   "cell_type": "code",
   "execution_count": 4,
   "metadata": {
    "collapsed": true
   },
   "outputs": [],
   "source": [
    "# Create a master dictionary of these key:value pair mappings \n",
    "\n",
    "codes = ['issueArea', 'petitionerState', 'petitioner', 'decisionDirection', 'decisionDirectionDissent',\n",
    "        'authorityDecision2', 'caseOrigin', 'caseOriginState', 'chief', 'lawType', 'lawSupp', 'declarationUncon',\n",
    "        'caseDisposition', 'partyWinning', 'caseDisposition', 'precedentAlteration', 'vote', 'opinion', 'direction', \n",
    "        'majority']\n",
    "\n",
    "master_dict = {}\n",
    "\n",
    "for name in codes:\n",
    "    master_dict['%s' % name] = get_codes(name)"
   ]
  },
  {
   "cell_type": "code",
   "execution_count": 5,
   "metadata": {},
   "outputs": [
    {
     "data": {
      "text/plain": [
       "issueAreas\n",
       "Criminal Procedure    218\n",
       "Economic Activity     159\n",
       "Civil Rights          134\n",
       "Judicial Power        106\n",
       "First Amendment        42\n",
       "Federalism             40\n",
       "Due Process            25\n",
       "Privacy                15\n",
       "Unions                 14\n",
       "Attorneys              13\n",
       "Federal Taxation        9\n",
       "Miscellaneous           4\n",
       "Private Action          1\n",
       "Name: issueArea, dtype: int64"
      ]
     },
     "execution_count": 5,
     "metadata": {},
     "output_type": "execute_result"
    }
   ],
   "source": [
    "df_no_stem['issueAreas'] = df_no_stem['issueArea'].map(master_dict['issueArea'])\n",
    "df_no_stem.groupby(['issueAreas']).count().issueArea.sort_values(ascending=False)"
   ]
  },
  {
   "cell_type": "code",
   "execution_count": 6,
   "metadata": {
    "collapsed": true
   },
   "outputs": [],
   "source": [
    "# Isolating Kennedy's Text by Issue Areas with at least 40 cases \n",
    "\n",
    "criminal_procedure = df_no_stem[df_no_stem['issueAreas'] == 'Criminal Procedure']\n",
    "econ_activity = df_no_stem[df_no_stem['issueAreas'] == 'Economic Activity']\n",
    "civil_rights = df_no_stem[df_no_stem['issueAreas'] == 'Civil Rights']\n",
    "judicial_power = df_no_stem[df_no_stem['issueAreas'] == 'Judicial Power']\n",
    "first_amendment = df_no_stem[df_no_stem['issueAreas'] == 'First Amendment']\n",
    "federalism = df_no_stem[df_no_stem['issueAreas'] == 'Federalism']"
   ]
  },
  {
   "cell_type": "code",
   "execution_count": 7,
   "metadata": {
    "collapsed": true
   },
   "outputs": [],
   "source": [
    "# Keeps rows where winner has a value; drop NaN values\n",
    "\n",
    "criminal_procedure = criminal_procedure[np.isfinite(criminal_procedure['winner'])]\n",
    "econ_activity = econ_activity[np.isfinite(econ_activity['winner'])]\n",
    "civil_rights = civil_rights[np.isfinite(civil_rights['winner'])]\n",
    "judicial_power = judicial_power[np.isfinite(judicial_power['winner'])]\n",
    "first_amendment = first_amendment[np.isfinite(first_amendment['winner'])]\n",
    "federalism = federalism[np.isfinite(federalism['winner'])]"
   ]
  },
  {
   "cell_type": "code",
   "execution_count": 8,
   "metadata": {
    "collapsed": true
   },
   "outputs": [],
   "source": [
    "# Import Transformers\n",
    "from sklearn.feature_extraction.text import CountVectorizer\n",
    "from sklearn.feature_extraction.text import TfidfTransformer\n",
    "\n",
    "# Import Model Selectors - Hyperparameter Optimizers \n",
    "from sklearn.model_selection import RandomizedSearchCV\n",
    "from sklearn.model_selection import GridSearchCV\n",
    "\n",
    "# Import Estimators \n",
    "from sklearn.naive_bayes import MultinomialNB\n",
    "from sklearn.tree import DecisionTreeClassifier\n",
    "from sklearn.ensemble import RandomForestClassifier\n",
    "from sklearn.ensemble import AdaBoostClassifier\n",
    "from sklearn.svm import SVC\n",
    "\n",
    "# Import Pipeline \n",
    "from sklearn.pipeline import Pipeline\n",
    "\n",
    "# Import NLTK\n",
    "import nltk\n",
    "\n",
    "# Import Accuracy Score for MNB\n",
    "from sklearn.metrics import accuracy_score\n",
    "\n",
    "from sklearn.model_selection import StratifiedKFold"
   ]
  },
  {
   "cell_type": "code",
   "execution_count": 9,
   "metadata": {
    "collapsed": true
   },
   "outputs": [],
   "source": [
    "# Split train and test data for every issue area \n",
    "\n",
    "from sklearn.model_selection import train_test_split\n",
    "\n",
    "# Criminal Law \n",
    "crim_features_train, crim_features_test, crim_labels_train, crim_labels_test = train_test_split(\n",
    "    criminal_procedure.speech, criminal_procedure.winner.values, test_size = 0.5, random_state = 42)\n",
    "\n",
    "# Economic Activity\n",
    "econ_features_train, econ_features_test, econ_labels_train, econ_labels_test = train_test_split(\n",
    "    econ_activity.speech, econ_activity.winner.values, test_size = 0.5, random_state = 42)\n",
    "\n",
    "# Civil Rights \n",
    "cr_features_train, cr_features_test, cr_labels_train, cr_labels_test = train_test_split(\n",
    "    civil_rights.speech, civil_rights.winner.values, test_size = 0.5, random_state = 42)\n",
    "\n",
    "# Judicial Power \n",
    "jp_features_train, jp_features_test, jp_labels_train, jp_labels_test = train_test_split(\n",
    "    judicial_power.speech, judicial_power.winner.values, test_size = 0.5, random_state = 42)\n",
    "\n",
    "# First Amendment \n",
    "famd_features_train, famd_features_test, famd_labels_train, famd_labels_test = train_test_split(\n",
    "    first_amendment.speech, first_amendment.winner.values, test_size = 0.5, random_state = 42)\n",
    "\n",
    "# Federalism \n",
    "federalism_features_train, federalism_features_test, federalism_labels_train, federalism_labels_test = train_test_split(\n",
    "    federalism.speech, federalism.winner.values, test_size = 0.5, random_state = 42)"
   ]
  },
  {
   "cell_type": "markdown",
   "metadata": {},
   "source": [
    "#### Naive Bayes Classifer on the Data"
   ]
  },
  {
   "cell_type": "code",
   "execution_count": 10,
   "metadata": {
    "collapsed": true
   },
   "outputs": [],
   "source": [
    "count_vec = CountVectorizer()\n",
    "tf_idf = TfidfTransformer()\n",
    "clf_MNB = MultinomialNB()\n",
    "\n",
    "steps = [('count_vec', count_vec),\n",
    "         ('tf_idf', tf_idf),\n",
    "         ('clf_MNB', clf_MNB)]\n",
    "\n",
    "p_grid = [{'count_vec__min_df': range(1,5)}]\n",
    "\n",
    "pipeline = Pipeline(steps)\n",
    "skf = StratifiedKFold(n_splits=5, shuffle=True, random_state=42)\n",
    "nb = GridSearchCV(pipeline, param_grid=p_grid, cv=skf)"
   ]
  },
  {
   "cell_type": "code",
   "execution_count": 11,
   "metadata": {
    "scrolled": true
   },
   "outputs": [
    {
     "name": "stdout",
     "output_type": "stream",
     "text": [
      "0.688073394495\n",
      "{'count_vec__min_df': 3}\n"
     ]
    }
   ],
   "source": [
    "# Fitting the Naive Bayes model with cases involving Criminal Procedure \n",
    "\n",
    "nb.fit(crim_features_train, crim_labels_train)\n",
    "crim_labels_pred = nb.best_estimator_.predict(crim_features_test)\n",
    "print(accuracy_score(crim_labels_test, crim_labels_pred))\n",
    "print(nb.best_params_)"
   ]
  },
  {
   "cell_type": "code",
   "execution_count": 12,
   "metadata": {},
   "outputs": [
    {
     "name": "stdout",
     "output_type": "stream",
     "text": [
      "0.772151898734\n",
      "{'count_vec__min_df': 1}\n"
     ]
    }
   ],
   "source": [
    "# Fitting the Naive Bayes model with cases involving Economic Activity  \n",
    "\n",
    "nb.fit(econ_features_train, econ_labels_train)\n",
    "econ_labels_pred = nb.best_estimator_.predict(econ_features_test)\n",
    "print(accuracy_score(econ_labels_test, econ_labels_pred))\n",
    "print(nb.best_params_)"
   ]
  },
  {
   "cell_type": "code",
   "execution_count": 13,
   "metadata": {},
   "outputs": [
    {
     "name": "stdout",
     "output_type": "stream",
     "text": [
      "0.815384615385\n",
      "{'count_vec__min_df': 4}\n"
     ]
    }
   ],
   "source": [
    "# Fitting the Naive Bayes model with cases involving Civil Rights \n",
    "\n",
    "nb.fit(cr_features_train, cr_labels_train)\n",
    "cr_labels_pred = nb.best_estimator_.predict(cr_features_test)\n",
    "print(accuracy_score(cr_labels_test, cr_labels_pred))\n",
    "print(nb.best_params_)"
   ]
  },
  {
   "cell_type": "code",
   "execution_count": 14,
   "metadata": {},
   "outputs": [
    {
     "name": "stdout",
     "output_type": "stream",
     "text": [
      "0.528301886792\n",
      "{'count_vec__min_df': 1}\n"
     ]
    }
   ],
   "source": [
    "# Fitting the Naive Bayes model with cases involving Judicial Power \n",
    "\n",
    "nb.fit(jp_features_train, jp_labels_train)\n",
    "jp_labels_pred = nb.best_estimator_.predict(jp_features_test)\n",
    "print(accuracy_score(jp_labels_test, jp_labels_pred))\n",
    "print(nb.best_params_)"
   ]
  },
  {
   "cell_type": "code",
   "execution_count": 15,
   "metadata": {},
   "outputs": [
    {
     "name": "stdout",
     "output_type": "stream",
     "text": [
      "0.666666666667\n",
      "{'count_vec__min_df': 1}\n"
     ]
    }
   ],
   "source": [
    "# Fitting the Naive Bayes model with cases involving First Amendment  \n",
    "\n",
    "nb.fit(famd_features_train, famd_labels_train)\n",
    "famd_labels_pred = nb.best_estimator_.predict(famd_features_test)\n",
    "print(accuracy_score(famd_labels_test, famd_labels_pred))\n",
    "print(nb.best_params_)"
   ]
  },
  {
   "cell_type": "code",
   "execution_count": 16,
   "metadata": {
    "scrolled": true
   },
   "outputs": [
    {
     "name": "stdout",
     "output_type": "stream",
     "text": [
      "0.45\n",
      "{'count_vec__min_df': 1}\n"
     ]
    }
   ],
   "source": [
    "# Fitting the Naive Bayes model with cases involving Federalism\n",
    "\n",
    "nb.fit(federalism_features_train, federalism_labels_train)\n",
    "federalism_labels_pred = nb.best_estimator_.predict(federalism_features_test)\n",
    "print(accuracy_score(federalism_labels_test, federalism_labels_pred))\n",
    "print(nb.best_params_)"
   ]
  },
  {
   "cell_type": "code",
   "execution_count": 17,
   "metadata": {
    "collapsed": true
   },
   "outputs": [],
   "source": [
    "naive = {\"Criminal Procedure\": accuracy_score(crim_labels_test, crim_labels_pred),\n",
    "         \"Economic Activity\": accuracy_score(econ_labels_test, econ_labels_pred),\n",
    "         \"Civil Rights\": accuracy_score(cr_labels_test, cr_labels_pred),\n",
    "         \"Judicial Power\": accuracy_score(jp_labels_test, jp_labels_pred),\n",
    "         \"First Amendment\": accuracy_score(famd_labels_test, famd_labels_pred),\n",
    "         \"Federalism\": accuracy_score(federalism_labels_test, federalism_labels_pred)}"
   ]
  },
  {
   "cell_type": "code",
   "execution_count": 18,
   "metadata": {},
   "outputs": [
    {
     "data": {
      "text/plain": [
       "{'Civil Rights': 0.81538461538461537,\n",
       " 'Criminal Procedure': 0.68807339449541283,\n",
       " 'Economic Activity': 0.77215189873417722,\n",
       " 'Federalism': 0.45000000000000001,\n",
       " 'First Amendment': 0.66666666666666663,\n",
       " 'Judicial Power': 0.52830188679245282}"
      ]
     },
     "execution_count": 18,
     "metadata": {},
     "output_type": "execute_result"
    }
   ],
   "source": [
    "naive"
   ]
  },
  {
   "cell_type": "code",
   "execution_count": 19,
   "metadata": {
    "collapsed": true,
    "scrolled": true
   },
   "outputs": [],
   "source": [
    "naive2 = pd.DataFrame(naive, index=['accuracy'])\n",
    "naive2 = naive2.unstack().unstack()"
   ]
  },
  {
   "cell_type": "markdown",
   "metadata": {},
   "source": [
    "#### SVM Classifer on the Data"
   ]
  },
  {
   "cell_type": "code",
   "execution_count": 20,
   "metadata": {
    "collapsed": true
   },
   "outputs": [],
   "source": [
    "count_vec = CountVectorizer()\n",
    "tf_idf = TfidfTransformer()\n",
    "clf_SVC = SVC()\n",
    "\n",
    "steps = [('count_vec', count_vec),\n",
    "         ('tf_idf', tf_idf),\n",
    "         ('clf_SVC', clf_SVC)]\n",
    "\n",
    "p_grid = [{'count_vec__min_df': range(1,5),\n",
    "           'clf_SVC__random_state': [42],\n",
    "           'clf_SVC__kernel': ['linear', 'poly', 'rbf', 'sigmoid'],\n",
    "           'clf_SVC__C': [0.1,1,10,100,1000],\n",
    "           'clf_SVC__gamma': [0.1,1,10,100,1000]}]\n",
    "\n",
    "pipeline = Pipeline(steps)\n",
    "skf = StratifiedKFold(n_splits=5, shuffle=True, random_state=42)\n",
    "gs = GridSearchCV(pipeline, param_grid=p_grid, cv=skf)"
   ]
  },
  {
   "cell_type": "code",
   "execution_count": 21,
   "metadata": {},
   "outputs": [
    {
     "name": "stdout",
     "output_type": "stream",
     "text": [
      "{'clf_SVC__C': 1, 'clf_SVC__gamma': 0.1, 'clf_SVC__kernel': 'linear', 'clf_SVC__random_state': 42, 'count_vec__min_df': 1}\n",
      "0.642201834862\n"
     ]
    }
   ],
   "source": [
    "# Fitting the SVM model with cases involving Criminal Procedure\n",
    "\n",
    "gs.fit(crim_features_train, crim_labels_train)\n",
    "print(gs.best_params_)\n",
    "print(gs.best_estimator_.score(crim_features_test, crim_labels_test))"
   ]
  },
  {
   "cell_type": "code",
   "execution_count": 22,
   "metadata": {
    "scrolled": true
   },
   "outputs": [
    {
     "name": "stdout",
     "output_type": "stream",
     "text": [
      "{'clf_SVC__C': 0.1, 'clf_SVC__gamma': 0.1, 'clf_SVC__kernel': 'linear', 'clf_SVC__random_state': 42, 'count_vec__min_df': 1}\n",
      "0.772151898734\n"
     ]
    }
   ],
   "source": [
    "# Fitting the SVM model with cases involving Economic Activity\n",
    "\n",
    "gs.fit(econ_features_train, econ_labels_train)\n",
    "print(gs.best_params_)\n",
    "print(gs.best_estimator_.score(econ_features_test, econ_labels_test))"
   ]
  },
  {
   "cell_type": "code",
   "execution_count": 23,
   "metadata": {},
   "outputs": [
    {
     "name": "stdout",
     "output_type": "stream",
     "text": [
      "{'clf_SVC__C': 10, 'clf_SVC__gamma': 0.1, 'clf_SVC__kernel': 'rbf', 'clf_SVC__random_state': 42, 'count_vec__min_df': 4}\n",
      "0.769230769231\n"
     ]
    }
   ],
   "source": [
    "# Fitting the SVM model with cases involving Civil Rights \n",
    "\n",
    "gs.fit(cr_features_train, cr_labels_train)\n",
    "print(gs.best_params_)\n",
    "print(gs.best_estimator_.score(cr_features_test, cr_labels_test))"
   ]
  },
  {
   "cell_type": "code",
   "execution_count": 24,
   "metadata": {},
   "outputs": [
    {
     "name": "stdout",
     "output_type": "stream",
     "text": [
      "{'clf_SVC__C': 10, 'clf_SVC__gamma': 1, 'clf_SVC__kernel': 'sigmoid', 'clf_SVC__random_state': 42, 'count_vec__min_df': 4}\n",
      "0.528301886792\n"
     ]
    }
   ],
   "source": [
    "# Fitting the SVM model with cases involving Judicial Power \n",
    "\n",
    "gs.fit(jp_features_train, jp_labels_train)\n",
    "print(gs.best_params_)\n",
    "print(gs.best_estimator_.score(jp_features_test, jp_labels_test))"
   ]
  },
  {
   "cell_type": "code",
   "execution_count": 25,
   "metadata": {},
   "outputs": [
    {
     "name": "stdout",
     "output_type": "stream",
     "text": [
      "{'clf_SVC__C': 10, 'clf_SVC__gamma': 10, 'clf_SVC__kernel': 'sigmoid', 'clf_SVC__random_state': 42, 'count_vec__min_df': 4}\n",
      "0.52380952381\n"
     ]
    }
   ],
   "source": [
    "# Fitting the SVM model with cases involving First Amendment \n",
    "\n",
    "gs.fit(famd_features_train, famd_labels_train)\n",
    "print(gs.best_params_)\n",
    "print(gs.best_estimator_.score(famd_features_test, famd_labels_test))"
   ]
  },
  {
   "cell_type": "code",
   "execution_count": 26,
   "metadata": {},
   "outputs": [
    {
     "name": "stdout",
     "output_type": "stream",
     "text": [
      "{'clf_SVC__C': 0.1, 'clf_SVC__gamma': 0.1, 'clf_SVC__kernel': 'linear', 'clf_SVC__random_state': 42, 'count_vec__min_df': 1}\n",
      "0.45\n"
     ]
    }
   ],
   "source": [
    "# Fitting the SVM model with cases involving Federalism \n",
    "\n",
    "gs.fit(federalism_features_train, federalism_labels_train)\n",
    "print(gs.best_params_)\n",
    "print(gs.best_estimator_.score(federalism_features_test, federalism_labels_test))"
   ]
  },
  {
   "cell_type": "code",
   "execution_count": 27,
   "metadata": {
    "collapsed": true
   },
   "outputs": [],
   "source": [
    "svm = {\"Criminal Procedure\": gs.best_estimator_.score(crim_features_test, crim_labels_test),\n",
    "         \"Economic Activity\": gs.best_estimator_.score(econ_features_test, econ_labels_test),\n",
    "         \"Civil Rights\": gs.best_estimator_.score(cr_features_test, cr_labels_test),\n",
    "         \"Judicial Power\": gs.best_estimator_.score(jp_features_test, jp_labels_test),\n",
    "         \"First Amendment\": gs.best_estimator_.score(famd_features_test, famd_labels_test),\n",
    "         \"Federalism\": gs.best_estimator_.score(federalism_features_test, federalism_labels_test)}"
   ]
  },
  {
   "cell_type": "code",
   "execution_count": 28,
   "metadata": {
    "collapsed": true
   },
   "outputs": [],
   "source": [
    "svm2 = pd.DataFrame(svm, index=['accuracy'])\n",
    "svm2 = svm2.unstack().unstack()"
   ]
  },
  {
   "cell_type": "markdown",
   "metadata": {},
   "source": [
    "#### Decision Tree Classifer on the Data"
   ]
  },
  {
   "cell_type": "code",
   "execution_count": 29,
   "metadata": {
    "collapsed": true
   },
   "outputs": [],
   "source": [
    "# Testing the Decision Tree Classifier on this data \n",
    "\n",
    "clf_DTC = DecisionTreeClassifier()\n",
    "\n",
    "steps = [('counts', CountVectorizer()),\n",
    "         ('tf_idf', TfidfTransformer()),\n",
    "         ('clf_DTC', DecisionTreeClassifier())]\n",
    "\n",
    "pipeline = Pipeline(steps)\n",
    "skf = StratifiedKFold(n_splits=5, shuffle=True, random_state=42)\n",
    "p_grid = [{'counts__min_df':[1],\n",
    "           'clf_DTC__random_state': [42],\n",
    "           'clf_DTC__min_samples_leaf': range(1,30),\n",
    "           'clf_DTC__min_samples_split': range(2,30)}]\n",
    "\n",
    "gs_one = GridSearchCV(pipeline, param_grid=p_grid, cv=skf)"
   ]
  },
  {
   "cell_type": "code",
   "execution_count": 31,
   "metadata": {},
   "outputs": [
    {
     "name": "stdout",
     "output_type": "stream",
     "text": [
      "{'clf_DTC__min_samples_leaf': 14, 'clf_DTC__min_samples_split': 2, 'clf_DTC__random_state': 42, 'counts__min_df': 1}\n",
      "0.522935779817\n"
     ]
    }
   ],
   "source": [
    "# Fitting the Decision Tree Classifier model with cases involving Criminal Procedure \n",
    "\n",
    "gs_one.fit(crim_features_train, crim_labels_train)\n",
    "print(gs_one.best_params_)\n",
    "print(gs_one.best_estimator_.score(crim_features_test, crim_labels_test))"
   ]
  },
  {
   "cell_type": "code",
   "execution_count": 32,
   "metadata": {},
   "outputs": [
    {
     "name": "stdout",
     "output_type": "stream",
     "text": [
      "{'clf_DTC__min_samples_leaf': 17, 'clf_DTC__min_samples_split': 2, 'clf_DTC__random_state': 42, 'counts__min_df': 1}\n",
      "0.582278481013\n"
     ]
    }
   ],
   "source": [
    "# Fitting the Decision Tree Classifier model with cases involving Economic Activity\n",
    "\n",
    "gs_one.fit(econ_features_train, econ_labels_train)\n",
    "print(gs_one.best_params_)\n",
    "print(gs_one.best_estimator_.score(econ_features_test, econ_labels_test))"
   ]
  },
  {
   "cell_type": "code",
   "execution_count": 33,
   "metadata": {},
   "outputs": [
    {
     "name": "stdout",
     "output_type": "stream",
     "text": [
      "{'clf_DTC__min_samples_leaf': 3, 'clf_DTC__min_samples_split': 2, 'clf_DTC__random_state': 42, 'counts__min_df': 1}\n",
      "0.707692307692\n"
     ]
    }
   ],
   "source": [
    "# Fitting the Decision Tree Classifier model with cases involving Civil Rights \n",
    "\n",
    "gs_one.fit(cr_features_train, cr_labels_train)\n",
    "print(gs_one.best_params_)\n",
    "print(gs_one.best_estimator_.score(cr_features_test, cr_labels_test))"
   ]
  },
  {
   "cell_type": "code",
   "execution_count": 34,
   "metadata": {},
   "outputs": [
    {
     "name": "stdout",
     "output_type": "stream",
     "text": [
      "{'clf_DTC__min_samples_leaf': 1, 'clf_DTC__min_samples_split': 2, 'clf_DTC__random_state': 42, 'counts__min_df': 1}\n",
      "0.528301886792\n"
     ]
    }
   ],
   "source": [
    "# Fitting the Decision Tree Classifier model with cases involving Judicial Power\n",
    "\n",
    "gs_one.fit(jp_features_train, jp_labels_train)\n",
    "print(gs_one.best_params_)\n",
    "print(gs_one.best_estimator_.score(jp_features_test, jp_labels_test))"
   ]
  },
  {
   "cell_type": "code",
   "execution_count": 35,
   "metadata": {},
   "outputs": [
    {
     "name": "stdout",
     "output_type": "stream",
     "text": [
      "{'clf_DTC__min_samples_leaf': 3, 'clf_DTC__min_samples_split': 2, 'clf_DTC__random_state': 42, 'counts__min_df': 1}\n",
      "0.666666666667\n"
     ]
    }
   ],
   "source": [
    "# Fitting the Decision Tree Classifier model with cases involving First Amendment\n",
    "\n",
    "gs_one.fit(famd_features_train, famd_labels_train)\n",
    "print(gs_one.best_params_)\n",
    "print(gs_one.best_estimator_.score(famd_features_test, famd_labels_test))"
   ]
  },
  {
   "cell_type": "code",
   "execution_count": 36,
   "metadata": {},
   "outputs": [
    {
     "name": "stdout",
     "output_type": "stream",
     "text": [
      "{'clf_DTC__min_samples_leaf': 1, 'clf_DTC__min_samples_split': 16, 'clf_DTC__random_state': 42, 'counts__min_df': 1}\n",
      "0.5\n"
     ]
    }
   ],
   "source": [
    "# Fitting the Decision Tree Classifier model with cases involving Federalism\n",
    "\n",
    "gs_one.fit(federalism_features_train, federalism_labels_train)\n",
    "print(gs_one.best_params_)\n",
    "print(gs_one.best_estimator_.score(federalism_features_test, federalism_labels_test))"
   ]
  },
  {
   "cell_type": "code",
   "execution_count": 37,
   "metadata": {
    "collapsed": true
   },
   "outputs": [],
   "source": [
    "dtc = {\"Criminal Procedure\": gs_one.best_estimator_.score(crim_features_test, crim_labels_test),\n",
    "         \"Economic Activity\": gs_one.best_estimator_.score(econ_features_test, econ_labels_test),\n",
    "         \"Civil Rights\": gs_one.best_estimator_.score(cr_features_test, cr_labels_test),\n",
    "         \"Judicial Power\": gs_one.best_estimator_.score(jp_features_test, jp_labels_test),\n",
    "         \"First Amendment\": gs_one.best_estimator_.score(famd_features_test, famd_labels_test),\n",
    "         \"Federalism\": gs_one.best_estimator_.score(federalism_features_test, federalism_labels_test)}"
   ]
  },
  {
   "cell_type": "code",
   "execution_count": 38,
   "metadata": {
    "collapsed": true
   },
   "outputs": [],
   "source": [
    "dtc2 = pd.DataFrame(dtc, index=['accuracy'])\n",
    "dtc2 = dtc2.unstack().unstack()"
   ]
  },
  {
   "cell_type": "markdown",
   "metadata": {},
   "source": [
    "#### AdaBoost Classifer on the Data"
   ]
  },
  {
   "cell_type": "code",
   "execution_count": 39,
   "metadata": {
    "collapsed": true
   },
   "outputs": [],
   "source": [
    "# Testing the AdaBoost Classifier on this data \n",
    "\n",
    "clf_ada = AdaBoostClassifier()\n",
    "\n",
    "steps = [('counts', CountVectorizer()),\n",
    "         ('tf_idf', TfidfTransformer()),\n",
    "         ('clf_ada', AdaBoostClassifier())]\n",
    "\n",
    "pipeline = Pipeline(steps)\n",
    "skf = StratifiedKFold(n_splits=5, shuffle=True, random_state=42)\n",
    "p_grid = [{'counts__min_df':[1],\n",
    "           'clf_ada__random_state': [42],\n",
    "           'clf_ada__n_estimators': range(1,30)}]\n",
    "\n",
    "gs_two = GridSearchCV(pipeline, param_grid=p_grid, cv=skf)"
   ]
  },
  {
   "cell_type": "code",
   "execution_count": 40,
   "metadata": {},
   "outputs": [
    {
     "name": "stdout",
     "output_type": "stream",
     "text": [
      "{'clf_ada__n_estimators': 5, 'clf_ada__random_state': 42, 'counts__min_df': 1}\n",
      "0.51376146789\n"
     ]
    }
   ],
   "source": [
    "# Fitting the AdaBoost Classifier model with cases involving Criminal Procedure\n",
    "\n",
    "gs_two.fit(crim_features_train, crim_labels_train)\n",
    "print(gs_two.best_params_)\n",
    "print(gs_two.best_estimator_.score(crim_features_test, crim_labels_test))"
   ]
  },
  {
   "cell_type": "code",
   "execution_count": 41,
   "metadata": {},
   "outputs": [
    {
     "name": "stdout",
     "output_type": "stream",
     "text": [
      "{'clf_ada__n_estimators': 23, 'clf_ada__random_state': 42, 'counts__min_df': 1}\n",
      "0.594936708861\n"
     ]
    }
   ],
   "source": [
    "# Fitting the AdaBoost Classifier model with cases involving Economic Activity\n",
    "\n",
    "gs_two.fit(econ_features_train, econ_labels_train)\n",
    "print(gs_two.best_params_)\n",
    "print(gs_two.best_estimator_.score(econ_features_test, econ_labels_test))"
   ]
  },
  {
   "cell_type": "code",
   "execution_count": 42,
   "metadata": {},
   "outputs": [
    {
     "name": "stdout",
     "output_type": "stream",
     "text": [
      "{'clf_ada__n_estimators': 1, 'clf_ada__random_state': 42, 'counts__min_df': 1}\n",
      "0.769230769231\n"
     ]
    }
   ],
   "source": [
    "# Fitting the AdaBoost Classifier model with cases involving Civil Rights \n",
    "\n",
    "gs_two.fit(cr_features_train, cr_labels_train)\n",
    "print(gs_two.best_params_)\n",
    "print(gs_two.best_estimator_.score(cr_features_test, cr_labels_test))"
   ]
  },
  {
   "cell_type": "code",
   "execution_count": 43,
   "metadata": {},
   "outputs": [
    {
     "name": "stdout",
     "output_type": "stream",
     "text": [
      "{'clf_ada__n_estimators': 1, 'clf_ada__random_state': 42, 'counts__min_df': 1}\n",
      "0.528301886792\n"
     ]
    }
   ],
   "source": [
    "# Fitting the AdaBoost Classifier model with cases involving Judicial Power\n",
    "\n",
    "gs_two.fit(jp_features_train, jp_labels_train)\n",
    "print(gs_two.best_params_)\n",
    "print(gs_two.best_estimator_.score(jp_features_test, jp_labels_test))"
   ]
  },
  {
   "cell_type": "code",
   "execution_count": 44,
   "metadata": {},
   "outputs": [
    {
     "name": "stdout",
     "output_type": "stream",
     "text": [
      "{'clf_ada__n_estimators': 1, 'clf_ada__random_state': 42, 'counts__min_df': 1}\n",
      "0.666666666667\n"
     ]
    }
   ],
   "source": [
    "# Fitting the AdaBoost Classifier model with cases involving First Amendment\n",
    "\n",
    "gs_two.fit(famd_features_train, famd_labels_train)\n",
    "print(gs_two.best_params_)\n",
    "print(gs_two.best_estimator_.score(famd_features_test, famd_labels_test))"
   ]
  },
  {
   "cell_type": "code",
   "execution_count": 45,
   "metadata": {},
   "outputs": [
    {
     "name": "stdout",
     "output_type": "stream",
     "text": [
      "{'clf_ada__n_estimators': 1, 'clf_ada__random_state': 42, 'counts__min_df': 1}\n",
      "0.5\n"
     ]
    }
   ],
   "source": [
    "# Fitting the AdaBoost Classifier model with cases involving Federalism\n",
    "\n",
    "gs_two.fit(federalism_features_train, federalism_labels_train)\n",
    "print(gs_two.best_params_)\n",
    "print(gs_two.best_estimator_.score(federalism_features_test, federalism_labels_test))"
   ]
  },
  {
   "cell_type": "code",
   "execution_count": 46,
   "metadata": {
    "collapsed": true
   },
   "outputs": [],
   "source": [
    "ada = {\"Criminal Procedure\": gs_two.best_estimator_.score(crim_features_test, crim_labels_test),\n",
    "         \"Economic Activity\": gs_two.best_estimator_.score(econ_features_test, econ_labels_test),\n",
    "         \"Civil Rights\": gs_two.best_estimator_.score(cr_features_test, cr_labels_test),\n",
    "         \"Judicial Power\": gs_two.best_estimator_.score(jp_features_test, jp_labels_test),\n",
    "         \"First Amendment\": gs_two.best_estimator_.score(famd_features_test, famd_labels_test),\n",
    "         \"Federalism\": gs_two.best_estimator_.score(federalism_features_test, federalism_labels_test)}"
   ]
  },
  {
   "cell_type": "code",
   "execution_count": 47,
   "metadata": {
    "collapsed": true
   },
   "outputs": [],
   "source": [
    "ada2 = pd.DataFrame(ada, index=['accuracy'])\n",
    "ada2 = ada2.unstack().unstack()"
   ]
  },
  {
   "cell_type": "markdown",
   "metadata": {},
   "source": [
    "#### Random Forest Classifer on the Data"
   ]
  },
  {
   "cell_type": "code",
   "execution_count": 48,
   "metadata": {
    "collapsed": true
   },
   "outputs": [],
   "source": [
    "# Testing the Random Forest Classifier on this data \n",
    "\n",
    "clf_RFC = RandomForestClassifier()\n",
    "\n",
    "steps = [('counts', CountVectorizer()),\n",
    "         ('tf_idf', TfidfTransformer()),\n",
    "         ('clf_RFC', RandomForestClassifier())]\n",
    "\n",
    "pipeline = Pipeline(steps)\n",
    "skf = StratifiedKFold(n_splits=5, shuffle=True, random_state=42)\n",
    "p_grid = [{'counts__min_df':[1],\n",
    "           'clf_RFC__random_state': [42],\n",
    "           'clf_RFC__n_estimators': [15,20,25,30],\n",
    "           'clf_RFC__min_samples_leaf': range(1,30),\n",
    "           'clf_RFC__min_samples_split': range(2,30)}]\n",
    "\n",
    "gs_three = GridSearchCV(pipeline, param_grid=p_grid, cv=skf)"
   ]
  },
  {
   "cell_type": "code",
   "execution_count": 49,
   "metadata": {},
   "outputs": [
    {
     "name": "stdout",
     "output_type": "stream",
     "text": [
      "{'clf_RFC__min_samples_leaf': 1, 'clf_RFC__min_samples_split': 7, 'clf_RFC__n_estimators': 15, 'clf_RFC__random_state': 42, 'counts__min_df': 1}\n",
      "0.669724770642\n"
     ]
    }
   ],
   "source": [
    "# Fitting the Random Forest Classifier model with cases involving Criminal Procedure\n",
    "\n",
    "gs_three.fit(crim_features_train, crim_labels_train)\n",
    "print(gs_three.best_params_)\n",
    "print(gs_three.best_estimator_.score(crim_features_test, crim_labels_test))"
   ]
  },
  {
   "cell_type": "code",
   "execution_count": 50,
   "metadata": {},
   "outputs": [
    {
     "name": "stdout",
     "output_type": "stream",
     "text": [
      "{'clf_RFC__min_samples_leaf': 2, 'clf_RFC__min_samples_split': 5, 'clf_RFC__n_estimators': 15, 'clf_RFC__random_state': 42, 'counts__min_df': 1}\n",
      "0.721518987342\n"
     ]
    }
   ],
   "source": [
    "# Fitting the Random Forest Classifier model with cases involving Economic Activity\n",
    "\n",
    "gs_three.fit(econ_features_train, econ_labels_train)\n",
    "print(gs_three.best_params_)\n",
    "print(gs_three.best_estimator_.score(econ_features_test, econ_labels_test))"
   ]
  },
  {
   "cell_type": "code",
   "execution_count": 51,
   "metadata": {},
   "outputs": [
    {
     "name": "stdout",
     "output_type": "stream",
     "text": [
      "{'clf_RFC__min_samples_leaf': 1, 'clf_RFC__min_samples_split': 19, 'clf_RFC__n_estimators': 30, 'clf_RFC__random_state': 42, 'counts__min_df': 1}\n",
      "0.784615384615\n"
     ]
    }
   ],
   "source": [
    "# Fitting the Random Forest Classifier model with cases involving Civil Rights \n",
    "\n",
    "gs_three.fit(cr_features_train, cr_labels_train)\n",
    "print(gs_three.best_params_)\n",
    "print(gs_three.best_estimator_.score(cr_features_test, cr_labels_test))"
   ]
  },
  {
   "cell_type": "code",
   "execution_count": 52,
   "metadata": {},
   "outputs": [
    {
     "name": "stdout",
     "output_type": "stream",
     "text": [
      "{'clf_RFC__min_samples_leaf': 1, 'clf_RFC__min_samples_split': 2, 'clf_RFC__n_estimators': 15, 'clf_RFC__random_state': 42, 'counts__min_df': 1}\n",
      "0.547169811321\n"
     ]
    }
   ],
   "source": [
    "# Fitting the Random Forest Classifier model with cases involving Judicial Power\n",
    "\n",
    "gs_three.fit(jp_features_train, jp_labels_train)\n",
    "print(gs_three.best_params_)\n",
    "print(gs_three.best_estimator_.score(jp_features_test, jp_labels_test))"
   ]
  },
  {
   "cell_type": "code",
   "execution_count": 53,
   "metadata": {},
   "outputs": [
    {
     "name": "stdout",
     "output_type": "stream",
     "text": [
      "{'clf_RFC__min_samples_leaf': 1, 'clf_RFC__min_samples_split': 2, 'clf_RFC__n_estimators': 15, 'clf_RFC__random_state': 42, 'counts__min_df': 1}\n",
      "0.666666666667\n"
     ]
    }
   ],
   "source": [
    "# Fitting the Random Forest Classifier model with cases involving First Amendment\n",
    "\n",
    "gs_three.fit(famd_features_train, famd_labels_train)\n",
    "print(gs_three.best_params_)\n",
    "print(gs_three.best_estimator_.score(famd_features_test, famd_labels_test))"
   ]
  },
  {
   "cell_type": "code",
   "execution_count": 54,
   "metadata": {},
   "outputs": [
    {
     "name": "stdout",
     "output_type": "stream",
     "text": [
      "{'clf_RFC__min_samples_leaf': 1, 'clf_RFC__min_samples_split': 3, 'clf_RFC__n_estimators': 30, 'clf_RFC__random_state': 42, 'counts__min_df': 1}\n",
      "0.45\n"
     ]
    }
   ],
   "source": [
    "# Fitting the Random Forest Classifier model with cases involving Federalism\n",
    "\n",
    "gs_three.fit(federalism_features_train, federalism_labels_train)\n",
    "print(gs_three.best_params_)\n",
    "print(gs_three.best_estimator_.score(federalism_features_test, federalism_labels_test))"
   ]
  },
  {
   "cell_type": "code",
   "execution_count": 55,
   "metadata": {
    "collapsed": true
   },
   "outputs": [],
   "source": [
    "rfc = {\"Criminal Procedure\": gs_three.best_estimator_.score(crim_features_test, crim_labels_test),\n",
    "         \"Economic Activity\": gs_three.best_estimator_.score(econ_features_test, econ_labels_test),\n",
    "         \"Civil Rights\": gs_three.best_estimator_.score(cr_features_test, cr_labels_test),\n",
    "         \"Judicial Power\": gs_three.best_estimator_.score(jp_features_test, jp_labels_test),\n",
    "         \"First Amendment\": gs_three.best_estimator_.score(famd_features_test, famd_labels_test),\n",
    "         \"Federalism\": gs_three.best_estimator_.score(federalism_features_test, federalism_labels_test)}"
   ]
  },
  {
   "cell_type": "code",
   "execution_count": 56,
   "metadata": {
    "collapsed": true
   },
   "outputs": [],
   "source": [
    "rfc2 = pd.DataFrame(rfc, index=['accuracy'])\n",
    "rfc2 = rfc2.unstack().unstack()"
   ]
  },
  {
   "cell_type": "code",
   "execution_count": null,
   "metadata": {
    "collapsed": true
   },
   "outputs": [],
   "source": []
  }
 ],
 "metadata": {
  "kernelspec": {
   "display_name": "Python 3",
   "language": "python",
   "name": "python3"
  },
  "language_info": {
   "codemirror_mode": {
    "name": "ipython",
    "version": 3
   },
   "file_extension": ".py",
   "mimetype": "text/x-python",
   "name": "python",
   "nbconvert_exporter": "python",
   "pygments_lexer": "ipython3",
   "version": "3.6.1"
  }
 },
 "nbformat": 4,
 "nbformat_minor": 2
}
