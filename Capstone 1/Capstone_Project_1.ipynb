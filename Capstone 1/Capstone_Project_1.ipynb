{
 "cells": [
  {
   "cell_type": "code",
   "execution_count": 1,
   "metadata": {
    "collapsed": true
   },
   "outputs": [],
   "source": [
    "import pandas as pd\n",
    "import numpy as np\n",
    "from IPython.display import display\n",
    "import scipy.stats as st\n",
    "import statsmodels as sm\n",
    "import matplotlib.pyplot as plt\n",
    "import seaborn as sns\n",
    "\n",
    "# Here the pandas DataFrame is named 'listings'\n",
    "\n",
    "listings = pd.read_csv('beepi_prices.csv')"
   ]
  },
  {
   "cell_type": "code",
   "execution_count": 2,
   "metadata": {},
   "outputs": [
    {
     "data": {
      "text/plain": [
       "['Sale ID',\n",
       " ' Year',\n",
       " ' Make',\n",
       " ' Model',\n",
       " ' Style',\n",
       " ' Is Active?',\n",
       " ' On Sale?',\n",
       " ' Has Sold?',\n",
       " ' Offer to Seller',\n",
       " ' Private Price PI',\n",
       " ' Trade In Price PI',\n",
       " ' Retail Price PI',\n",
       " ' CPO Price PI',\n",
       " ' Private Price L',\n",
       " ' Trade In Price L',\n",
       " ' Retail Price L',\n",
       " ' CPO Price L',\n",
       " ' Beepi Price']"
      ]
     },
     "execution_count": 2,
     "metadata": {},
     "output_type": "execute_result"
    }
   ],
   "source": [
    "list(listings)"
   ]
  },
  {
   "cell_type": "code",
   "execution_count": 3,
   "metadata": {
    "collapsed": true
   },
   "outputs": [],
   "source": [
    "pd.options.mode.chained_assignment = None"
   ]
  },
  {
   "cell_type": "code",
   "execution_count": 4,
   "metadata": {},
   "outputs": [
    {
     "data": {
      "text/html": [
       "<div>\n",
       "<style>\n",
       "    .dataframe thead tr:only-child th {\n",
       "        text-align: right;\n",
       "    }\n",
       "\n",
       "    .dataframe thead th {\n",
       "        text-align: left;\n",
       "    }\n",
       "\n",
       "    .dataframe tbody tr th {\n",
       "        vertical-align: top;\n",
       "    }\n",
       "</style>\n",
       "<table border=\"1\" class=\"dataframe\">\n",
       "  <thead>\n",
       "    <tr style=\"text-align: right;\">\n",
       "      <th></th>\n",
       "      <th>Sale ID</th>\n",
       "      <th>Year</th>\n",
       "      <th>Make</th>\n",
       "      <th>Model</th>\n",
       "      <th>Style</th>\n",
       "      <th>Is Active?</th>\n",
       "      <th>On Sale?</th>\n",
       "      <th>Has Sold?</th>\n",
       "      <th>Offer to Seller</th>\n",
       "      <th>Private Price PI</th>\n",
       "      <th>Trade In Price PI</th>\n",
       "      <th>Retail Price PI</th>\n",
       "      <th>CPO Price PI</th>\n",
       "      <th>Private Price L</th>\n",
       "      <th>Trade In Price L</th>\n",
       "      <th>Retail Price L</th>\n",
       "      <th>CPO Price L</th>\n",
       "      <th>Beepi Price</th>\n",
       "    </tr>\n",
       "  </thead>\n",
       "  <tbody>\n",
       "    <tr>\n",
       "      <th>0</th>\n",
       "      <td>1002</td>\n",
       "      <td>2012</td>\n",
       "      <td>Volkswagen</td>\n",
       "      <td>Touareg</td>\n",
       "      <td>TDI Sport 4dr SUV AWD w/Navigation  Prod. End ...</td>\n",
       "      <td>N</td>\n",
       "      <td>N</td>\n",
       "      <td>N</td>\n",
       "      <td>N/A</td>\n",
       "      <td>NaN</td>\n",
       "      <td>NaN</td>\n",
       "      <td>NaN</td>\n",
       "      <td>NaN</td>\n",
       "      <td>NaN</td>\n",
       "      <td>NaN</td>\n",
       "      <td>NaN</td>\n",
       "      <td>NaN</td>\n",
       "      <td>NaN</td>\n",
       "    </tr>\n",
       "  </tbody>\n",
       "</table>\n",
       "</div>"
      ],
      "text/plain": [
       "   Sale ID   Year        Make    Model  \\\n",
       "0     1002   2012  Volkswagen  Touareg   \n",
       "\n",
       "                                               Style  Is Active?  On Sale?  \\\n",
       "0  TDI Sport 4dr SUV AWD w/Navigation  Prod. End ...           N         N   \n",
       "\n",
       "   Has Sold?  Offer to Seller   Private Price PI   Trade In Price PI  \\\n",
       "0          N              N/A                NaN                 NaN   \n",
       "\n",
       "    Retail Price PI   CPO Price PI   Private Price L   Trade In Price L  \\\n",
       "0               NaN            NaN               NaN                NaN   \n",
       "\n",
       "    Retail Price L   CPO Price L   Beepi Price  \n",
       "0              NaN           NaN           NaN  "
      ]
     },
     "execution_count": 4,
     "metadata": {},
     "output_type": "execute_result"
    }
   ],
   "source": [
    "# Shows the first two rows the listings DataFrame\n",
    "\n",
    "listings.head(1)"
   ]
  },
  {
   "cell_type": "code",
   "execution_count": 5,
   "metadata": {
    "collapsed": true
   },
   "outputs": [],
   "source": [
    "# There is an error when I attempt to select individual pandas Series (columns) of the original DataFrame\n",
    "# I am converting each DataFrame column into a selectable pandas Series so no errors are given\n",
    "\n",
    "col_name = listings.columns[0]\n",
    "listings = listings.rename(columns = {col_name:'SaleID'})\n",
    "\n",
    "col_name = listings.columns[1]\n",
    "listings = listings.rename(columns = {col_name:'Year'})\n",
    "\n",
    "col_name = listings.columns[2]\n",
    "listings = listings.rename(columns = {col_name:'Make'})\n",
    "\n",
    "col_name = listings.columns[3]\n",
    "listings = listings.rename(columns = {col_name:'Model'})\n",
    "\n",
    "col_name = listings.columns[4]\n",
    "listings = listings.rename(columns = {col_name:'Style'})\n",
    "\n",
    "col_name = listings.columns[5]\n",
    "listings = listings.rename(columns = {col_name:'IsActive'})\n",
    "\n",
    "col_name = listings.columns[6]\n",
    "listings = listings.rename(columns = {col_name:'OnSale'})\n",
    "\n",
    "col_name = listings.columns[7]\n",
    "listings = listings.rename(columns = {col_name:'HasSold'})\n",
    "\n",
    "col_name = listings.columns[8]\n",
    "listings = listings.rename(columns = {col_name:'OfferToSeller'})\n",
    "\n",
    "col_name = listings.columns[9]\n",
    "listings = listings.rename(columns = {col_name:'PrivatePrice1'})\n",
    "\n",
    "col_name = listings.columns[10]\n",
    "listings = listings.rename(columns = {col_name:'TradeInPrice1'})\n",
    "\n",
    "col_name = listings.columns[11]\n",
    "listings = listings.rename(columns = {col_name:'RetailPrice1'})\n",
    "\n",
    "col_name = listings.columns[12]\n",
    "listings = listings.rename(columns = {col_name:'CPOPrice1'})\n",
    "\n",
    "col_name = listings.columns[13]\n",
    "listings = listings.rename(columns = {col_name:'PrivatePrice2'})\n",
    "\n",
    "col_name = listings.columns[14]\n",
    "listings = listings.rename(columns = {col_name:'TradeInPrice2'})\n",
    "\n",
    "col_name = listings.columns[15]\n",
    "listings = listings.rename(columns = {col_name:'RetailPrice2'})\n",
    "\n",
    "col_name = listings.columns[16]\n",
    "listings = listings.rename(columns = {col_name:'CPOPrice2'})\n",
    "\n",
    "col_name = listings.columns[17]\n",
    "listings = listings.rename(columns = {col_name:'listingsPrice'})"
   ]
  },
  {
   "cell_type": "code",
   "execution_count": 6,
   "metadata": {},
   "outputs": [
    {
     "data": {
      "text/html": [
       "<div>\n",
       "<style>\n",
       "    .dataframe thead tr:only-child th {\n",
       "        text-align: right;\n",
       "    }\n",
       "\n",
       "    .dataframe thead th {\n",
       "        text-align: left;\n",
       "    }\n",
       "\n",
       "    .dataframe tbody tr th {\n",
       "        vertical-align: top;\n",
       "    }\n",
       "</style>\n",
       "<table border=\"1\" class=\"dataframe\">\n",
       "  <thead>\n",
       "    <tr style=\"text-align: right;\">\n",
       "      <th></th>\n",
       "      <th>SaleID</th>\n",
       "      <th>Year</th>\n",
       "      <th>Make</th>\n",
       "      <th>Model</th>\n",
       "      <th>Style</th>\n",
       "      <th>IsActive</th>\n",
       "      <th>OnSale</th>\n",
       "      <th>HasSold</th>\n",
       "      <th>OfferToSeller</th>\n",
       "      <th>PrivatePrice1</th>\n",
       "      <th>TradeInPrice1</th>\n",
       "      <th>RetailPrice1</th>\n",
       "      <th>CPOPrice1</th>\n",
       "      <th>PrivatePrice2</th>\n",
       "      <th>TradeInPrice2</th>\n",
       "      <th>RetailPrice2</th>\n",
       "      <th>CPOPrice2</th>\n",
       "      <th>listingsPrice</th>\n",
       "    </tr>\n",
       "  </thead>\n",
       "  <tbody>\n",
       "    <tr>\n",
       "      <th>0</th>\n",
       "      <td>1002</td>\n",
       "      <td>2012</td>\n",
       "      <td>Volkswagen</td>\n",
       "      <td>Touareg</td>\n",
       "      <td>TDI Sport 4dr SUV AWD w/Navigation  Prod. End ...</td>\n",
       "      <td>N</td>\n",
       "      <td>N</td>\n",
       "      <td>N</td>\n",
       "      <td>N/A</td>\n",
       "      <td>NaN</td>\n",
       "      <td>NaN</td>\n",
       "      <td>NaN</td>\n",
       "      <td>NaN</td>\n",
       "      <td>NaN</td>\n",
       "      <td>NaN</td>\n",
       "      <td>NaN</td>\n",
       "      <td>NaN</td>\n",
       "      <td>NaN</td>\n",
       "    </tr>\n",
       "  </tbody>\n",
       "</table>\n",
       "</div>"
      ],
      "text/plain": [
       "   SaleID  Year        Make    Model  \\\n",
       "0    1002  2012  Volkswagen  Touareg   \n",
       "\n",
       "                                               Style IsActive OnSale HasSold  \\\n",
       "0  TDI Sport 4dr SUV AWD w/Navigation  Prod. End ...        N      N       N   \n",
       "\n",
       "  OfferToSeller  PrivatePrice1  TradeInPrice1  RetailPrice1  CPOPrice1  \\\n",
       "0           N/A            NaN            NaN           NaN        NaN   \n",
       "\n",
       "   PrivatePrice2  TradeInPrice2  RetailPrice2  CPOPrice2  listingsPrice  \n",
       "0            NaN            NaN           NaN        NaN            NaN  "
      ]
     },
     "execution_count": 6,
     "metadata": {},
     "output_type": "execute_result"
    }
   ],
   "source": [
    "listings.head(1)"
   ]
  },
  {
   "cell_type": "code",
   "execution_count": 7,
   "metadata": {},
   "outputs": [
    {
     "data": {
      "text/html": [
       "<div>\n",
       "<style>\n",
       "    .dataframe thead tr:only-child th {\n",
       "        text-align: right;\n",
       "    }\n",
       "\n",
       "    .dataframe thead th {\n",
       "        text-align: left;\n",
       "    }\n",
       "\n",
       "    .dataframe tbody tr th {\n",
       "        vertical-align: top;\n",
       "    }\n",
       "</style>\n",
       "<table border=\"1\" class=\"dataframe\">\n",
       "  <thead>\n",
       "    <tr style=\"text-align: right;\">\n",
       "      <th></th>\n",
       "      <th>SaleID</th>\n",
       "      <th>UserID</th>\n",
       "      <th>StyleID</th>\n",
       "      <th>OriginalStyleID</th>\n",
       "      <th>Mileage</th>\n",
       "      <th>VIN</th>\n",
       "      <th>LoweredVIN</th>\n",
       "      <th>StatusID</th>\n",
       "      <th>StatusDate</th>\n",
       "      <th>Drop_CarAddress1</th>\n",
       "      <th>...</th>\n",
       "      <th>NumViews</th>\n",
       "      <th>MfgBrochureText</th>\n",
       "      <th>HasMfgBrochure</th>\n",
       "      <th>FirstListedForSale</th>\n",
       "      <th>LastListedForSale</th>\n",
       "      <th>SellerAcceptedListingDate</th>\n",
       "      <th>Seller30DayEmailStatus</th>\n",
       "      <th>RelistedAsNewDate</th>\n",
       "      <th>ParentSaleIdForTradeIn</th>\n",
       "      <th>PrivatePartyAddressId</th>\n",
       "    </tr>\n",
       "  </thead>\n",
       "  <tbody>\n",
       "    <tr>\n",
       "      <th>0</th>\n",
       "      <td>25972</td>\n",
       "      <td>210914</td>\n",
       "      <td>200417706</td>\n",
       "      <td>200417706</td>\n",
       "      <td>38800</td>\n",
       "      <td>5NPEC4AB7DH659528</td>\n",
       "      <td>5npec4ab7dh659528</td>\n",
       "      <td>60</td>\n",
       "      <td>2016-01-04 22:19:58 +0000</td>\n",
       "      <td>127 West 64th Place</td>\n",
       "      <td>...</td>\n",
       "      <td>57</td>\n",
       "      <td>The power of suggestion, raised to an art form</td>\n",
       "      <td>1</td>\n",
       "      <td>2016-01-04 00:40:58 +0000</td>\n",
       "      <td>2016-01-04 00:40:58 +0000</td>\n",
       "      <td>2016-01-03 00:00:00 +0000</td>\n",
       "      <td>0</td>\n",
       "      <td>&lt;null&gt;</td>\n",
       "      <td>&lt;null&gt;</td>\n",
       "      <td>48937</td>\n",
       "    </tr>\n",
       "  </tbody>\n",
       "</table>\n",
       "<p>1 rows × 51 columns</p>\n",
       "</div>"
      ],
      "text/plain": [
       "   SaleID  UserID    StyleID OriginalStyleID  Mileage                VIN  \\\n",
       "0   25972  210914  200417706       200417706    38800  5NPEC4AB7DH659528   \n",
       "\n",
       "          LoweredVIN  StatusID                 StatusDate  \\\n",
       "0  5npec4ab7dh659528        60  2016-01-04 22:19:58 +0000   \n",
       "\n",
       "      Drop_CarAddress1          ...           NumViews  \\\n",
       "0  127 West 64th Place          ...                 57   \n",
       "\n",
       "                                  MfgBrochureText HasMfgBrochure  \\\n",
       "0  The power of suggestion, raised to an art form              1   \n",
       "\n",
       "          FirstListedForSale          LastListedForSale  \\\n",
       "0  2016-01-04 00:40:58 +0000  2016-01-04 00:40:58 +0000   \n",
       "\n",
       "   SellerAcceptedListingDate  Seller30DayEmailStatus  RelistedAsNewDate  \\\n",
       "0  2016-01-03 00:00:00 +0000                       0             <null>   \n",
       "\n",
       "   ParentSaleIdForTradeIn  PrivatePartyAddressId  \n",
       "0                  <null>                  48937  \n",
       "\n",
       "[1 rows x 51 columns]"
      ]
     },
     "execution_count": 7,
     "metadata": {},
     "output_type": "execute_result"
    }
   ],
   "source": [
    "# I am now reading in another DataFrame (cars) to the iPythonNB in order to gain access to attributes such as ZIP code for each listing \n",
    "# This CSV file had a common encoding format that needed to be specified in order to read it as a DataFrame (\"ISO-8859-1\")\n",
    "\n",
    "cars = pd.read_csv('AllCars.csv', encoding = \"ISO-8859-1\")\n",
    "cars.head(1)"
   ]
  },
  {
   "cell_type": "code",
   "execution_count": 8,
   "metadata": {},
   "outputs": [
    {
     "data": {
      "text/html": [
       "<div>\n",
       "<style>\n",
       "    .dataframe thead tr:only-child th {\n",
       "        text-align: right;\n",
       "    }\n",
       "\n",
       "    .dataframe thead th {\n",
       "        text-align: left;\n",
       "    }\n",
       "\n",
       "    .dataframe tbody tr th {\n",
       "        vertical-align: top;\n",
       "    }\n",
       "</style>\n",
       "<table border=\"1\" class=\"dataframe\">\n",
       "  <thead>\n",
       "    <tr style=\"text-align: right;\">\n",
       "      <th></th>\n",
       "      <th>SaleID</th>\n",
       "      <th>Year</th>\n",
       "      <th>Make</th>\n",
       "      <th>Model</th>\n",
       "      <th>Style</th>\n",
       "      <th>IsActive_x</th>\n",
       "      <th>OnSale</th>\n",
       "      <th>HasSold</th>\n",
       "      <th>OfferToSeller</th>\n",
       "      <th>PrivatePrice1</th>\n",
       "      <th>...</th>\n",
       "      <th>NumViews</th>\n",
       "      <th>MfgBrochureText</th>\n",
       "      <th>HasMfgBrochure</th>\n",
       "      <th>FirstListedForSale</th>\n",
       "      <th>LastListedForSale</th>\n",
       "      <th>SellerAcceptedListingDate</th>\n",
       "      <th>Seller30DayEmailStatus</th>\n",
       "      <th>RelistedAsNewDate</th>\n",
       "      <th>ParentSaleIdForTradeIn</th>\n",
       "      <th>PrivatePartyAddressId</th>\n",
       "    </tr>\n",
       "  </thead>\n",
       "  <tbody>\n",
       "    <tr>\n",
       "      <th>0</th>\n",
       "      <td>1002</td>\n",
       "      <td>2012</td>\n",
       "      <td>Volkswagen</td>\n",
       "      <td>Touareg</td>\n",
       "      <td>TDI Sport 4dr SUV AWD w/Navigation  Prod. End ...</td>\n",
       "      <td>N</td>\n",
       "      <td>N</td>\n",
       "      <td>N</td>\n",
       "      <td>N/A</td>\n",
       "      <td>NaN</td>\n",
       "      <td>...</td>\n",
       "      <td>&lt;null&gt;</td>\n",
       "      <td>&lt;null&gt;</td>\n",
       "      <td>0.0</td>\n",
       "      <td>&lt;null&gt;</td>\n",
       "      <td>&lt;null&gt;</td>\n",
       "      <td>&lt;null&gt;</td>\n",
       "      <td>2.0</td>\n",
       "      <td>&lt;null&gt;</td>\n",
       "      <td>&lt;null&gt;</td>\n",
       "      <td>35924.0</td>\n",
       "    </tr>\n",
       "  </tbody>\n",
       "</table>\n",
       "<p>1 rows × 68 columns</p>\n",
       "</div>"
      ],
      "text/plain": [
       "   SaleID  Year        Make    Model  \\\n",
       "0    1002  2012  Volkswagen  Touareg   \n",
       "\n",
       "                                               Style IsActive_x OnSale  \\\n",
       "0  TDI Sport 4dr SUV AWD w/Navigation  Prod. End ...          N      N   \n",
       "\n",
       "  HasSold OfferToSeller  PrivatePrice1          ...            NumViews  \\\n",
       "0       N           N/A            NaN          ...              <null>   \n",
       "\n",
       "   MfgBrochureText  HasMfgBrochure  FirstListedForSale  LastListedForSale  \\\n",
       "0           <null>             0.0              <null>             <null>   \n",
       "\n",
       "   SellerAcceptedListingDate  Seller30DayEmailStatus  RelistedAsNewDate  \\\n",
       "0                     <null>                     2.0             <null>   \n",
       "\n",
       "   ParentSaleIdForTradeIn  PrivatePartyAddressId  \n",
       "0                  <null>                35924.0  \n",
       "\n",
       "[1 rows x 68 columns]"
      ]
     },
     "execution_count": 8,
     "metadata": {},
     "output_type": "execute_result"
    }
   ],
   "source": [
    "# Merging the listings and cars DataFrames into a new DataFrame: \"data\" \n",
    "# Full outer join is used to preserve all data points, including those which are incomplete or have missing values \n",
    "\n",
    "data = pd.merge(listings, cars, on='SaleID', how='outer')\n",
    "data.head(1)"
   ]
  },
  {
   "cell_type": "code",
   "execution_count": 9,
   "metadata": {
    "collapsed": true
   },
   "outputs": [],
   "source": [
    "# Converting the 'NumViews' column from object type to integer type\n",
    "\n",
    "data['NumViews'] = data['NumViews'].replace('<null>', np.nan)\n",
    "data['NumViews'] = data['NumViews'].fillna(0)\n",
    "data['NumViews'] = data['NumViews'].astype(int)"
   ]
  },
  {
   "cell_type": "markdown",
   "metadata": {},
   "source": [
    "## Which vehicle models get the highest number of views?"
   ]
  },
  {
   "cell_type": "code",
   "execution_count": 10,
   "metadata": {
    "collapsed": true
   },
   "outputs": [],
   "source": [
    "# Examining vehicles listed, ordered by the total number of views \n",
    "\n",
    "num_views = data.sort_values('NumViews', ascending=False)\n",
    "most_viewed = num_views[['Year','Make', 'Model', 'Style', 'NumViews']]"
   ]
  },
  {
   "cell_type": "code",
   "execution_count": 11,
   "metadata": {
    "collapsed": true
   },
   "outputs": [],
   "source": [
    "gross_views = most_viewed.groupby(['Make', 'Model']).sum().sort_values('NumViews',ascending=False).drop('Year', axis=1)\n",
    "vehicle_count = most_viewed.groupby(['Make', 'Model']).count().sort_values('NumViews',ascending=False).drop('Year', axis=1)\n",
    "relative_pop = (gross_views.NumViews / vehicle_count.NumViews).sort_values(ascending=False).head(20)"
   ]
  },
  {
   "cell_type": "code",
   "execution_count": 12,
   "metadata": {},
   "outputs": [
    {
     "data": {
      "image/png": "[encoded data removed]",
      "text/plain": [
       "<matplotlib.figure.Figure at 0x1184971d0>"
      ]
     },
     "metadata": {},
     "output_type": "display_data"
    }
   ],
   "source": [
    "plt.figure(figsize=(15, 5))\n",
    "relative_pop.plot(kind='bar')\n",
    "plt.title('Relative Model Popularity Measured by View Count per Unit')\n",
    "plt.xlabel('Make, Model')\n",
    "plt.ylabel('Views per Unit')\n",
    "plt.legend(loc='upper right')\n",
    "plt.show()"
   ]
  },
  {
   "cell_type": "markdown",
   "metadata": {},
   "source": [
    "## What were the number of sales over time?"
   ]
  },
  {
   "cell_type": "code",
   "execution_count": 13,
   "metadata": {},
   "outputs": [
    {
     "data": {
      "text/plain": [
       "3511"
      ]
     },
     "execution_count": 13,
     "metadata": {},
     "output_type": "execute_result"
    }
   ],
   "source": [
    "# First, let's see how many total sales have occurred\n",
    "# Had to use the str.strip function here to remove whitespace\n",
    "\n",
    "data['HasSold'] = data['HasSold'].astype('str')\n",
    "data['HasSold'] = data['HasSold'].str.strip()\n",
    "sold = data[(data.HasSold == 'Y')]\n",
    "sold.Make.value_counts().sum()"
   ]
  },
  {
   "cell_type": "code",
   "execution_count": 14,
   "metadata": {
    "collapsed": true,
    "scrolled": true
   },
   "outputs": [],
   "source": [
    "dates = data.LastListedForSale.replace('<null>', np.nan).dropna()\n",
    "new_dates1 = pd.to_datetime(pd.Series(dates))\n",
    "just_date = new_dates1.dt.date\n",
    "ts = pd.DataFrame(data=just_date)\n",
    "ts.columns = ['Date']"
   ]
  },
  {
   "cell_type": "code",
   "execution_count": 15,
   "metadata": {},
   "outputs": [
    {
     "data": {
      "text/plain": [
       "2016-01-04    35\n",
       "2015-12-22    35\n",
       "2015-10-30    35\n",
       "2016-01-06    34\n",
       "2015-11-30    30\n",
       "2015-10-21    30\n",
       "2015-09-24    28\n",
       "2015-11-22    28\n",
       "2015-11-28    27\n",
       "2015-08-14    27\n",
       "2015-08-27    26\n",
       "2015-08-07    26\n",
       "2015-12-11    25\n",
       "2015-12-21    25\n",
       "2015-08-20    25\n",
       "2015-08-03    24\n",
       "2015-12-18    24\n",
       "2015-05-28    24\n",
       "2015-10-02    23\n",
       "2015-10-08    23\n",
       "2015-09-18    23\n",
       "2015-08-12    22\n",
       "2015-09-08    22\n",
       "2015-07-30    22\n",
       "2015-06-19    22\n",
       "2015-02-04    21\n",
       "2015-10-16    21\n",
       "2016-01-07    21\n",
       "2015-12-31    21\n",
       "2015-12-15    21\n",
       "              ..\n",
       "2014-09-18     1\n",
       "2015-04-20     1\n",
       "2014-03-05     1\n",
       "2014-04-03     1\n",
       "2014-09-04     1\n",
       "2014-05-12     1\n",
       "2014-06-30     1\n",
       "2014-07-13     1\n",
       "2015-07-19     1\n",
       "2015-11-27     1\n",
       "2015-04-13     1\n",
       "2015-02-08     1\n",
       "2015-11-01     1\n",
       "2014-09-30     1\n",
       "2014-03-26     1\n",
       "2014-04-02     1\n",
       "2014-09-11     1\n",
       "2015-02-20     1\n",
       "2014-10-07     1\n",
       "2015-01-26     1\n",
       "2015-05-25     1\n",
       "2015-01-12     1\n",
       "2014-08-10     1\n",
       "2015-10-31     1\n",
       "2014-12-14     1\n",
       "2015-03-22     1\n",
       "2014-10-31     1\n",
       "2015-03-15     1\n",
       "2014-12-15     1\n",
       "2014-06-19     1\n",
       "Name: Date, Length: 432, dtype: int64"
      ]
     },
     "execution_count": 15,
     "metadata": {},
     "output_type": "execute_result"
    }
   ],
   "source": [
    "ts.Date.value_counts()"
   ]
  },
  {
   "cell_type": "code",
   "execution_count": 16,
   "metadata": {},
   "outputs": [
    {
     "data": {
      "image/png": "[encoded data removed]",
      "text/plain": [
       "<matplotlib.figure.Figure at 0x11812de80>"
      ]
     },
     "metadata": {},
     "output_type": "display_data"
    }
   ],
   "source": [
    "plt.figure(figsize=(20,5))\n",
    "ts.Date.value_counts().plot()\n",
    "plt.title('Number of Beepi Vehicles Sold Over Time')\n",
    "plt.xlabel('Date')\n",
    "plt.ylabel('Units Sold per Date')\n",
    "plt.legend(loc='upper left')\n",
    "plt.show()"
   ]
  },
  {
   "cell_type": "markdown",
   "metadata": {},
   "source": [
    "We can see many peaks in the sale data over time; this reflects changing transaction numbers over different days. Which days of the week had the highest/lowest number of transactions? We will answer this in the next section"
   ]
  },
  {
   "cell_type": "markdown",
   "metadata": {},
   "source": [
    "## Which days had the highest number of sales? The lowest?"
   ]
  },
  {
   "cell_type": "code",
   "execution_count": 17,
   "metadata": {
    "collapsed": true,
    "scrolled": true
   },
   "outputs": [],
   "source": [
    "import datetime\n",
    "\n",
    "# First we need to create and isolate the dates \n",
    "dates1 = pd.to_datetime(ts.Date, format='%Y-%m-%d')\n",
    "\n",
    "# We can now convert the dates into days of the week by name\n",
    "days = dates1.dt.weekday_name\n",
    "# We can also use the function 'dt.strftime(%A)' to obtain the same results"
   ]
  },
  {
   "cell_type": "code",
   "execution_count": 18,
   "metadata": {},
   "outputs": [
    {
     "data": {
      "text/plain": [
       "3497"
      ]
     },
     "execution_count": 18,
     "metadata": {},
     "output_type": "execute_result"
    }
   ],
   "source": [
    "days.value_counts().sum()"
   ]
  },
  {
   "cell_type": "code",
   "execution_count": 19,
   "metadata": {},
   "outputs": [
    {
     "data": {
      "image/png": "[encoded data removed]",
      "text/plain": [
       "<matplotlib.figure.Figure at 0x118947940>"
      ]
     },
     "metadata": {},
     "output_type": "display_data"
    }
   ],
   "source": [
    "days_df = days.to_frame()\n",
    "days_df.Date.value_counts().plot(kind='bar')\n",
    "plt.title('Number of Beepi Vehicles Sold By Day of Week')\n",
    "plt.xlabel('Day of Week')\n",
    "plt.ylabel('Total Units Sold')\n",
    "plt.legend(loc='upper right')\n",
    "plt.show()"
   ]
  },
  {
   "cell_type": "code",
   "execution_count": 20,
   "metadata": {
    "collapsed": true
   },
   "outputs": [],
   "source": [
    "# Creating a new DataFrame for creating a Boxplot; we trying to discover number of transactions per day here\n",
    "\n",
    "# Grouping by itself reveals the count of each transaction per date \n",
    "a = dates1.groupby(dates1).count()\n",
    "\n",
    "# Converts Series 'a' to a DF\n",
    "b = a.to_frame()\n",
    "\n",
    "# Adds the column 'Count' \n",
    "b.columns = ['Count'] \n",
    "\n",
    "# Adds back a new index column \n",
    "c = b.reset_index()\n",
    "d = c.Date.dt.weekday_name\n",
    "c['Dayname'] = d"
   ]
  },
  {
   "cell_type": "code",
   "execution_count": 21,
   "metadata": {},
   "outputs": [
    {
     "data": {
      "image/png": "[encoded data removed]",
      "text/plain": [
       "<matplotlib.figure.Figure at 0x11a0f27b8>"
      ]
     },
     "metadata": {},
     "output_type": "display_data"
    }
   ],
   "source": [
    "# First we need to convert the data for each day of the week into a list \n",
    "sun = c[c.Dayname == 'Sunday'].Count.tolist()\n",
    "mon = c[c.Dayname == 'Monday'].Count.tolist()\n",
    "tue = c[c.Dayname == 'Tuesday'].Count.tolist()\n",
    "wed = c[c.Dayname == 'Wednesday'].Count.tolist()\n",
    "thu = c[c.Dayname == 'Thursday'].Count.tolist()\n",
    "fri = c[c.Dayname == 'Friday'].Count.tolist()\n",
    "sat = c[c.Dayname == 'Saturday'].Count.tolist()\n",
    "\n",
    "# Aggregate the listed data \n",
    "data_to_plot = [sun, mon, tue, wed, thu, fri, sat]\n",
    "\n",
    "# Generate the graph \n",
    "fig = plt.figure(figsize=(10,5))\n",
    "ax = fig.add_subplot(1,1,1)\n",
    "bp = ax.boxplot(data_to_plot)\n",
    "\n",
    "# General graph information \n",
    "plt.title('Box Plot: Sales By Day')\n",
    "plt.xlabel('Day of the Week')\n",
    "plt.ylabel('Number of Sales')\n",
    "\n",
    "# Setting the x-label for each dataset \n",
    "ax.set_xticklabels(['Sunday', 'Monday', 'Tuesday', 'Wednesday', 'Thursday', 'Friday', 'Saturday'])\n",
    "# adds a grid to the plot \n",
    "# plt.grid()\n",
    "plt.show()"
   ]
  },
  {
   "cell_type": "markdown",
   "metadata": {},
   "source": [
    "## Which months had the highest number of sales? The lowest?"
   ]
  },
  {
   "cell_type": "code",
   "execution_count": 22,
   "metadata": {},
   "outputs": [
    {
     "data": {
      "image/png": "[encoded data removed]",
      "text/plain": [
       "<matplotlib.figure.Figure at 0x11a1cffd0>"
      ]
     },
     "metadata": {},
     "output_type": "display_data"
    }
   ],
   "source": [
    "# Adding the month to the dataframe \n",
    "f = c.Date.dt.month\n",
    "c['Month'] = f\n",
    "\n",
    "jan = c[c.Month == 1].Count.tolist()\n",
    "feb = c[c.Month == 2].Count.tolist()\n",
    "mar = c[c.Month == 3].Count.tolist()\n",
    "apr = c[c.Month == 4].Count.tolist()\n",
    "may = c[c.Month == 5].Count.tolist()\n",
    "jun = c[c.Month == 6].Count.tolist()\n",
    "jul = c[c.Month == 7].Count.tolist()\n",
    "aug = c[c.Month == 8].Count.tolist()\n",
    "sep = c[c.Month == 9].Count.tolist()\n",
    "ocb = c[c.Month == 10].Count.tolist()\n",
    "nov = c[c.Month == 11].Count.tolist()\n",
    "dec = c[c.Month == 12].Count.tolist()\n",
    "\n",
    "# Aggregate the listed data \n",
    "data_to_plott = [jan, feb, mar, apr, may, jun, jul, aug, sep, ocb, nov, dec]\n",
    "\n",
    "# Generate the graph \n",
    "fig = plt.figure(figsize=(15,5))\n",
    "ax = fig.add_subplot(1,1,1)\n",
    "bp = ax.boxplot(data_to_plott)\n",
    "\n",
    "# General graph information \n",
    "plt.title('Box Plot: Sales By Month')\n",
    "plt.xlabel('Months of the Year')\n",
    "plt.ylabel('Number of Sales')\n",
    "\n",
    "# Setting the x-label for each dataset \n",
    "ax.set_xticklabels(['January', 'February', 'March', 'April', 'May', 'June', 'July', 'August', 'September', \n",
    "                    'October', 'November', 'December'])\n",
    "# adds a grid to the plot \n",
    "# plt.grid()\n",
    "plt.show()"
   ]
  },
  {
   "cell_type": "code",
   "execution_count": 23,
   "metadata": {},
   "outputs": [
    {
     "data": {
      "image/png": "[encoded data removed]",
      "text/plain": [
       "<matplotlib.figure.Figure at 0x11a0c52b0>"
      ]
     },
     "metadata": {},
     "output_type": "display_data"
    }
   ],
   "source": [
    "# Create dataframe of month names\n",
    "months = dates1.dropna().dt.strftime('%B')\n",
    "months_df = months.to_frame()\n",
    "\n",
    "# Create a mapping key to sort months from January to December \n",
    "months = ['January', 'February', 'March', 'April', 'May', 'June', 'July', \n",
    "          'August', 'September', 'October', 'November', 'December']\n",
    "\n",
    "# Plot the months in order\n",
    "plt.figure(figsize=(10, 5))\n",
    "months_df.Date.value_counts().reindex(months, fill_value=0).plot(kind='bar')\n",
    "plt.title('Number of Beepi Vehicles Sold By Month')\n",
    "plt.xlabel('Month')\n",
    "plt.ylabel('Total Units per Month')\n",
    "plt.legend(loc='upper left')\n",
    "plt.show()"
   ]
  },
  {
   "cell_type": "markdown",
   "metadata": {},
   "source": [
    "## Which models sold the quickest? "
   ]
  },
  {
   "cell_type": "code",
   "execution_count": 24,
   "metadata": {
    "collapsed": true,
    "scrolled": true
   },
   "outputs": [],
   "source": [
    "# Replace <null> values with NaN \n",
    "data['first_listed'] = data.FirstListedForSale.replace('<null>', np.nan)\n",
    "data['last_listed'] = data.LastListedForSale.replace('<null>', np.nan)\n",
    "\n",
    "# Create a new dataframe with these values \n",
    "time_to_sale = data[['SaleID', 'Year', 'Make','Model','Style', 'SalePrice', 'NumViews', 'first_listed', 'last_listed']]\n",
    "\n",
    "# Create new columns first_listed, last_listed, and time_delta; add them to time_to_sale df  \n",
    "time_to_sale['first_listed'] = pd.to_datetime(time_to_sale.first_listed, format='%Y-%m-%d')\n",
    "time_to_sale['last_listed'] = pd.to_datetime(time_to_sale.last_listed, format='%Y-%m-%d')\n",
    "time_to_sale['time_delta'] = time_to_sale.last_listed.dt.date - time_to_sale.first_listed.dt.date\n",
    "\n",
    "# Find all vehicles that were sold \n",
    "new_time_to_sale = time_to_sale[time_to_sale.time_delta.notnull()]\n",
    "\n",
    "# Drop vehicles which have the same first_listed and last_listed times \n",
    "new_time_to_sale = new_time_to_sale[new_time_to_sale['first_listed'] != new_time_to_sale['last_listed']]"
   ]
  },
  {
   "cell_type": "code",
   "execution_count": 25,
   "metadata": {},
   "outputs": [
    {
     "data": {
      "text/html": [
       "<div>\n",
       "<style>\n",
       "    .dataframe thead tr:only-child th {\n",
       "        text-align: right;\n",
       "    }\n",
       "\n",
       "    .dataframe thead th {\n",
       "        text-align: left;\n",
       "    }\n",
       "\n",
       "    .dataframe tbody tr th {\n",
       "        vertical-align: top;\n",
       "    }\n",
       "</style>\n",
       "<table border=\"1\" class=\"dataframe\">\n",
       "  <thead>\n",
       "    <tr style=\"text-align: right;\">\n",
       "      <th></th>\n",
       "      <th>Year</th>\n",
       "      <th>Make</th>\n",
       "      <th>Model</th>\n",
       "      <th>Number_of_Sales</th>\n",
       "    </tr>\n",
       "  </thead>\n",
       "  <tbody>\n",
       "    <tr>\n",
       "      <th>58</th>\n",
       "      <td>2013</td>\n",
       "      <td>Honda</td>\n",
       "      <td>Civic</td>\n",
       "      <td>6</td>\n",
       "    </tr>\n",
       "    <tr>\n",
       "      <th>57</th>\n",
       "      <td>2012</td>\n",
       "      <td>Honda</td>\n",
       "      <td>Civic</td>\n",
       "      <td>5</td>\n",
       "    </tr>\n",
       "    <tr>\n",
       "      <th>5</th>\n",
       "      <td>2011</td>\n",
       "      <td>BMW</td>\n",
       "      <td>3 Series</td>\n",
       "      <td>4</td>\n",
       "    </tr>\n",
       "    <tr>\n",
       "      <th>59</th>\n",
       "      <td>2014</td>\n",
       "      <td>Honda</td>\n",
       "      <td>Civic</td>\n",
       "      <td>4</td>\n",
       "    </tr>\n",
       "    <tr>\n",
       "      <th>4</th>\n",
       "      <td>2010</td>\n",
       "      <td>BMW</td>\n",
       "      <td>3 Series</td>\n",
       "      <td>3</td>\n",
       "    </tr>\n",
       "    <tr>\n",
       "      <th>8</th>\n",
       "      <td>2014</td>\n",
       "      <td>BMW</td>\n",
       "      <td>3 Series</td>\n",
       "      <td>3</td>\n",
       "    </tr>\n",
       "    <tr>\n",
       "      <th>28</th>\n",
       "      <td>2014</td>\n",
       "      <td>Honda</td>\n",
       "      <td>Accord</td>\n",
       "      <td>3</td>\n",
       "    </tr>\n",
       "    <tr>\n",
       "      <th>131</th>\n",
       "      <td>2014</td>\n",
       "      <td>Mazda</td>\n",
       "      <td>MAZDA3</td>\n",
       "      <td>3</td>\n",
       "    </tr>\n",
       "    <tr>\n",
       "      <th>148</th>\n",
       "      <td>2013</td>\n",
       "      <td>Toyota</td>\n",
       "      <td>Prius</td>\n",
       "      <td>3</td>\n",
       "    </tr>\n",
       "    <tr>\n",
       "      <th>149</th>\n",
       "      <td>2014</td>\n",
       "      <td>Toyota</td>\n",
       "      <td>Prius</td>\n",
       "      <td>3</td>\n",
       "    </tr>\n",
       "  </tbody>\n",
       "</table>\n",
       "</div>"
      ],
      "text/plain": [
       "     Year    Make     Model  Number_of_Sales\n",
       "58   2013   Honda     Civic                6\n",
       "57   2012   Honda     Civic                5\n",
       "5    2011     BMW  3 Series                4\n",
       "59   2014   Honda     Civic                4\n",
       "4    2010     BMW  3 Series                3\n",
       "8    2014     BMW  3 Series                3\n",
       "28   2014   Honda    Accord                3\n",
       "131  2014   Mazda    MAZDA3                3\n",
       "148  2013  Toyota     Prius                3\n",
       "149  2014  Toyota     Prius                3"
      ]
     },
     "execution_count": 25,
     "metadata": {},
     "output_type": "execute_result"
    }
   ],
   "source": [
    "# Vehicles that sold in 14 days or less \n",
    "quick_sale = new_time_to_sale[new_time_to_sale.time_delta <= '14 days']\n",
    "quick_sale = quick_sale.groupby(['Model','Year','Make']).count().reset_index()\n",
    "\n",
    "# Year/Make/Model Count has to be greater than 3 to be included \n",
    "qs = quick_sale[quick_sale.SaleID >= 3].sort_values(by='Style', ascending=False)\n",
    "qs = qs[['Year', 'Make', 'Model', 'Style']]\n",
    "qs.rename(columns={'Style': 'Number_of_Sales'}, inplace=True)\n",
    "qs"
   ]
  },
  {
   "cell_type": "markdown",
   "metadata": {},
   "source": [
    "## Which make had the highest number of transactions? The lowest?"
   ]
  },
  {
   "cell_type": "code",
   "execution_count": 26,
   "metadata": {},
   "outputs": [
    {
     "data": {
      "text/plain": [
       "Honda         443\n",
       "Toyota        386\n",
       "BMW           358\n",
       "Volkswagen    263\n",
       "Audi          237\n",
       "Name: Make, dtype: int64"
      ]
     },
     "execution_count": 26,
     "metadata": {},
     "output_type": "execute_result"
    }
   ],
   "source": [
    "# The total number of vehicles sold by Make \n",
    "\n",
    "sold.Make.value_counts().head(5)"
   ]
  },
  {
   "cell_type": "code",
   "execution_count": 27,
   "metadata": {
    "scrolled": true
   },
   "outputs": [
    {
     "data": {
      "image/png": "[encoded data removed]",
      "text/plain": [
       "<matplotlib.figure.Figure at 0x1190ce278>"
      ]
     },
     "metadata": {},
     "output_type": "display_data"
    }
   ],
   "source": [
    "# A plot of all of the vehicles sold by make\n",
    "\n",
    "plt.figure(figsize=(20,5))\n",
    "sold.Make.value_counts().plot(kind='bar')\n",
    "plt.title('Number of Beepi Vehicles Sold by Make')\n",
    "plt.xlabel('Make')\n",
    "plt.ylabel('Units Sold')\n",
    "plt.legend(loc='upper right')\n",
    "plt.show()"
   ]
  },
  {
   "cell_type": "markdown",
   "metadata": {},
   "source": [
    "Honda was the make with the highest number of transactions; Lincoln had the lowest number of transactions"
   ]
  },
  {
   "cell_type": "markdown",
   "metadata": {
    "collapsed": true
   },
   "source": [
    "## What was the average price of all sold vehicles?"
   ]
  },
  {
   "cell_type": "code",
   "execution_count": 28,
   "metadata": {},
   "outputs": [
    {
     "data": {
      "text/plain": [
       "dtype('O')"
      ]
     },
     "execution_count": 28,
     "metadata": {},
     "output_type": "execute_result"
    }
   ],
   "source": [
    "# The initial datatype is an object; we will need to transform it to an integer datatype\n",
    "\n",
    "sold.SalePrice.dtype"
   ]
  },
  {
   "cell_type": "code",
   "execution_count": 29,
   "metadata": {},
   "outputs": [
    {
     "data": {
      "text/plain": [
       "dtype('float64')"
      ]
     },
     "execution_count": 29,
     "metadata": {},
     "output_type": "execute_result"
    }
   ],
   "source": [
    "# Converts sold SalePrice objects to integers \n",
    "\n",
    "# Takes the 'SalePrice' column and assigns it to the variable 'ssp'\n",
    "ssp = sold.SalePrice\n",
    "\n",
    "# Converts the SalePrice to integers; errors will be dealt with by converting them to NaNs \n",
    "ssp = pd.to_numeric(ssp, errors = 'coerce')\n",
    "\n",
    "# Checks the datatype - it is float64! \n",
    "ssp.dtype"
   ]
  },
  {
   "cell_type": "code",
   "execution_count": 30,
   "metadata": {},
   "outputs": [
    {
     "data": {
      "text/plain": [
       "23999.69195156695"
      ]
     },
     "execution_count": 30,
     "metadata": {},
     "output_type": "execute_result"
    }
   ],
   "source": [
    "# The mean price of all sold cars\n",
    "\n",
    "ssp.mean()"
   ]
  },
  {
   "cell_type": "markdown",
   "metadata": {},
   "source": [
    "## What was the average price of all unsold vehicles?"
   ]
  },
  {
   "cell_type": "code",
   "execution_count": 31,
   "metadata": {},
   "outputs": [
    {
     "data": {
      "text/html": [
       "<div>\n",
       "<style>\n",
       "    .dataframe thead tr:only-child th {\n",
       "        text-align: right;\n",
       "    }\n",
       "\n",
       "    .dataframe thead th {\n",
       "        text-align: left;\n",
       "    }\n",
       "\n",
       "    .dataframe tbody tr th {\n",
       "        vertical-align: top;\n",
       "    }\n",
       "</style>\n",
       "<table border=\"1\" class=\"dataframe\">\n",
       "  <thead>\n",
       "    <tr style=\"text-align: right;\">\n",
       "      <th></th>\n",
       "      <th>SaleID</th>\n",
       "      <th>Year</th>\n",
       "      <th>Make</th>\n",
       "      <th>Model</th>\n",
       "      <th>Style</th>\n",
       "      <th>IsActive_x</th>\n",
       "      <th>OnSale</th>\n",
       "      <th>HasSold</th>\n",
       "      <th>OfferToSeller</th>\n",
       "      <th>PrivatePrice1</th>\n",
       "      <th>...</th>\n",
       "      <th>HasMfgBrochure</th>\n",
       "      <th>FirstListedForSale</th>\n",
       "      <th>LastListedForSale</th>\n",
       "      <th>SellerAcceptedListingDate</th>\n",
       "      <th>Seller30DayEmailStatus</th>\n",
       "      <th>RelistedAsNewDate</th>\n",
       "      <th>ParentSaleIdForTradeIn</th>\n",
       "      <th>PrivatePartyAddressId</th>\n",
       "      <th>first_listed</th>\n",
       "      <th>last_listed</th>\n",
       "    </tr>\n",
       "  </thead>\n",
       "  <tbody>\n",
       "    <tr>\n",
       "      <th>0</th>\n",
       "      <td>1002</td>\n",
       "      <td>2012</td>\n",
       "      <td>Volkswagen</td>\n",
       "      <td>Touareg</td>\n",
       "      <td>TDI Sport 4dr SUV AWD w/Navigation  Prod. End ...</td>\n",
       "      <td>N</td>\n",
       "      <td>N</td>\n",
       "      <td>N</td>\n",
       "      <td>N/A</td>\n",
       "      <td>NaN</td>\n",
       "      <td>...</td>\n",
       "      <td>0.0</td>\n",
       "      <td>&lt;null&gt;</td>\n",
       "      <td>&lt;null&gt;</td>\n",
       "      <td>&lt;null&gt;</td>\n",
       "      <td>2.0</td>\n",
       "      <td>&lt;null&gt;</td>\n",
       "      <td>&lt;null&gt;</td>\n",
       "      <td>35924.0</td>\n",
       "      <td>NaN</td>\n",
       "      <td>NaN</td>\n",
       "    </tr>\n",
       "  </tbody>\n",
       "</table>\n",
       "<p>1 rows × 70 columns</p>\n",
       "</div>"
      ],
      "text/plain": [
       "   SaleID  Year        Make    Model  \\\n",
       "0    1002  2012  Volkswagen  Touareg   \n",
       "\n",
       "                                               Style IsActive_x OnSale  \\\n",
       "0  TDI Sport 4dr SUV AWD w/Navigation  Prod. End ...          N      N   \n",
       "\n",
       "  HasSold OfferToSeller  PrivatePrice1     ...       HasMfgBrochure  \\\n",
       "0       N           N/A            NaN     ...                  0.0   \n",
       "\n",
       "   FirstListedForSale  LastListedForSale  SellerAcceptedListingDate  \\\n",
       "0              <null>             <null>                     <null>   \n",
       "\n",
       "   Seller30DayEmailStatus  RelistedAsNewDate  ParentSaleIdForTradeIn  \\\n",
       "0                     2.0             <null>                  <null>   \n",
       "\n",
       "   PrivatePartyAddressId  first_listed  last_listed  \n",
       "0                35924.0           NaN          NaN  \n",
       "\n",
       "[1 rows x 70 columns]"
      ]
     },
     "execution_count": 31,
     "metadata": {},
     "output_type": "execute_result"
    }
   ],
   "source": [
    "# Gather all data regarding unsold vehicles into a new DataFrame\n",
    "\n",
    "unsold = data[(data.HasSold == 'N')]\n",
    "unsold.head(1)"
   ]
  },
  {
   "cell_type": "code",
   "execution_count": 32,
   "metadata": {},
   "outputs": [
    {
     "data": {
      "text/plain": [
       "dtype('O')"
      ]
     },
     "execution_count": 32,
     "metadata": {},
     "output_type": "execute_result"
    }
   ],
   "source": [
    "# Again, the initial datatype is an object; we will need to transform it to an integer datatype\n",
    "\n",
    "unsold.SalePrice.dtype"
   ]
  },
  {
   "cell_type": "code",
   "execution_count": 33,
   "metadata": {},
   "outputs": [
    {
     "data": {
      "text/plain": [
       "dtype('float64')"
      ]
     },
     "execution_count": 33,
     "metadata": {},
     "output_type": "execute_result"
    }
   ],
   "source": [
    "# Converts unsold SalePrice objects to integers \n",
    "\n",
    "usp = unsold.SalePrice\n",
    "\n",
    "# Converts variable 'usp' from objects to integers\n",
    "usp = pd.to_numeric(usp, errors = 'coerce')\n",
    "\n",
    "# Verify the object change was correct \n",
    "usp.dtype"
   ]
  },
  {
   "cell_type": "code",
   "execution_count": 34,
   "metadata": {},
   "outputs": [
    {
     "data": {
      "text/plain": [
       "27851.588152327222"
      ]
     },
     "execution_count": 34,
     "metadata": {},
     "output_type": "execute_result"
    }
   ],
   "source": [
    "# The mean price of all unsold cars\n",
    "\n",
    "usp.mean()"
   ]
  },
  {
   "cell_type": "markdown",
   "metadata": {},
   "source": [
    "## Is the difference between sold and unsold inventory statistically significant? "
   ]
  },
  {
   "cell_type": "markdown",
   "metadata": {
    "collapsed": true
   },
   "source": [
    "To test the difference, we will be analyzing the variance using an unpaired T-test of the data. ANOVA will not be used since we are comparing the mean of 2 samples. \n",
    "\n",
    "$\\mu_s$: the mean price of sold vehicles \n",
    "\n",
    "$\\mu_u$: the mean price of unsold vehicles \n",
    "\n",
    "$H_0: \\mu_s = \\mu_u$ (there is no statistical difference between unsold and sold inventory in terms of price)\n",
    "\n",
    "$H_A: \\mu_s ≠ \\mu_u$ (there is a statistical difference between prices of sold versus unsold inventory in terms of price)"
   ]
  },
  {
   "cell_type": "code",
   "execution_count": 35,
   "metadata": {},
   "outputs": [
    {
     "data": {
      "text/plain": [
       "709"
      ]
     },
     "metadata": {},
     "output_type": "display_data"
    },
    {
     "data": {
      "text/plain": [
       "2808"
      ]
     },
     "metadata": {},
     "output_type": "display_data"
    },
    {
     "data": {
      "text/plain": [
       "57.791586853250045"
      ]
     },
     "metadata": {},
     "output_type": "display_data"
    },
    {
     "data": {
      "text/plain": [
       "3.7159566572401605e-14"
      ]
     },
     "metadata": {},
     "output_type": "display_data"
    }
   ],
   "source": [
    "# Dropping all NaN values for each dataset; f_oneway function will not work with NaN values \n",
    "\n",
    "usp_n = usp.dropna()\n",
    "ssp_n = ssp.dropna() \n",
    "\n",
    "# There is a large difference between sold/unsold population sizes \n",
    "\n",
    "display(usp_n.count()) \n",
    "display(ssp_n.count()) \n",
    "\n",
    "# Despite the difference in population sizes, we can use ANOVA rather than Kruskal-Wallis since data is parametric\n",
    "fvalue, pvalue = st.f_oneway(ssp_n, usp_n)\n",
    "display(fvalue, pvalue)"
   ]
  },
  {
   "cell_type": "markdown",
   "metadata": {},
   "source": [
    "The F-Statistic is extremely high (~57.8) and the p-value is tiny, which indicates that the price difference between sold/unsold vehicles is statistically significant. We there reject the $ H_0 $ and accept the $ H_A $ that there is a statistical difference between the populations\n",
    "\n",
    "From the results, we see that unsold units had a significantly higher price than sold units (Δ ≈ 3850 dollars). This shows that unsold inventory skews toward higher priced vehicles and exposes the company to more unwanted risk since more expensive vehicles tend to lose more value over time than less expensive vehicles. \n",
    "\n",
    "Confidence intervals were not calculated since we have the entire population of unsold/sold vehicles."
   ]
  },
  {
   "cell_type": "code",
   "execution_count": 36,
   "metadata": {},
   "outputs": [
    {
     "data": {
      "text/plain": [
       "Ttest_indResult(statistic=6.5372502712991105, pvalue=1.0301273193486818e-10)"
      ]
     },
     "execution_count": 36,
     "metadata": {},
     "output_type": "execute_result"
    }
   ],
   "source": [
    "st.ttest_ind(usp_n, ssp_n, equal_var=False)"
   ]
  },
  {
   "cell_type": "code",
   "execution_count": 37,
   "metadata": {},
   "outputs": [
    {
     "data": {
      "text/plain": [
       "Ttest_indResult(statistic=7.6020777984213046, pvalue=3.7159566572438126e-14)"
      ]
     },
     "execution_count": 37,
     "metadata": {},
     "output_type": "execute_result"
    }
   ],
   "source": [
    "st.ttest_ind(usp_n, ssp_n, equal_var=True)"
   ]
  },
  {
   "cell_type": "markdown",
   "metadata": {},
   "source": [
    "## Visualizations to show the dollar range where most transactions are occurring"
   ]
  },
  {
   "cell_type": "code",
   "execution_count": 38,
   "metadata": {},
   "outputs": [
    {
     "data": {
      "image/png": "[encoded data removed]",
      "text/plain": [
       "<matplotlib.figure.Figure at 0x11a1307b8>"
      ]
     },
     "metadata": {},
     "output_type": "display_data"
    }
   ],
   "source": [
    "# A histogram of all unsold/sold vehicles by price \n",
    "\n",
    "# Drop NaNs from unsold/sold prices DFs\n",
    "a = usp.dropna()\n",
    "b = ssp.dropna()\n",
    "\n",
    "# Create a larger figure to better appreciate the nuances offered from a histogram with a larger number of bins\n",
    "plt.figure(figsize=(20,10))\n",
    "\n",
    "# Convert the series to lists in order to overlay them onto a single histogram and label them \n",
    "plt.hist(a.tolist(), bins=100, alpha=0.5, label='unsold')\n",
    "plt.hist(b.tolist(), bins=100, alpha=0.5, label='sold')\n",
    "\n",
    "# Move the legend to the upper right \n",
    "plt.legend(loc='upper right')\n",
    "\n",
    "# Label the histogram, x, and y axes \n",
    "plt.title('Prices of Unsold/Sold Beepi Vehicles')\n",
    "plt.xlabel('Price of Vehicle in USD')\n",
    "plt.ylabel('Number of Vehicles')\n",
    "plt.show()"
   ]
  },
  {
   "cell_type": "code",
   "execution_count": 39,
   "metadata": {},
   "outputs": [
    {
     "data": {
      "image/png": "[encoded data removed]",
      "text/plain": [
       "<matplotlib.figure.Figure at 0x11b9a8b00>"
      ]
     },
     "metadata": {},
     "output_type": "display_data"
    }
   ],
   "source": [
    "# A kernel density estimation plot to help visualize the pricing data in another fashion\n",
    "# We can see from the plots that the prices of both sold and unsold vehicles are clustered in the $15k - $25k area\n",
    "\n",
    "plt.figure(figsize=(20,10))\n",
    "a.plot.kde(label='unsold')\n",
    "b.plot.kde(label='sold')\n",
    "plt.legend(loc='upper right')\n",
    "plt.title('Price Density of Beepi Vehicle Inventory')\n",
    "plt.xlabel('Price of Vehicle in USD')\n",
    "plt.ylabel('Relative Density')\n",
    "plt.show()"
   ]
  },
  {
   "cell_type": "code",
   "execution_count": 40,
   "metadata": {},
   "outputs": [
    {
     "data": {
      "image/png": "[encoded data removed]",
      "text/plain": [
       "<matplotlib.figure.Figure at 0x11bc6cf60>"
      ]
     },
     "metadata": {},
     "output_type": "display_data"
    }
   ],
   "source": [
    "# A box plot to show the data in a different graphical perspective \n",
    "data_to_plot2 = [a.tolist(), b.tolist()]\n",
    "\n",
    "# Generate the graph \n",
    "fig = plt.figure(figsize=(10,10))\n",
    "ax = fig.add_subplot(111)\n",
    "bp = ax.boxplot(data_to_plot2)\n",
    "\n",
    "# General graph information \n",
    "plt.title('Box Plot: Unsold v. Sold Beepi Inventory')\n",
    "plt.xlabel('Sale Status')\n",
    "plt.ylabel('Price of Vehicle')\n",
    "\n",
    "# Setting the x-label for each dataset \n",
    "ax.set_xticklabels(['Unsold Vehicles', 'Sold Vehicles'])\n",
    "plt.show()"
   ]
  },
  {
   "cell_type": "markdown",
   "metadata": {},
   "source": [
    "## Which brand had the highest overall gross profits? The lowest? "
   ]
  },
  {
   "cell_type": "code",
   "execution_count": 41,
   "metadata": {},
   "outputs": [
    {
     "data": {
      "text/html": [
       "<div>\n",
       "<style>\n",
       "    .dataframe thead tr:only-child th {\n",
       "        text-align: right;\n",
       "    }\n",
       "\n",
       "    .dataframe thead th {\n",
       "        text-align: left;\n",
       "    }\n",
       "\n",
       "    .dataframe tbody tr th {\n",
       "        vertical-align: top;\n",
       "    }\n",
       "</style>\n",
       "<table border=\"1\" class=\"dataframe\">\n",
       "  <thead>\n",
       "    <tr style=\"text-align: right;\">\n",
       "      <th></th>\n",
       "      <th>Year</th>\n",
       "      <th>Make</th>\n",
       "      <th>Model</th>\n",
       "      <th>Style</th>\n",
       "      <th>OfferToSeller</th>\n",
       "      <th>SalePrice</th>\n",
       "    </tr>\n",
       "  </thead>\n",
       "  <tbody>\n",
       "    <tr>\n",
       "      <th>2</th>\n",
       "      <td>2012</td>\n",
       "      <td>Volkswagen</td>\n",
       "      <td>GTI</td>\n",
       "      <td>PZEV 4dr Hatchback w/Sunroof  Navigation (2.0L...</td>\n",
       "      <td>18495</td>\n",
       "      <td>20100</td>\n",
       "    </tr>\n",
       "  </tbody>\n",
       "</table>\n",
       "</div>"
      ],
      "text/plain": [
       "   Year        Make Model                                              Style  \\\n",
       "2  2012  Volkswagen   GTI  PZEV 4dr Hatchback w/Sunroof  Navigation (2.0L...   \n",
       "\n",
       "  OfferToSeller SalePrice  \n",
       "2         18495     20100  "
      ]
     },
     "execution_count": 41,
     "metadata": {},
     "output_type": "execute_result"
    }
   ],
   "source": [
    "profits = sold[['Year','Make', 'Model', 'Style', 'OfferToSeller', 'SalePrice']]\n",
    "profits.head(1)"
   ]
  },
  {
   "cell_type": "code",
   "execution_count": 42,
   "metadata": {},
   "outputs": [
    {
     "data": {
      "text/plain": [
       "dtype('O')"
      ]
     },
     "execution_count": 42,
     "metadata": {},
     "output_type": "execute_result"
    }
   ],
   "source": [
    "# We need to transform the Offer To Seller column from an object type to a integer type\n",
    "\n",
    "profits.OfferToSeller.dtype\n",
    "profits.SalePrice.dtype"
   ]
  },
  {
   "cell_type": "code",
   "execution_count": 43,
   "metadata": {
    "collapsed": true
   },
   "outputs": [],
   "source": [
    "# Converts Offer To Seller & Sale Price to the integer type \n",
    "\n",
    "ots = pd.to_numeric(profits.OfferToSeller, errors='coerce')\n",
    "sp = pd.to_numeric(profits.SalePrice, errors='coerce')"
   ]
  },
  {
   "cell_type": "code",
   "execution_count": 44,
   "metadata": {},
   "outputs": [
    {
     "data": {
      "text/html": [
       "<div>\n",
       "<style>\n",
       "    .dataframe thead tr:only-child th {\n",
       "        text-align: right;\n",
       "    }\n",
       "\n",
       "    .dataframe thead th {\n",
       "        text-align: left;\n",
       "    }\n",
       "\n",
       "    .dataframe tbody tr th {\n",
       "        vertical-align: top;\n",
       "    }\n",
       "</style>\n",
       "<table border=\"1\" class=\"dataframe\">\n",
       "  <thead>\n",
       "    <tr style=\"text-align: right;\">\n",
       "      <th></th>\n",
       "      <th>Profit</th>\n",
       "    </tr>\n",
       "    <tr>\n",
       "      <th>Make</th>\n",
       "      <th></th>\n",
       "    </tr>\n",
       "  </thead>\n",
       "  <tbody>\n",
       "    <tr>\n",
       "      <th>Honda</th>\n",
       "      <td>113600.0</td>\n",
       "    </tr>\n",
       "    <tr>\n",
       "      <th>Toyota</th>\n",
       "      <td>49187.0</td>\n",
       "    </tr>\n",
       "    <tr>\n",
       "      <th>Mazda</th>\n",
       "      <td>44690.0</td>\n",
       "    </tr>\n",
       "    <tr>\n",
       "      <th>MINI</th>\n",
       "      <td>42233.0</td>\n",
       "    </tr>\n",
       "    <tr>\n",
       "      <th>Volkswagen</th>\n",
       "      <td>38462.0</td>\n",
       "    </tr>\n",
       "  </tbody>\n",
       "</table>\n",
       "</div>"
      ],
      "text/plain": [
       "              Profit\n",
       "Make                \n",
       "Honda       113600.0\n",
       "Toyota       49187.0\n",
       "Mazda        44690.0\n",
       "MINI         42233.0\n",
       "Volkswagen   38462.0"
      ]
     },
     "metadata": {},
     "output_type": "display_data"
    },
    {
     "data": {
      "text/html": [
       "<div>\n",
       "<style>\n",
       "    .dataframe thead tr:only-child th {\n",
       "        text-align: right;\n",
       "    }\n",
       "\n",
       "    .dataframe thead th {\n",
       "        text-align: left;\n",
       "    }\n",
       "\n",
       "    .dataframe tbody tr th {\n",
       "        vertical-align: top;\n",
       "    }\n",
       "</style>\n",
       "<table border=\"1\" class=\"dataframe\">\n",
       "  <thead>\n",
       "    <tr style=\"text-align: right;\">\n",
       "      <th></th>\n",
       "      <th>Profit</th>\n",
       "    </tr>\n",
       "    <tr>\n",
       "      <th>Make</th>\n",
       "      <th></th>\n",
       "    </tr>\n",
       "  </thead>\n",
       "  <tbody>\n",
       "    <tr>\n",
       "      <th>Nissan</th>\n",
       "      <td>-29578.0</td>\n",
       "    </tr>\n",
       "    <tr>\n",
       "      <th>Jaguar</th>\n",
       "      <td>-31850.0</td>\n",
       "    </tr>\n",
       "    <tr>\n",
       "      <th>Porsche</th>\n",
       "      <td>-35995.0</td>\n",
       "    </tr>\n",
       "    <tr>\n",
       "      <th>Mercedes-Benz</th>\n",
       "      <td>-49663.0</td>\n",
       "    </tr>\n",
       "    <tr>\n",
       "      <th>BMW</th>\n",
       "      <td>-133857.0</td>\n",
       "    </tr>\n",
       "  </tbody>\n",
       "</table>\n",
       "</div>"
      ],
      "text/plain": [
       "                 Profit\n",
       "Make                   \n",
       "Nissan         -29578.0\n",
       "Jaguar         -31850.0\n",
       "Porsche        -35995.0\n",
       "Mercedes-Benz  -49663.0\n",
       "BMW           -133857.0"
      ]
     },
     "metadata": {},
     "output_type": "display_data"
    }
   ],
   "source": [
    "# Errors were thrown when I used the following code to add a 'Profit' column to the dataframe:\n",
    "# profits['Profit'] = sp - ots\n",
    "# profits.loc[: ,'Profit'] = (sp - ots)\n",
    "\n",
    "# I ended up using this solution instead\n",
    "profit = sp - ots\n",
    "profits = profits.assign(Profit=profit)\n",
    "\n",
    "# # Total number of units sold by Make for the scatterplot \n",
    "# numunits = profits.Make.value_counts()\n",
    "\n",
    "# I then grouped and sorted the total profits/losses generated by Make\n",
    "p = profits[['Make', 'Model', 'Profit']]\n",
    "p = p.dropna()\n",
    "pp = p.groupby(by='Make').sum().sort_values(by='Profit', ascending=False)\n",
    "\n",
    "display(pp.head())\n",
    "display(pp.tail())"
   ]
  },
  {
   "cell_type": "markdown",
   "metadata": {},
   "source": [
    "From the results, it is clear that Honda generated the most profits; BMW generated negative profits.  From the profit by make analysis, it is clear that some makes are outperforming others. However we should break this down by vehicle model to better understand the nuances of the data."
   ]
  },
  {
   "cell_type": "code",
   "execution_count": 45,
   "metadata": {
    "scrolled": true
   },
   "outputs": [
    {
     "data": {
      "text/html": [
       "<div>\n",
       "<style>\n",
       "    .dataframe thead tr:only-child th {\n",
       "        text-align: right;\n",
       "    }\n",
       "\n",
       "    .dataframe thead th {\n",
       "        text-align: left;\n",
       "    }\n",
       "\n",
       "    .dataframe tbody tr th {\n",
       "        vertical-align: top;\n",
       "    }\n",
       "</style>\n",
       "<table border=\"1\" class=\"dataframe\">\n",
       "  <thead>\n",
       "    <tr style=\"text-align: right;\">\n",
       "      <th></th>\n",
       "      <th>Model</th>\n",
       "      <th>Profit</th>\n",
       "      <th>Count</th>\n",
       "    </tr>\n",
       "  </thead>\n",
       "  <tbody>\n",
       "    <tr>\n",
       "      <th>0</th>\n",
       "      <td>A5</td>\n",
       "      <td>40287.0</td>\n",
       "      <td>24</td>\n",
       "    </tr>\n",
       "    <tr>\n",
       "      <th>1</th>\n",
       "      <td>Civic</td>\n",
       "      <td>34411.0</td>\n",
       "      <td>127</td>\n",
       "    </tr>\n",
       "    <tr>\n",
       "      <th>2</th>\n",
       "      <td>Accord</td>\n",
       "      <td>30971.0</td>\n",
       "      <td>86</td>\n",
       "    </tr>\n",
       "    <tr>\n",
       "      <th>3</th>\n",
       "      <td>Cooper</td>\n",
       "      <td>27305.0</td>\n",
       "      <td>92</td>\n",
       "    </tr>\n",
       "    <tr>\n",
       "      <th>4</th>\n",
       "      <td>GTI</td>\n",
       "      <td>21785.0</td>\n",
       "      <td>32</td>\n",
       "    </tr>\n",
       "    <tr>\n",
       "      <th>5</th>\n",
       "      <td>Q5</td>\n",
       "      <td>19817.0</td>\n",
       "      <td>30</td>\n",
       "    </tr>\n",
       "    <tr>\n",
       "      <th>6</th>\n",
       "      <td>MAZDA3</td>\n",
       "      <td>18877.0</td>\n",
       "      <td>52</td>\n",
       "    </tr>\n",
       "    <tr>\n",
       "      <th>7</th>\n",
       "      <td>Crosstour</td>\n",
       "      <td>18511.0</td>\n",
       "      <td>5</td>\n",
       "    </tr>\n",
       "    <tr>\n",
       "      <th>8</th>\n",
       "      <td>Prius</td>\n",
       "      <td>18091.0</td>\n",
       "      <td>63</td>\n",
       "    </tr>\n",
       "    <tr>\n",
       "      <th>9</th>\n",
       "      <td>X3</td>\n",
       "      <td>17112.0</td>\n",
       "      <td>27</td>\n",
       "    </tr>\n",
       "  </tbody>\n",
       "</table>\n",
       "</div>"
      ],
      "text/plain": [
       "       Model   Profit  Count\n",
       "0         A5  40287.0     24\n",
       "1      Civic  34411.0    127\n",
       "2     Accord  30971.0     86\n",
       "3     Cooper  27305.0     92\n",
       "4        GTI  21785.0     32\n",
       "5         Q5  19817.0     30\n",
       "6     MAZDA3  18877.0     52\n",
       "7  Crosstour  18511.0      5\n",
       "8      Prius  18091.0     63\n",
       "9         X3  17112.0     27"
      ]
     },
     "metadata": {},
     "output_type": "display_data"
    },
    {
     "data": {
      "text/html": [
       "<div>\n",
       "<style>\n",
       "    .dataframe thead tr:only-child th {\n",
       "        text-align: right;\n",
       "    }\n",
       "\n",
       "    .dataframe thead th {\n",
       "        text-align: left;\n",
       "    }\n",
       "\n",
       "    .dataframe tbody tr th {\n",
       "        vertical-align: top;\n",
       "    }\n",
       "</style>\n",
       "<table border=\"1\" class=\"dataframe\">\n",
       "  <thead>\n",
       "    <tr style=\"text-align: right;\">\n",
       "      <th></th>\n",
       "      <th>Model</th>\n",
       "      <th>Profit</th>\n",
       "      <th>Count</th>\n",
       "    </tr>\n",
       "  </thead>\n",
       "  <tbody>\n",
       "    <tr>\n",
       "      <th>291</th>\n",
       "      <td>7 Series</td>\n",
       "      <td>-18392.0</td>\n",
       "      <td>10</td>\n",
       "    </tr>\n",
       "    <tr>\n",
       "      <th>292</th>\n",
       "      <td>XF</td>\n",
       "      <td>-18901.0</td>\n",
       "      <td>5</td>\n",
       "    </tr>\n",
       "    <tr>\n",
       "      <th>293</th>\n",
       "      <td>Panamera</td>\n",
       "      <td>-20203.0</td>\n",
       "      <td>8</td>\n",
       "    </tr>\n",
       "    <tr>\n",
       "      <th>294</th>\n",
       "      <td>SL-Class</td>\n",
       "      <td>-23259.0</td>\n",
       "      <td>2</td>\n",
       "    </tr>\n",
       "    <tr>\n",
       "      <th>295</th>\n",
       "      <td>i3</td>\n",
       "      <td>-26373.0</td>\n",
       "      <td>5</td>\n",
       "    </tr>\n",
       "    <tr>\n",
       "      <th>296</th>\n",
       "      <td>911</td>\n",
       "      <td>-26464.0</td>\n",
       "      <td>14</td>\n",
       "    </tr>\n",
       "    <tr>\n",
       "      <th>297</th>\n",
       "      <td>Model S</td>\n",
       "      <td>-29280.0</td>\n",
       "      <td>7</td>\n",
       "    </tr>\n",
       "    <tr>\n",
       "      <th>298</th>\n",
       "      <td>RAV4 EV</td>\n",
       "      <td>-32145.0</td>\n",
       "      <td>3</td>\n",
       "    </tr>\n",
       "    <tr>\n",
       "      <th>299</th>\n",
       "      <td>Leaf</td>\n",
       "      <td>-52843.0</td>\n",
       "      <td>10</td>\n",
       "    </tr>\n",
       "    <tr>\n",
       "      <th>300</th>\n",
       "      <td>5 Series</td>\n",
       "      <td>-75306.0</td>\n",
       "      <td>42</td>\n",
       "    </tr>\n",
       "  </tbody>\n",
       "</table>\n",
       "</div>"
      ],
      "text/plain": [
       "        Model   Profit  Count\n",
       "291  7 Series -18392.0     10\n",
       "292        XF -18901.0      5\n",
       "293  Panamera -20203.0      8\n",
       "294  SL-Class -23259.0      2\n",
       "295        i3 -26373.0      5\n",
       "296       911 -26464.0     14\n",
       "297   Model S -29280.0      7\n",
       "298   RAV4 EV -32145.0      3\n",
       "299      Leaf -52843.0     10\n",
       "300  5 Series -75306.0     42"
      ]
     },
     "metadata": {},
     "output_type": "display_data"
    }
   ],
   "source": [
    "# Create a dictionary to index Models by count and profit per unit \n",
    "pm = profits[['Model', 'Profit']].dropna()\n",
    "pm_nums = pm.groupby('Model').count().reset_index()\n",
    "model_dict = dict(zip(pm_nums['Model'].values, pm_nums['Profit'].values))\n",
    "\n",
    "pmg = pm.groupby(by='Model').sum().sort_values(by='Profit', ascending=False)\n",
    "pmg_two = pmg.reset_index()\n",
    "pmg_two['Count'] = pmg_two.Model.map(model_dict)\n",
    "display(pmg_two.sort_values(by='Profit', ascending=False).head(10))\n",
    "display(pmg_two.sort_values(by='Profit', ascending=False).tail(10))"
   ]
  },
  {
   "cell_type": "markdown",
   "metadata": {},
   "source": [
    "Based on the results, we can clearly see that some models are outperforming others, irrespective of make. For example, the BMW make as a whole has generated a profit loss. However, we see that the X3 model is top 10 profit generators while the 5-Series model generates the largest losses."
   ]
  },
  {
   "cell_type": "code",
   "execution_count": 46,
   "metadata": {},
   "outputs": [
    {
     "data": {
      "text/html": [
       "<div>\n",
       "<style>\n",
       "    .dataframe thead tr:only-child th {\n",
       "        text-align: right;\n",
       "    }\n",
       "\n",
       "    .dataframe thead th {\n",
       "        text-align: left;\n",
       "    }\n",
       "\n",
       "    .dataframe tbody tr th {\n",
       "        vertical-align: top;\n",
       "    }\n",
       "</style>\n",
       "<table border=\"1\" class=\"dataframe\">\n",
       "  <thead>\n",
       "    <tr style=\"text-align: right;\">\n",
       "      <th></th>\n",
       "      <th>Model</th>\n",
       "      <th>Profit</th>\n",
       "      <th>Count</th>\n",
       "      <th>profit_per_unit</th>\n",
       "    </tr>\n",
       "  </thead>\n",
       "  <tbody>\n",
       "    <tr>\n",
       "      <th>7</th>\n",
       "      <td>Crosstour</td>\n",
       "      <td>18511.0</td>\n",
       "      <td>5</td>\n",
       "      <td>3702.200</td>\n",
       "    </tr>\n",
       "    <tr>\n",
       "      <th>111</th>\n",
       "      <td>Cube</td>\n",
       "      <td>1726.0</td>\n",
       "      <td>1</td>\n",
       "      <td>1726.000</td>\n",
       "    </tr>\n",
       "    <tr>\n",
       "      <th>0</th>\n",
       "      <td>A5</td>\n",
       "      <td>40287.0</td>\n",
       "      <td>24</td>\n",
       "      <td>1678.625</td>\n",
       "    </tr>\n",
       "    <tr>\n",
       "      <th>126</th>\n",
       "      <td>S80</td>\n",
       "      <td>1387.0</td>\n",
       "      <td>1</td>\n",
       "      <td>1387.000</td>\n",
       "    </tr>\n",
       "    <tr>\n",
       "      <th>89</th>\n",
       "      <td>C70</td>\n",
       "      <td>2684.0</td>\n",
       "      <td>2</td>\n",
       "      <td>1342.000</td>\n",
       "    </tr>\n",
       "    <tr>\n",
       "      <th>128</th>\n",
       "      <td>Cruze Limited</td>\n",
       "      <td>1300.0</td>\n",
       "      <td>1</td>\n",
       "      <td>1300.000</td>\n",
       "    </tr>\n",
       "    <tr>\n",
       "      <th>39</th>\n",
       "      <td>C30</td>\n",
       "      <td>6346.0</td>\n",
       "      <td>5</td>\n",
       "      <td>1269.200</td>\n",
       "    </tr>\n",
       "    <tr>\n",
       "      <th>94</th>\n",
       "      <td>IS F</td>\n",
       "      <td>2519.0</td>\n",
       "      <td>2</td>\n",
       "      <td>1259.500</td>\n",
       "    </tr>\n",
       "    <tr>\n",
       "      <th>134</th>\n",
       "      <td>Suburban</td>\n",
       "      <td>1124.0</td>\n",
       "      <td>1</td>\n",
       "      <td>1124.000</td>\n",
       "    </tr>\n",
       "    <tr>\n",
       "      <th>99</th>\n",
       "      <td>New Beetle</td>\n",
       "      <td>2173.0</td>\n",
       "      <td>2</td>\n",
       "      <td>1086.500</td>\n",
       "    </tr>\n",
       "  </tbody>\n",
       "</table>\n",
       "</div>"
      ],
      "text/plain": [
       "             Model   Profit  Count  profit_per_unit\n",
       "7        Crosstour  18511.0      5         3702.200\n",
       "111           Cube   1726.0      1         1726.000\n",
       "0               A5  40287.0     24         1678.625\n",
       "126            S80   1387.0      1         1387.000\n",
       "89             C70   2684.0      2         1342.000\n",
       "128  Cruze Limited   1300.0      1         1300.000\n",
       "39             C30   6346.0      5         1269.200\n",
       "94            IS F   2519.0      2         1259.500\n",
       "134       Suburban   1124.0      1         1124.000\n",
       "99      New Beetle   2173.0      2         1086.500"
      ]
     },
     "metadata": {},
     "output_type": "display_data"
    },
    {
     "data": {
      "text/html": [
       "<div>\n",
       "<style>\n",
       "    .dataframe thead tr:only-child th {\n",
       "        text-align: right;\n",
       "    }\n",
       "\n",
       "    .dataframe thead th {\n",
       "        text-align: left;\n",
       "    }\n",
       "\n",
       "    .dataframe tbody tr th {\n",
       "        vertical-align: top;\n",
       "    }\n",
       "</style>\n",
       "<table border=\"1\" class=\"dataframe\">\n",
       "  <thead>\n",
       "    <tr style=\"text-align: right;\">\n",
       "      <th></th>\n",
       "      <th>Model</th>\n",
       "      <th>Profit</th>\n",
       "      <th>Count</th>\n",
       "      <th>profit_per_unit</th>\n",
       "    </tr>\n",
       "  </thead>\n",
       "  <tbody>\n",
       "    <tr>\n",
       "      <th>295</th>\n",
       "      <td>i3</td>\n",
       "      <td>-26373.0</td>\n",
       "      <td>5</td>\n",
       "      <td>-5274.6</td>\n",
       "    </tr>\n",
       "    <tr>\n",
       "      <th>299</th>\n",
       "      <td>Leaf</td>\n",
       "      <td>-52843.0</td>\n",
       "      <td>10</td>\n",
       "      <td>-5284.3</td>\n",
       "    </tr>\n",
       "    <tr>\n",
       "      <th>262</th>\n",
       "      <td>XK-Series</td>\n",
       "      <td>-6400.0</td>\n",
       "      <td>1</td>\n",
       "      <td>-6400.0</td>\n",
       "    </tr>\n",
       "    <tr>\n",
       "      <th>269</th>\n",
       "      <td>RC 350</td>\n",
       "      <td>-7226.0</td>\n",
       "      <td>1</td>\n",
       "      <td>-7226.0</td>\n",
       "    </tr>\n",
       "    <tr>\n",
       "      <th>288</th>\n",
       "      <td>A8</td>\n",
       "      <td>-16615.0</td>\n",
       "      <td>2</td>\n",
       "      <td>-8307.5</td>\n",
       "    </tr>\n",
       "    <tr>\n",
       "      <th>289</th>\n",
       "      <td>CLS-Class</td>\n",
       "      <td>-17109.0</td>\n",
       "      <td>2</td>\n",
       "      <td>-8554.5</td>\n",
       "    </tr>\n",
       "    <tr>\n",
       "      <th>298</th>\n",
       "      <td>RAV4 EV</td>\n",
       "      <td>-32145.0</td>\n",
       "      <td>3</td>\n",
       "      <td>-10715.0</td>\n",
       "    </tr>\n",
       "    <tr>\n",
       "      <th>280</th>\n",
       "      <td>G-Class</td>\n",
       "      <td>-10825.0</td>\n",
       "      <td>1</td>\n",
       "      <td>-10825.0</td>\n",
       "    </tr>\n",
       "    <tr>\n",
       "      <th>294</th>\n",
       "      <td>SL-Class</td>\n",
       "      <td>-23259.0</td>\n",
       "      <td>2</td>\n",
       "      <td>-11629.5</td>\n",
       "    </tr>\n",
       "    <tr>\n",
       "      <th>290</th>\n",
       "      <td>6 Series Gran Coupe</td>\n",
       "      <td>-18204.0</td>\n",
       "      <td>1</td>\n",
       "      <td>-18204.0</td>\n",
       "    </tr>\n",
       "  </tbody>\n",
       "</table>\n",
       "</div>"
      ],
      "text/plain": [
       "                   Model   Profit  Count  profit_per_unit\n",
       "295                   i3 -26373.0      5          -5274.6\n",
       "299                 Leaf -52843.0     10          -5284.3\n",
       "262            XK-Series  -6400.0      1          -6400.0\n",
       "269               RC 350  -7226.0      1          -7226.0\n",
       "288                   A8 -16615.0      2          -8307.5\n",
       "289            CLS-Class -17109.0      2          -8554.5\n",
       "298              RAV4 EV -32145.0      3         -10715.0\n",
       "280              G-Class -10825.0      1         -10825.0\n",
       "294             SL-Class -23259.0      2         -11629.5\n",
       "290  6 Series Gran Coupe -18204.0      1         -18204.0"
      ]
     },
     "metadata": {},
     "output_type": "display_data"
    }
   ],
   "source": [
    "# Profit per unit \n",
    "pmg_two['profit_per_unit'] = pmg_two['Profit'] / pmg_two['Count']\n",
    "display(pmg_two.sort_values(by='profit_per_unit', ascending=False).head(10))\n",
    "display(pmg_two.sort_values(by='profit_per_unit', ascending=False).tail(10))"
   ]
  },
  {
   "cell_type": "code",
   "execution_count": 47,
   "metadata": {},
   "outputs": [
    {
     "data": {
      "text/html": [
       "<div>\n",
       "<style>\n",
       "    .dataframe thead tr:only-child th {\n",
       "        text-align: right;\n",
       "    }\n",
       "\n",
       "    .dataframe thead th {\n",
       "        text-align: left;\n",
       "    }\n",
       "\n",
       "    .dataframe tbody tr th {\n",
       "        vertical-align: top;\n",
       "    }\n",
       "</style>\n",
       "<table border=\"1\" class=\"dataframe\">\n",
       "  <thead>\n",
       "    <tr style=\"text-align: right;\">\n",
       "      <th></th>\n",
       "      <th>Model</th>\n",
       "      <th>Profit</th>\n",
       "      <th>Count</th>\n",
       "      <th>profit_per_unit</th>\n",
       "    </tr>\n",
       "  </thead>\n",
       "  <tbody>\n",
       "    <tr>\n",
       "      <th>0</th>\n",
       "      <td>A5</td>\n",
       "      <td>40287.0</td>\n",
       "      <td>24</td>\n",
       "      <td>1678.625000</td>\n",
       "    </tr>\n",
       "    <tr>\n",
       "      <th>14</th>\n",
       "      <td>GLK-Class</td>\n",
       "      <td>12169.0</td>\n",
       "      <td>12</td>\n",
       "      <td>1014.083333</td>\n",
       "    </tr>\n",
       "    <tr>\n",
       "      <th>24</th>\n",
       "      <td>Outback</td>\n",
       "      <td>10106.0</td>\n",
       "      <td>13</td>\n",
       "      <td>777.384615</td>\n",
       "    </tr>\n",
       "    <tr>\n",
       "      <th>26</th>\n",
       "      <td>MX-5 Miata</td>\n",
       "      <td>9426.0</td>\n",
       "      <td>13</td>\n",
       "      <td>725.076923</td>\n",
       "    </tr>\n",
       "    <tr>\n",
       "      <th>4</th>\n",
       "      <td>GTI</td>\n",
       "      <td>21785.0</td>\n",
       "      <td>32</td>\n",
       "      <td>680.781250</td>\n",
       "    </tr>\n",
       "    <tr>\n",
       "      <th>5</th>\n",
       "      <td>Q5</td>\n",
       "      <td>19817.0</td>\n",
       "      <td>30</td>\n",
       "      <td>660.566667</td>\n",
       "    </tr>\n",
       "    <tr>\n",
       "      <th>9</th>\n",
       "      <td>X3</td>\n",
       "      <td>17112.0</td>\n",
       "      <td>27</td>\n",
       "      <td>633.777778</td>\n",
       "    </tr>\n",
       "    <tr>\n",
       "      <th>36</th>\n",
       "      <td>Sienna</td>\n",
       "      <td>6800.0</td>\n",
       "      <td>11</td>\n",
       "      <td>618.181818</td>\n",
       "    </tr>\n",
       "    <tr>\n",
       "      <th>17</th>\n",
       "      <td>RX 350</td>\n",
       "      <td>11671.0</td>\n",
       "      <td>19</td>\n",
       "      <td>614.263158</td>\n",
       "    </tr>\n",
       "    <tr>\n",
       "      <th>25</th>\n",
       "      <td>Escape</td>\n",
       "      <td>9427.0</td>\n",
       "      <td>16</td>\n",
       "      <td>589.187500</td>\n",
       "    </tr>\n",
       "  </tbody>\n",
       "</table>\n",
       "</div>"
      ],
      "text/plain": [
       "         Model   Profit  Count  profit_per_unit\n",
       "0           A5  40287.0     24      1678.625000\n",
       "14   GLK-Class  12169.0     12      1014.083333\n",
       "24     Outback  10106.0     13       777.384615\n",
       "26  MX-5 Miata   9426.0     13       725.076923\n",
       "4          GTI  21785.0     32       680.781250\n",
       "5           Q5  19817.0     30       660.566667\n",
       "9           X3  17112.0     27       633.777778\n",
       "36      Sienna   6800.0     11       618.181818\n",
       "17      RX 350  11671.0     19       614.263158\n",
       "25      Escape   9427.0     16       589.187500"
      ]
     },
     "metadata": {},
     "output_type": "display_data"
    },
    {
     "data": {
      "text/html": [
       "<div>\n",
       "<style>\n",
       "    .dataframe thead tr:only-child th {\n",
       "        text-align: right;\n",
       "    }\n",
       "\n",
       "    .dataframe thead th {\n",
       "        text-align: left;\n",
       "    }\n",
       "\n",
       "    .dataframe tbody tr th {\n",
       "        vertical-align: top;\n",
       "    }\n",
       "</style>\n",
       "<table border=\"1\" class=\"dataframe\">\n",
       "  <thead>\n",
       "    <tr style=\"text-align: right;\">\n",
       "      <th></th>\n",
       "      <th>Model</th>\n",
       "      <th>Profit</th>\n",
       "      <th>Count</th>\n",
       "      <th>profit_per_unit</th>\n",
       "    </tr>\n",
       "  </thead>\n",
       "  <tbody>\n",
       "    <tr>\n",
       "      <th>287</th>\n",
       "      <td>E-Class</td>\n",
       "      <td>-16135.0</td>\n",
       "      <td>31</td>\n",
       "      <td>-520.483871</td>\n",
       "    </tr>\n",
       "    <tr>\n",
       "      <th>263</th>\n",
       "      <td>Silverado 1500</td>\n",
       "      <td>-6426.0</td>\n",
       "      <td>12</td>\n",
       "      <td>-535.500000</td>\n",
       "    </tr>\n",
       "    <tr>\n",
       "      <th>273</th>\n",
       "      <td>S5</td>\n",
       "      <td>-8834.0</td>\n",
       "      <td>16</td>\n",
       "      <td>-552.125000</td>\n",
       "    </tr>\n",
       "    <tr>\n",
       "      <th>276</th>\n",
       "      <td>ILX</td>\n",
       "      <td>-9680.0</td>\n",
       "      <td>17</td>\n",
       "      <td>-569.411765</td>\n",
       "    </tr>\n",
       "    <tr>\n",
       "      <th>274</th>\n",
       "      <td>S4</td>\n",
       "      <td>-9130.0</td>\n",
       "      <td>15</td>\n",
       "      <td>-608.666667</td>\n",
       "    </tr>\n",
       "    <tr>\n",
       "      <th>285</th>\n",
       "      <td>X5</td>\n",
       "      <td>-15584.0</td>\n",
       "      <td>24</td>\n",
       "      <td>-649.333333</td>\n",
       "    </tr>\n",
       "    <tr>\n",
       "      <th>277</th>\n",
       "      <td>370Z</td>\n",
       "      <td>-10142.0</td>\n",
       "      <td>15</td>\n",
       "      <td>-676.133333</td>\n",
       "    </tr>\n",
       "    <tr>\n",
       "      <th>283</th>\n",
       "      <td>Focus</td>\n",
       "      <td>-12997.0</td>\n",
       "      <td>11</td>\n",
       "      <td>-1181.545455</td>\n",
       "    </tr>\n",
       "    <tr>\n",
       "      <th>300</th>\n",
       "      <td>5 Series</td>\n",
       "      <td>-75306.0</td>\n",
       "      <td>42</td>\n",
       "      <td>-1793.000000</td>\n",
       "    </tr>\n",
       "    <tr>\n",
       "      <th>296</th>\n",
       "      <td>911</td>\n",
       "      <td>-26464.0</td>\n",
       "      <td>14</td>\n",
       "      <td>-1890.285714</td>\n",
       "    </tr>\n",
       "  </tbody>\n",
       "</table>\n",
       "</div>"
      ],
      "text/plain": [
       "              Model   Profit  Count  profit_per_unit\n",
       "287         E-Class -16135.0     31      -520.483871\n",
       "263  Silverado 1500  -6426.0     12      -535.500000\n",
       "273              S5  -8834.0     16      -552.125000\n",
       "276             ILX  -9680.0     17      -569.411765\n",
       "274              S4  -9130.0     15      -608.666667\n",
       "285              X5 -15584.0     24      -649.333333\n",
       "277            370Z -10142.0     15      -676.133333\n",
       "283           Focus -12997.0     11     -1181.545455\n",
       "300        5 Series -75306.0     42     -1793.000000\n",
       "296             911 -26464.0     14     -1890.285714"
      ]
     },
     "metadata": {},
     "output_type": "display_data"
    }
   ],
   "source": [
    "# Profit per unit by models with more than 10 transactions \n",
    "pmg_three = pmg_two[pmg_two.Count > 10]\n",
    "display(pmg_three.sort_values(by='profit_per_unit', ascending=False).head(10))\n",
    "display(pmg_three.sort_values(by='profit_per_unit', ascending=False).tail(10))"
   ]
  },
  {
   "cell_type": "markdown",
   "metadata": {},
   "source": [
    "# Let's take a closer look at the BMW model range to see how specific models performed:"
   ]
  },
  {
   "cell_type": "code",
   "execution_count": 48,
   "metadata": {
    "collapsed": true
   },
   "outputs": [],
   "source": [
    "bmw = profits[(profits.Make == 'BMW')]\n",
    "\n",
    "num_sold = bmw.groupby(by='Model').count()\n",
    "num_profit = bmw.groupby(by='Model').sum()"
   ]
  },
  {
   "cell_type": "code",
   "execution_count": 49,
   "metadata": {
    "scrolled": true
   },
   "outputs": [
    {
     "data": {
      "text/html": [
       "<div>\n",
       "<style>\n",
       "    .dataframe thead tr:only-child th {\n",
       "        text-align: right;\n",
       "    }\n",
       "\n",
       "    .dataframe thead th {\n",
       "        text-align: left;\n",
       "    }\n",
       "\n",
       "    .dataframe tbody tr th {\n",
       "        vertical-align: top;\n",
       "    }\n",
       "</style>\n",
       "<table border=\"1\" class=\"dataframe\">\n",
       "  <thead>\n",
       "    <tr style=\"text-align: right;\">\n",
       "      <th></th>\n",
       "      <th>Profit</th>\n",
       "    </tr>\n",
       "    <tr>\n",
       "      <th>Model</th>\n",
       "      <th></th>\n",
       "    </tr>\n",
       "  </thead>\n",
       "  <tbody>\n",
       "    <tr>\n",
       "      <th>3 Series</th>\n",
       "      <td>100</td>\n",
       "    </tr>\n",
       "    <tr>\n",
       "      <th>5 Series</th>\n",
       "      <td>42</td>\n",
       "    </tr>\n",
       "    <tr>\n",
       "      <th>1 Series</th>\n",
       "      <td>28</td>\n",
       "    </tr>\n",
       "    <tr>\n",
       "      <th>X3</th>\n",
       "      <td>27</td>\n",
       "    </tr>\n",
       "    <tr>\n",
       "      <th>X5</th>\n",
       "      <td>24</td>\n",
       "    </tr>\n",
       "    <tr>\n",
       "      <th>7 Series</th>\n",
       "      <td>10</td>\n",
       "    </tr>\n",
       "    <tr>\n",
       "      <th>6 Series</th>\n",
       "      <td>9</td>\n",
       "    </tr>\n",
       "    <tr>\n",
       "      <th>X1</th>\n",
       "      <td>9</td>\n",
       "    </tr>\n",
       "    <tr>\n",
       "      <th>4 Series</th>\n",
       "      <td>8</td>\n",
       "    </tr>\n",
       "    <tr>\n",
       "      <th>Z4</th>\n",
       "      <td>7</td>\n",
       "    </tr>\n",
       "    <tr>\n",
       "      <th>i3</th>\n",
       "      <td>5</td>\n",
       "    </tr>\n",
       "    <tr>\n",
       "      <th>2 Series</th>\n",
       "      <td>4</td>\n",
       "    </tr>\n",
       "    <tr>\n",
       "      <th>X6</th>\n",
       "      <td>4</td>\n",
       "    </tr>\n",
       "    <tr>\n",
       "      <th>M3</th>\n",
       "      <td>4</td>\n",
       "    </tr>\n",
       "    <tr>\n",
       "      <th>M5</th>\n",
       "      <td>3</td>\n",
       "    </tr>\n",
       "    <tr>\n",
       "      <th>M6</th>\n",
       "      <td>3</td>\n",
       "    </tr>\n",
       "    <tr>\n",
       "      <th>M4</th>\n",
       "      <td>2</td>\n",
       "    </tr>\n",
       "    <tr>\n",
       "      <th>M6 Gran Coupe</th>\n",
       "      <td>1</td>\n",
       "    </tr>\n",
       "    <tr>\n",
       "      <th>6 Series Gran Coupe</th>\n",
       "      <td>1</td>\n",
       "    </tr>\n",
       "    <tr>\n",
       "      <th>5 Series Gran Turismo</th>\n",
       "      <td>0</td>\n",
       "    </tr>\n",
       "    <tr>\n",
       "      <th>X4</th>\n",
       "      <td>0</td>\n",
       "    </tr>\n",
       "    <tr>\n",
       "      <th>4 Series Gran Coupe</th>\n",
       "      <td>0</td>\n",
       "    </tr>\n",
       "    <tr>\n",
       "      <th>3 Series Gran Turismo</th>\n",
       "      <td>0</td>\n",
       "    </tr>\n",
       "  </tbody>\n",
       "</table>\n",
       "</div>"
      ],
      "text/plain": [
       "                       Profit\n",
       "Model                        \n",
       "3 Series                  100\n",
       "5 Series                   42\n",
       "1 Series                   28\n",
       "X3                         27\n",
       "X5                         24\n",
       "7 Series                   10\n",
       "6 Series                    9\n",
       "X1                          9\n",
       "4 Series                    8\n",
       "Z4                          7\n",
       "i3                          5\n",
       "2 Series                    4\n",
       "X6                          4\n",
       "M3                          4\n",
       "M5                          3\n",
       "M6                          3\n",
       "M4                          2\n",
       "M6 Gran Coupe               1\n",
       "6 Series Gran Coupe         1\n",
       "5 Series Gran Turismo       0\n",
       "X4                          0\n",
       "4 Series Gran Coupe         0\n",
       "3 Series Gran Turismo       0"
      ]
     },
     "execution_count": 49,
     "metadata": {},
     "output_type": "execute_result"
    }
   ],
   "source": [
    "# The number of BMWs sold by model \n",
    "\n",
    "num_sold.drop(['Year', 'Make', 'Style', 'OfferToSeller', 'SalePrice'], axis=1).sort_values(by='Profit', ascending=False)"
   ]
  },
  {
   "cell_type": "code",
   "execution_count": 50,
   "metadata": {},
   "outputs": [
    {
     "data": {
      "text/html": [
       "<div>\n",
       "<style>\n",
       "    .dataframe thead tr:only-child th {\n",
       "        text-align: right;\n",
       "    }\n",
       "\n",
       "    .dataframe thead th {\n",
       "        text-align: left;\n",
       "    }\n",
       "\n",
       "    .dataframe tbody tr th {\n",
       "        vertical-align: top;\n",
       "    }\n",
       "</style>\n",
       "<table border=\"1\" class=\"dataframe\">\n",
       "  <thead>\n",
       "    <tr style=\"text-align: right;\">\n",
       "      <th></th>\n",
       "      <th>Profit</th>\n",
       "    </tr>\n",
       "    <tr>\n",
       "      <th>Model</th>\n",
       "      <th></th>\n",
       "    </tr>\n",
       "  </thead>\n",
       "  <tbody>\n",
       "    <tr>\n",
       "      <th>X3</th>\n",
       "      <td>17112.0</td>\n",
       "    </tr>\n",
       "    <tr>\n",
       "      <th>3 Series</th>\n",
       "      <td>13675.0</td>\n",
       "    </tr>\n",
       "    <tr>\n",
       "      <th>1 Series</th>\n",
       "      <td>10968.0</td>\n",
       "    </tr>\n",
       "    <tr>\n",
       "      <th>X1</th>\n",
       "      <td>4281.0</td>\n",
       "    </tr>\n",
       "    <tr>\n",
       "      <th>2 Series</th>\n",
       "      <td>3170.0</td>\n",
       "    </tr>\n",
       "    <tr>\n",
       "      <th>Z4</th>\n",
       "      <td>2569.0</td>\n",
       "    </tr>\n",
       "    <tr>\n",
       "      <th>M4</th>\n",
       "      <td>2073.0</td>\n",
       "    </tr>\n",
       "    <tr>\n",
       "      <th>M6 Gran Coupe</th>\n",
       "      <td>800.0</td>\n",
       "    </tr>\n",
       "    <tr>\n",
       "      <th>M5</th>\n",
       "      <td>-888.0</td>\n",
       "    </tr>\n",
       "    <tr>\n",
       "      <th>4 Series</th>\n",
       "      <td>-1498.0</td>\n",
       "    </tr>\n",
       "    <tr>\n",
       "      <th>M6</th>\n",
       "      <td>-4254.0</td>\n",
       "    </tr>\n",
       "    <tr>\n",
       "      <th>M3</th>\n",
       "      <td>-6741.0</td>\n",
       "    </tr>\n",
       "    <tr>\n",
       "      <th>X6</th>\n",
       "      <td>-9402.0</td>\n",
       "    </tr>\n",
       "    <tr>\n",
       "      <th>6 Series</th>\n",
       "      <td>-11863.0</td>\n",
       "    </tr>\n",
       "    <tr>\n",
       "      <th>X5</th>\n",
       "      <td>-15584.0</td>\n",
       "    </tr>\n",
       "    <tr>\n",
       "      <th>6 Series Gran Coupe</th>\n",
       "      <td>-18204.0</td>\n",
       "    </tr>\n",
       "    <tr>\n",
       "      <th>7 Series</th>\n",
       "      <td>-18392.0</td>\n",
       "    </tr>\n",
       "    <tr>\n",
       "      <th>i3</th>\n",
       "      <td>-26373.0</td>\n",
       "    </tr>\n",
       "    <tr>\n",
       "      <th>5 Series</th>\n",
       "      <td>-75306.0</td>\n",
       "    </tr>\n",
       "    <tr>\n",
       "      <th>3 Series Gran Turismo</th>\n",
       "      <td>NaN</td>\n",
       "    </tr>\n",
       "    <tr>\n",
       "      <th>4 Series Gran Coupe</th>\n",
       "      <td>NaN</td>\n",
       "    </tr>\n",
       "    <tr>\n",
       "      <th>5 Series Gran Turismo</th>\n",
       "      <td>NaN</td>\n",
       "    </tr>\n",
       "    <tr>\n",
       "      <th>X4</th>\n",
       "      <td>NaN</td>\n",
       "    </tr>\n",
       "  </tbody>\n",
       "</table>\n",
       "</div>"
      ],
      "text/plain": [
       "                        Profit\n",
       "Model                         \n",
       "X3                     17112.0\n",
       "3 Series               13675.0\n",
       "1 Series               10968.0\n",
       "X1                      4281.0\n",
       "2 Series                3170.0\n",
       "Z4                      2569.0\n",
       "M4                      2073.0\n",
       "M6 Gran Coupe            800.0\n",
       "M5                      -888.0\n",
       "4 Series               -1498.0\n",
       "M6                     -4254.0\n",
       "M3                     -6741.0\n",
       "X6                     -9402.0\n",
       "6 Series              -11863.0\n",
       "X5                    -15584.0\n",
       "6 Series Gran Coupe   -18204.0\n",
       "7 Series              -18392.0\n",
       "i3                    -26373.0\n",
       "5 Series              -75306.0\n",
       "3 Series Gran Turismo      NaN\n",
       "4 Series Gran Coupe        NaN\n",
       "5 Series Gran Turismo      NaN\n",
       "X4                         NaN"
      ]
     },
     "execution_count": 50,
     "metadata": {},
     "output_type": "execute_result"
    }
   ],
   "source": [
    "# Total gross profits generated by BMW model \n",
    "\n",
    "num_profit.drop('Year', axis=1).sort_values(by='Profit', ascending=False)"
   ]
  },
  {
   "cell_type": "code",
   "execution_count": 51,
   "metadata": {},
   "outputs": [
    {
     "data": {
      "text/plain": [
       "Model\n",
       "M4                      1036.500000\n",
       "M6 Gran Coupe            800.000000\n",
       "2 Series                 792.500000\n",
       "X3                       633.777778\n",
       "X1                       475.666667\n",
       "1 Series                 391.714286\n",
       "Z4                       367.000000\n",
       "3 Series                 136.750000\n",
       "4 Series                -187.250000\n",
       "M5                      -296.000000\n",
       "X5                      -649.333333\n",
       "6 Series               -1318.111111\n",
       "M6                     -1418.000000\n",
       "M3                     -1685.250000\n",
       "5 Series               -1793.000000\n",
       "7 Series               -1839.200000\n",
       "X6                     -2350.500000\n",
       "i3                     -5274.600000\n",
       "6 Series Gran Coupe   -18204.000000\n",
       "Name: Profit, dtype: float64"
      ]
     },
     "execution_count": 51,
     "metadata": {},
     "output_type": "execute_result"
    }
   ],
   "source": [
    "# Gross profit per vehicle sold by model \n",
    "\n",
    "model_profit = num_profit.Profit / num_sold.Profit\n",
    "model_profit.sort_values(ascending=False).dropna()"
   ]
  },
  {
   "cell_type": "markdown",
   "metadata": {},
   "source": [
    "The data shows that the 6-Series Gran Coupe performed the worst out of all models sold; striking because the M6 Gran Coupe (a high-performance variant of the 6-Series Gran Coupe) performed quite well in comparison. Notably the 3-series, which generated the second highest amount of gross profit, performed poorly on a profit-per-unit-sold basis. "
   ]
  },
  {
   "cell_type": "markdown",
   "metadata": {},
   "source": [
    "# Which model had the highest profit per unit sold?"
   ]
  },
  {
   "cell_type": "code",
   "execution_count": 52,
   "metadata": {},
   "outputs": [
    {
     "data": {
      "text/plain": [
       "Model\n",
       "Crosstour    3702.2\n",
       "Name: Profit, dtype: float64"
      ]
     },
     "execution_count": 52,
     "metadata": {},
     "output_type": "execute_result"
    }
   ],
   "source": [
    "# Calculating this by summing the gross profits per model and dividing by the total number of models sold\n",
    "\n",
    "all_models = profits.groupby('Model').count()\n",
    "all_model_profits = profits.groupby('Model').sum()\n",
    "profit_per_unit = all_model_profits.Profit / all_models.Profit \n",
    "\n",
    "profit_per_unit.sort_values(ascending=False).dropna().head(1)"
   ]
  },
  {
   "cell_type": "markdown",
   "metadata": {},
   "source": [
    "## Where are sales occurring? "
   ]
  },
  {
   "cell_type": "code",
   "execution_count": 53,
   "metadata": {},
   "outputs": [
    {
     "data": {
      "text/plain": [
       "dtype('O')"
      ]
     },
     "execution_count": 53,
     "metadata": {},
     "output_type": "execute_result"
    }
   ],
   "source": [
    "# To do this, we will need to create a new DataFrame with sold vehicles' drop-off addresses \n",
    "\n",
    "gps = sold[['Drop_CarState', 'Drop_CarZIP']]\n",
    "ZIPs = sold.Drop_CarZIP.astype(str)\n",
    "gps = gps.assign(ZIPs = ZIPs)\n",
    "\n",
    "# Removes the unusable 'Drop_CarZIP' column\n",
    "gps = gps.drop('Drop_CarZIP', axis=1)\n",
    "gps.ZIPs.dtype"
   ]
  },
  {
   "cell_type": "code",
   "execution_count": 54,
   "metadata": {
    "scrolled": true
   },
   "outputs": [
    {
     "data": {
      "text/html": [
       "<div>\n",
       "<style>\n",
       "    .dataframe thead tr:only-child th {\n",
       "        text-align: right;\n",
       "    }\n",
       "\n",
       "    .dataframe thead th {\n",
       "        text-align: left;\n",
       "    }\n",
       "\n",
       "    .dataframe tbody tr th {\n",
       "        vertical-align: top;\n",
       "    }\n",
       "</style>\n",
       "<table border=\"1\" class=\"dataframe\">\n",
       "  <thead>\n",
       "    <tr style=\"text-align: right;\">\n",
       "      <th></th>\n",
       "      <th>ZIPs</th>\n",
       "    </tr>\n",
       "    <tr>\n",
       "      <th>Drop_CarState</th>\n",
       "      <th></th>\n",
       "    </tr>\n",
       "  </thead>\n",
       "  <tbody>\n",
       "    <tr>\n",
       "      <th>CA</th>\n",
       "      <td>2188</td>\n",
       "    </tr>\n",
       "    <tr>\n",
       "      <th>TX</th>\n",
       "      <td>252</td>\n",
       "    </tr>\n",
       "    <tr>\n",
       "      <th>AZ</th>\n",
       "      <td>115</td>\n",
       "    </tr>\n",
       "    <tr>\n",
       "      <th>FL</th>\n",
       "      <td>113</td>\n",
       "    </tr>\n",
       "    <tr>\n",
       "      <th>WA</th>\n",
       "      <td>89</td>\n",
       "    </tr>\n",
       "  </tbody>\n",
       "</table>\n",
       "</div>"
      ],
      "text/plain": [
       "               ZIPs\n",
       "Drop_CarState      \n",
       "CA             2188\n",
       "TX              252\n",
       "AZ              115\n",
       "FL              113\n",
       "WA               89"
      ]
     },
     "execution_count": 54,
     "metadata": {},
     "output_type": "execute_result"
    }
   ],
   "source": [
    "gps.groupby(by='Drop_CarState').count().sort_values(by='ZIPs', ascending=False).head()"
   ]
  },
  {
   "cell_type": "markdown",
   "metadata": {
    "collapsed": true
   },
   "source": [
    "#### The vast majority of sales are occurring in CA, with a small but significant number of transactions taking place in Texas, Arizona, and Florida"
   ]
  },
  {
   "cell_type": "markdown",
   "metadata": {},
   "source": [
    "# Examining the correlation between ZIP code, price, and number of sales"
   ]
  },
  {
   "cell_type": "code",
   "execution_count": 55,
   "metadata": {
    "collapsed": true
   },
   "outputs": [],
   "source": [
    "# I will examine the relationship between ZIP code, number of sales, and price of vehicle sold \n",
    "\n",
    "# Here I am constructing a new dataframe for use in a scatter plot\n",
    "corr = data[['Drop_CarZIP', 'OfferToSeller', 'HasSold']]\n",
    "offers = pd.to_numeric(corr.OfferToSeller, errors='coerce')\n",
    "corr = corr.assign(offers=offers)\n",
    "corr = corr.drop('OfferToSeller', axis=1)"
   ]
  },
  {
   "cell_type": "code",
   "execution_count": 56,
   "metadata": {
    "collapsed": true
   },
   "outputs": [],
   "source": [
    "# Changing the ZIP codes from objects to strings \n",
    "\n",
    "nZIPs = corr.Drop_CarZIP.astype(str)\n",
    "corr = corr.assign(nZIPs=nZIPs)\n",
    "corr = corr.drop('Drop_CarZIP', axis=1)"
   ]
  },
  {
   "cell_type": "code",
   "execution_count": 57,
   "metadata": {
    "collapsed": true
   },
   "outputs": [],
   "source": [
    "# Changing the ZIP code format to 5 digits for all; converting the ZIPs to integers \n",
    "\n",
    "scan = corr.nZIPs.str.split('-')\n",
    "\n",
    "sZIPs = []\n",
    "for x in scan:\n",
    "    sZIPs.append(x[0])\n",
    "simpZIPs = pd.Series(sZIPs)\n",
    "isimpZIPs = pd.to_numeric(simpZIPs, errors='coerce')\n",
    "corr = corr.assign(simpZIPs=isimpZIPs)\n",
    "corr = corr.drop('nZIPs', axis=1)\n",
    "corr = corr.dropna()"
   ]
  },
  {
   "cell_type": "code",
   "execution_count": 58,
   "metadata": {
    "collapsed": true
   },
   "outputs": [],
   "source": [
    "# Creating 2 separate dataframes for comparison in a scatter plot \n",
    "\n",
    "yes = corr[(corr.HasSold == 'Y')]\n",
    "no = corr[(corr.HasSold == 'N')]"
   ]
  },
  {
   "cell_type": "code",
   "execution_count": 59,
   "metadata": {},
   "outputs": [
    {
     "data": {
      "image/png": "[encoded data removed]",
      "text/plain": [
       "<matplotlib.figure.Figure at 0x11ebf8da0>"
      ]
     },
     "metadata": {},
     "output_type": "display_data"
    }
   ],
   "source": [
    "yes_graph = yes.groupby(['simpZIPs']).count().sort_values(by='offers',ascending=False).head(10)\n",
    "yes_graph.drop('HasSold', axis=1).plot(kind='bar')\n",
    "plt.title('Top 10 ZIP Codes by Completed Sales')\n",
    "plt.xlabel('ZIP Code')\n",
    "plt.ylabel('Units Sold')\n",
    "plt.legend(loc='upper right')\n",
    "plt.show()"
   ]
  },
  {
   "cell_type": "code",
   "execution_count": null,
   "metadata": {},
   "outputs": [
    {
     "data": {
      "image/png": "[encoded data removed]",
      "text/plain": [
       "<matplotlib.figure.Figure at 0x118f83908>"
      ]
     },
     "metadata": {},
     "output_type": "display_data"
    }
   ],
   "source": [
    "no_graph = no.groupby(['simpZIPs']).count().sort_values(by='offers',ascending=False).head(10)\n",
    "no_graph.drop('HasSold', axis=1).plot(kind='bar')\n",
    "plt.title('Top 10 ZIP Codes by Rejected Offers')\n",
    "plt.xlabel('ZIP Code')\n",
    "plt.ylabel('Number of Rejections')\n",
    "plt.legend(loc='upper right')\n",
    "plt.show()"
   ]
  },
  {
   "cell_type": "markdown",
   "metadata": {},
   "source": [
    "We can see that sales are heavily clustered in the 9-XXXX range, indicating that they came from the West Coast of the United States; predominantly California. \n",
    "\n",
    "The data also shows that a majority of offers made were rejected; the red dots blot out the green dots even though the opacity of the red (α = 0.2) is half the green (α = 0.4). "
   ]
  },
  {
   "cell_type": "markdown",
   "metadata": {
    "collapsed": true
   },
   "source": [
    "#### Which vehicles have over 50 data points per transaction?\n"
   ]
  },
  {
   "cell_type": "code",
   "execution_count": null,
   "metadata": {
    "collapsed": true
   },
   "outputs": [],
   "source": [
    "trims = sold.groupby(by='StyleID').count().sort_values('SaleID', ascending=False)\n",
    "trims_usable = trims['SaleID'] > 50\n",
    "get_trims = trims[trims_usable]\n",
    "get_trims.reset_index(inplace=True)\n",
    "eval_trims = get_trims.StyleID.tolist()\n",
    "eval_trims"
   ]
  },
  {
   "cell_type": "markdown",
   "metadata": {
    "collapsed": true
   },
   "source": [
    "#### Unfortunately no trim-specific vehicles have more than 50 data points; we will now bring in the Kaggle/Scraped TrueCar dataset to supplement the Beepi Dataset"
   ]
  },
  {
   "cell_type": "code",
   "execution_count": null,
   "metadata": {},
   "outputs": [],
   "source": [
    "df = pd.read_csv('true_car_listings.csv')"
   ]
  },
  {
   "cell_type": "code",
   "execution_count": null,
   "metadata": {
    "collapsed": true
   },
   "outputs": [],
   "source": [
    "# All 2014 Honda Pilot EX-L models \n",
    "pilot_14 = df[(df.Model == 'PilotEX-L') & (df.Year == 2014)]\n",
    "\n",
    "# All 2014 Honda Pilot LX models \n",
    "pilot_base_14 = df[(df.Model == 'PilotLX') & (df.Year == 2014)]\n",
    "\n",
    "# All 2014 BMW X5xDrive35i models \n",
    "x5_14 = df[(df.Model == 'X5xDrive35i') & (df.Year == 2014)]\n",
    "\n",
    "# All 2014 Toyota Corolla LE models \n",
    "corolla_14 = df[(df.Model == 'CorollaLE') & (df.Year == 2014)]\n",
    "\n",
    "# All 2014 Mercedes-Benz C300 models \n",
    "C250_14 = df[(df.Model == 'C-ClassC250') & (df.Year == 2014)]"
   ]
  },
  {
   "cell_type": "code",
   "execution_count": null,
   "metadata": {
    "collapsed": true
   },
   "outputs": [],
   "source": [
    "pilot=sns.jointplot(x=\"Mileage\", y=\"Price\", data=pilot_14, color=\"b\", alpha=0.1, marker='*')\n",
    "pilot.plot_joint(sns.kdeplot, zorder=2, n_levels=5)\n",
    "pilot.ax_joint.set_yticks([0, 10000, 20000, 30000, 40000, 50000])\n",
    "pilot.ax_joint.set_xticks([0, 25000, 50000, 75000, 100000, 125000, 150000, 175000, 200000])\n",
    "# plt.title('Attack by Type', loc='left')\n",
    "plt.show()"
   ]
  },
  {
   "cell_type": "code",
   "execution_count": null,
   "metadata": {
    "collapsed": true
   },
   "outputs": [],
   "source": [
    "pilot_base=sns.jointplot(x=\"Mileage\", y=\"Price\", data=pilot_base_14, color=\"b\", alpha=0.1, marker='*')\n",
    "pilot_base.plot_joint(sns.kdeplot, zorder=2, n_levels=5)\n",
    "pilot_base.ax_joint.set_yticks([0, 10000, 20000, 30000, 40000, 50000])\n",
    "pilot_base.ax_joint.set_xticks([0, 25000, 50000, 75000, 100000, 125000, 150000, 175000, 200000])\n",
    "plt.show()"
   ]
  },
  {
   "cell_type": "code",
   "execution_count": null,
   "metadata": {
    "collapsed": true
   },
   "outputs": [],
   "source": [
    "x5=sns.jointplot(x=\"Mileage\", y=\"Price\", data=x5_14, color=\"b\", alpha=0.1, marker='*')\n",
    "x5.plot_joint(sns.kdeplot, zorder=2, n_levels=5)\n",
    "x5.ax_joint.set_yticks([0, 10000, 20000, 30000, 40000, 50000])\n",
    "x5.ax_joint.set_xticks([0, 25000, 50000, 75000, 100000, 125000, 150000, 175000, 200000])\n",
    "plt.show()"
   ]
  },
  {
   "cell_type": "code",
   "execution_count": null,
   "metadata": {
    "collapsed": true
   },
   "outputs": [],
   "source": [
    "corolla=sns.jointplot(x=\"Mileage\", y=\"Price\", data=corolla_14, color=\"b\", alpha=0.1, marker='*')\n",
    "corolla.plot_joint(sns.kdeplot, zorder=2, n_levels=5)\n",
    "corolla.ax_joint.set_yticks([0, 10000, 20000, 30000, 40000, 50000])\n",
    "corolla.ax_joint.set_xticks([0, 25000, 50000, 75000, 100000, 125000, 150000, 175000, 200000])\n",
    "plt.show()"
   ]
  },
  {
   "cell_type": "code",
   "execution_count": null,
   "metadata": {
    "collapsed": true
   },
   "outputs": [],
   "source": [
    "C300=sns.jointplot(x=\"Mileage\", y=\"Price\", data=C250_14, color=\"b\", alpha=0.1, marker='*')\n",
    "C300.plot_joint(sns.kdeplot, zorder=2, n_levels=5)\n",
    "C300.ax_joint.set_yticks([0, 10000, 20000, 30000, 40000, 50000])\n",
    "C300.ax_joint.set_xticks([0, 25000, 50000, 75000, 100000, 125000, 150000, 175000, 200000])\n",
    "plt.show()"
   ]
  },
  {
   "cell_type": "code",
   "execution_count": null,
   "metadata": {
    "collapsed": true
   },
   "outputs": [],
   "source": [
    "from sklearn.model_selection import train_test_split\n",
    "from sklearn.linear_model import LinearRegression\n",
    "\n",
    "X = pilot_14[\"Mileage\"].values.reshape(-1,1)\n",
    "y = pilot_14[\"Price\"].values.reshape(-1,1)\n",
    "\n",
    "X_train, X_test, y_train, y_test = train_test_split(X, y, test_size=0.5, random_state=42)\n",
    "\n",
    "clf = LinearRegression()\n",
    "clf.fit(X_train, y_train)\n",
    "\n",
    "# Plot outputs\n",
    "y_pred = clf.predict(X_test)\n",
    "\n",
    "import matplotlib.pyplot as plt\n",
    "plt.scatter(X_test, y_test,  color='black')\n",
    "plt.plot(X_test, y_pred, color='blue', linewidth=3)\n",
    "plt.title('Linear Regression Model - 2014 Honda Pilot EX-L')\n",
    "plt.xlabel('Mileage')\n",
    "plt.ylabel('Price')\n",
    "plt.show()"
   ]
  },
  {
   "cell_type": "code",
   "execution_count": null,
   "metadata": {
    "collapsed": true
   },
   "outputs": [],
   "source": [
    "clf.score(X_test, y_test)"
   ]
  },
  {
   "cell_type": "code",
   "execution_count": null,
   "metadata": {
    "collapsed": true
   },
   "outputs": [],
   "source": [
    "from sklearn.metrics import mean_squared_error\n",
    "y_pred = clf.predict(X_test)\n",
    "clf_mse = mean_squared_error(y_pred, y_test)\n",
    "\n",
    "# Average error in pricing\n",
    "np.sqrt(clf_mse)"
   ]
  },
  {
   "cell_type": "code",
   "execution_count": null,
   "metadata": {
    "collapsed": true
   },
   "outputs": [],
   "source": [
    "from sklearn.linear_model import Lasso\n",
    "\n",
    "X = pilot_14[\"Mileage\"].values.reshape(-1,1)\n",
    "y = pilot_14[\"Price\"].values.reshape(-1,1)\n",
    "\n",
    "X_train, X_test, y_train, y_test = train_test_split(X, y, test_size=0.5, random_state=42)\n",
    "\n",
    "clf_lasso = Lasso(alpha=2)\n",
    "clf_lasso.fit(X_train, y_train)\n",
    "\n",
    "# Plot outputs\n",
    "y_pred = clf_lasso.predict(X_test)\n",
    "\n",
    "import matplotlib.pyplot as plt\n",
    "plt.scatter(X_test, y_test,  color='black')\n",
    "plt.plot(X_test, y_pred, color='blue', linewidth=3)\n",
    "plt.title('Lasso Regression Model - 2014 Honda Pilot EX-L')\n",
    "plt.xlabel('Mileage')\n",
    "plt.ylabel('Price')\n",
    "plt.show()"
   ]
  },
  {
   "cell_type": "code",
   "execution_count": null,
   "metadata": {
    "collapsed": true
   },
   "outputs": [],
   "source": [
    "y_pred = clf_lasso.predict(X_test)\n",
    "clf_mse = mean_squared_error(y_pred, y_test)\n",
    "\n",
    "# Average error in pricing\n",
    "np.sqrt(clf_mse)"
   ]
  },
  {
   "cell_type": "code",
   "execution_count": null,
   "metadata": {
    "collapsed": true
   },
   "outputs": [],
   "source": [
    "from sklearn.linear_model import Ridge\n",
    "\n",
    "X = pilot_14[\"Mileage\"].values.reshape(-1,1)\n",
    "y = pilot_14[\"Price\"].values.reshape(-1,1)\n",
    "\n",
    "X_train, X_test, y_train, y_test = train_test_split(X, y, test_size=0.5, random_state=42)\n",
    "\n",
    "clf_ridge = Ridge(alpha=2)\n",
    "clf_ridge.fit(X_train, y_train)\n",
    "\n",
    "# Plot outputs\n",
    "y_pred = clf_ridge.predict(X_test)\n",
    "\n",
    "import matplotlib.pyplot as plt\n",
    "plt.scatter(X_test, y_test,  color='black')\n",
    "plt.plot(X_test, y_pred, color='blue', linewidth=3)\n",
    "plt.title('Ridge Regression Model - 2014 Honda Pilot EX-L')\n",
    "plt.xlabel('Mileage')\n",
    "plt.ylabel('Price')\n",
    "plt.show()"
   ]
  },
  {
   "cell_type": "code",
   "execution_count": null,
   "metadata": {
    "collapsed": true
   },
   "outputs": [],
   "source": [
    "y_pred = clf_ridge.predict(X_test)\n",
    "clf_mse = mean_squared_error(y_pred, y_test)\n",
    "\n",
    "# Average error in pricing\n",
    "np.sqrt(clf_mse)"
   ]
  },
  {
   "cell_type": "code",
   "execution_count": null,
   "metadata": {
    "collapsed": true
   },
   "outputs": [],
   "source": [
    "from sklearn.model_selection import train_test_split\n",
    "from sklearn.linear_model import LinearRegression\n",
    "\n",
    "X = pilot_base_14[\"Mileage\"].values.reshape(-1,1)\n",
    "y = pilot_base_14[\"Price\"].values.reshape(-1,1)\n",
    "\n",
    "X_train, X_test, y_train, y_test = train_test_split(X, y, test_size=0.5, random_state=42)\n",
    "\n",
    "clf_1 = LinearRegression()\n",
    "clf_1.fit(X_train, y_train)\n",
    "\n",
    "# Plot outputs\n",
    "y_pred = clf_1.predict(X_test)\n",
    "\n",
    "import matplotlib.pyplot as plt\n",
    "plt.scatter(X_test, y_test,  color='black')\n",
    "plt.plot(X_test, y_pred, color='blue', linewidth=3)\n",
    "plt.title('Linear Regression Model - 2014 Honda Pilot LX')\n",
    "plt.xlabel('Mileage')\n",
    "plt.ylabel('Price')\n",
    "plt.show()"
   ]
  },
  {
   "cell_type": "code",
   "execution_count": null,
   "metadata": {
    "collapsed": true
   },
   "outputs": [],
   "source": [
    "clf_1.score(X_test, y_test)"
   ]
  },
  {
   "cell_type": "code",
   "execution_count": null,
   "metadata": {
    "collapsed": true
   },
   "outputs": [],
   "source": [
    "y_pred = clf_1.predict(X_test)\n",
    "clf_1_mse = mean_squared_error(y_pred, y_test)\n",
    "\n",
    "# Average error in pricing\n",
    "np.sqrt(clf_1_mse)"
   ]
  },
  {
   "cell_type": "code",
   "execution_count": null,
   "metadata": {
    "collapsed": true
   },
   "outputs": [],
   "source": [
    "X = x5_14[\"Mileage\"].values.reshape(-1,1)\n",
    "y = x5_14[\"Price\"].values.reshape(-1,1)\n",
    "\n",
    "X_train, X_test, y_train, y_test = train_test_split(X, y, test_size=0.5, random_state=42)\n",
    "\n",
    "clf_2 = LinearRegression()\n",
    "clf_2.fit(X_train, y_train)\n",
    "\n",
    "# Plot outputs\n",
    "y_pred = clf_2.predict(X_test)\n",
    "\n",
    "import matplotlib.pyplot as plt\n",
    "plt.scatter(X_test, y_test,  color='black')\n",
    "plt.plot(X_test, y_pred, color='blue', linewidth=3)\n",
    "plt.title('Linear Regression Model - 2014 BMW X5 xDrive35i')\n",
    "plt.xlabel('Mileage')\n",
    "plt.ylabel('Price')\n",
    "plt.show()"
   ]
  },
  {
   "cell_type": "code",
   "execution_count": null,
   "metadata": {
    "collapsed": true
   },
   "outputs": [],
   "source": [
    "clf_2.score(X_test, y_test)"
   ]
  },
  {
   "cell_type": "code",
   "execution_count": null,
   "metadata": {
    "collapsed": true
   },
   "outputs": [],
   "source": [
    "y_pred = clf_2.predict(X_test)\n",
    "clf_2_mse = mean_squared_error(y_pred, y_test)\n",
    "\n",
    "# Average error in pricing\n",
    "np.sqrt(clf_2_mse)"
   ]
  },
  {
   "cell_type": "code",
   "execution_count": null,
   "metadata": {
    "collapsed": true
   },
   "outputs": [],
   "source": []
  }
 ],
 "metadata": {
  "kernelspec": {
   "display_name": "Python 3",
   "language": "python",
   "name": "python3"
  },
  "language_info": {
   "codemirror_mode": {
    "name": "ipython",
    "version": 3
   },
   "file_extension": ".py",
   "mimetype": "text/x-python",
   "name": "python",
   "nbconvert_exporter": "python",
   "pygments_lexer": "ipython3",
   "version": "3.6.1"
  }
 },
 "nbformat": 4,
 "nbformat_minor": 2
}
