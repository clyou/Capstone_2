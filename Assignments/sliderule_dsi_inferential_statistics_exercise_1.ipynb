{
 "cells": [
  {
   "cell_type": "markdown",
   "metadata": {},
   "source": [
    "# What is the True Normal Human Body Temperature? \n",
    "\n",
    "#### Background\n",
    "\n",
    "The mean normal body temperature was held to be 37$^{\\circ}$C or 98.6$^{\\circ}$F for more than 120 years since it was first conceptualized and reported by Carl Wunderlich in a famous 1868 book. But, is this value statistically correct?"
   ]
  },
  {
   "cell_type": "markdown",
   "metadata": {},
   "source": [
    "<div class=\"span5 alert alert-info\">\n",
    "<h3>Exercises</h3>\n",
    "\n",
    "<p>In this exercise, you will analyze a dataset of human body temperatures and employ the concepts of hypothesis testing, confidence intervals, and statistical significance.</p>\n",
    "\n",
    "<p>Answer the following questions <b>in this notebook below and submit to your Github account</b>.</p> \n",
    "\n",
    "<ol>\n",
    "<li>  Is the distribution of body temperatures normal? \n",
    "    <ul>\n",
    "    <li> Although this is not a requirement for CLT to hold (read CLT carefully), it gives us some peace of mind that the population may also be normally distributed if we assume that this sample is representative of the population.\n",
    "    </ul>\n",
    "<li>  Is the sample size large? Are the observations independent?\n",
    "    <ul>\n",
    "    <li> Remember that this is a condition for the CLT, and hence the statistical tests we are using, to apply.\n",
    "    </ul>\n",
    "<li>  Is the true population mean really 98.6 degrees F?\n",
    "    <ul>\n",
    "    <li> Would you use a one-sample or two-sample test? Why?\n",
    "    <li> In this situation, is it appropriate to use the $t$ or $z$ statistic? \n",
    "    <li> Now try using the other test. How is the result be different? Why?\n",
    "    </ul>\n",
    "<li>  At what temperature should we consider someone's temperature to be \"abnormal\"?\n",
    "    <ul>\n",
    "    <li> Start by computing the margin of error and confidence interval.\n",
    "    </ul>\n",
    "<li>  Is there a significant difference between males and females in normal temperature?\n",
    "    <ul>\n",
    "    <li> What test did you use and why?\n",
    "    <li> Write a story with your conclusion in the context of the original problem.\n",
    "    </ul>\n",
    "</ol>\n",
    "\n",
    "You can include written notes in notebook cells using Markdown: \n",
    "   - In the control panel at the top, choose Cell > Cell Type > Markdown\n",
    "   - Markdown syntax: http://nestacms.com/docs/creating-content/markdown-cheat-sheet\n",
    "\n",
    "#### Resources\n",
    "\n",
    "+ Information and data sources: http://www.amstat.org/publications/jse/datasets/normtemp.txt, http://www.amstat.org/publications/jse/jse_data_archive.htm\n",
    "+ Markdown syntax: http://nestacms.com/docs/creating-content/markdown-cheat-sheet\n",
    "\n",
    "****\n",
    "</div>"
   ]
  },
  {
   "cell_type": "code",
   "execution_count": 1,
   "metadata": {
    "collapsed": true
   },
   "outputs": [],
   "source": [
    "import pandas as pd\n",
    "import matplotlib.pyplot as plt\n",
    "import numpy as np \n",
    "\n",
    "df = pd.read_csv('data/human_body_temperature.csv')"
   ]
  },
  {
   "cell_type": "markdown",
   "metadata": {},
   "source": [
    "### Question 1: Is the distribution of body temperatures normal?"
   ]
  },
  {
   "cell_type": "code",
   "execution_count": 2,
   "metadata": {
    "scrolled": true
   },
   "outputs": [
    {
     "data": {
      "image/png": "[encoded data removed]",
      "text/plain": [
       "<matplotlib.figure.Figure at 0x10da9d780>"
      ]
     },
     "metadata": {},
     "output_type": "display_data"
    }
   ],
   "source": [
    "# A historgram of the data\n",
    "body_temps = df.temperature\n",
    "plt.hist(body_temps, bins=15)\n",
    "plt.title(\"Raw Data\")\n",
    "plt.xlabel(\"Body Temperature\")\n",
    "plt.ylabel(\"Number of Patients\")\n",
    "plt.show()"
   ]
  },
  {
   "cell_type": "code",
   "execution_count": 3,
   "metadata": {},
   "outputs": [
    {
     "data": {
      "image/png": "[encoded data removed]",
      "text/plain": [
       "<matplotlib.figure.Figure at 0x10da9de48>"
      ]
     },
     "metadata": {},
     "output_type": "display_data"
    }
   ],
   "source": [
    "# Bootstrapping the data to see if it is normally distributed\n",
    "\n",
    "# Creating 1000 samples; each sample is generated from 100 random draws taken from the original dataset\n",
    "boot_temps = []\n",
    "for x in range(1000):\n",
    "    sample = np.random.choice(df.temperature, size=100)\n",
    "    boot_temps.append(np.average(sample))\n",
    "\n",
    "plt.hist(boot_temps, bins=20)\n",
    "plt.title(\"Bootstrapped Random Sampling\")\n",
    "plt.xlabel(\"Body Temperature\")\n",
    "plt.ylabel(\"Number of Patients\")\n",
    "plt.show()"
   ]
  },
  {
   "cell_type": "markdown",
   "metadata": {},
   "source": [
    "Question 1 Answer: After bootsrapping the data, it appears that it roughly approximates a normal distrubution, albiet not perfectly. \n",
    "\n",
    "Make a quantile plot \n",
    "- Quantile plots: how many data points are in each "
   ]
  },
  {
   "cell_type": "markdown",
   "metadata": {},
   "source": [
    "### Question 2: Is the sample size large? Are the observations independent?"
   ]
  },
  {
   "cell_type": "code",
   "execution_count": 4,
   "metadata": {},
   "outputs": [
    {
     "data": {
      "text/html": [
       "<div>\n",
       "<style>\n",
       "    .dataframe thead tr:only-child th {\n",
       "        text-align: right;\n",
       "    }\n",
       "\n",
       "    .dataframe thead th {\n",
       "        text-align: left;\n",
       "    }\n",
       "\n",
       "    .dataframe tbody tr th {\n",
       "        vertical-align: top;\n",
       "    }\n",
       "</style>\n",
       "<table border=\"1\" class=\"dataframe\">\n",
       "  <thead>\n",
       "    <tr style=\"text-align: right;\">\n",
       "      <th></th>\n",
       "      <th>temperature</th>\n",
       "      <th>heart_rate</th>\n",
       "    </tr>\n",
       "  </thead>\n",
       "  <tbody>\n",
       "    <tr>\n",
       "      <th>count</th>\n",
       "      <td>130.000000</td>\n",
       "      <td>130.000000</td>\n",
       "    </tr>\n",
       "    <tr>\n",
       "      <th>mean</th>\n",
       "      <td>98.249231</td>\n",
       "      <td>73.761538</td>\n",
       "    </tr>\n",
       "    <tr>\n",
       "      <th>std</th>\n",
       "      <td>0.733183</td>\n",
       "      <td>7.062077</td>\n",
       "    </tr>\n",
       "    <tr>\n",
       "      <th>min</th>\n",
       "      <td>96.300000</td>\n",
       "      <td>57.000000</td>\n",
       "    </tr>\n",
       "    <tr>\n",
       "      <th>25%</th>\n",
       "      <td>97.800000</td>\n",
       "      <td>69.000000</td>\n",
       "    </tr>\n",
       "    <tr>\n",
       "      <th>50%</th>\n",
       "      <td>98.300000</td>\n",
       "      <td>74.000000</td>\n",
       "    </tr>\n",
       "    <tr>\n",
       "      <th>75%</th>\n",
       "      <td>98.700000</td>\n",
       "      <td>79.000000</td>\n",
       "    </tr>\n",
       "    <tr>\n",
       "      <th>max</th>\n",
       "      <td>100.800000</td>\n",
       "      <td>89.000000</td>\n",
       "    </tr>\n",
       "  </tbody>\n",
       "</table>\n",
       "</div>"
      ],
      "text/plain": [
       "       temperature  heart_rate\n",
       "count   130.000000  130.000000\n",
       "mean     98.249231   73.761538\n",
       "std       0.733183    7.062077\n",
       "min      96.300000   57.000000\n",
       "25%      97.800000   69.000000\n",
       "50%      98.300000   74.000000\n",
       "75%      98.700000   79.000000\n",
       "max     100.800000   89.000000"
      ]
     },
     "execution_count": 4,
     "metadata": {},
     "output_type": "execute_result"
    }
   ],
   "source": [
    "df.describe()"
   ]
  },
  {
   "cell_type": "markdown",
   "metadata": {},
   "source": [
    "Question 2 Answer: The sample size (n=130) is not large relative to the human population, but for the purpose of deriving statistical inferences, it is sized appropriately. We can also assume that the observations are independent since each patient was tested only once (not a paired test)."
   ]
  },
  {
   "cell_type": "markdown",
   "metadata": {},
   "source": [
    "### Question 3: Is the true population mean really 98.6 degrees F?\n",
    "* Would you use a one-sample or two-sample test? Why?\n",
    "* In this situation, is it appropriate to use the  t or  z statistic?\n",
    "* Now try using the other test. How is the result be different? Why?"
   ]
  },
  {
   "cell_type": "code",
   "execution_count": 5,
   "metadata": {
    "collapsed": true
   },
   "outputs": [],
   "source": [
    "# Calculating the mean of the sample population\n",
    "temp_mean = df.temperature.mean()\n",
    "\n",
    "# Calculating the Z-statistic\n",
    "temp_std = df.temperature.std()\n",
    "z_stat = ((temp_mean-98.6)/(temp_std/np.sqrt(130)))\n",
    "\n",
    "# Calculating the T-statistic\n",
    "t_stat = ((temp_mean-98.6)/(temp_std/np.sqrt(130)))"
   ]
  },
  {
   "cell_type": "code",
   "execution_count": 6,
   "metadata": {},
   "outputs": [
    {
     "data": {
      "text/plain": [
       "True"
      ]
     },
     "execution_count": 6,
     "metadata": {},
     "output_type": "execute_result"
    }
   ],
   "source": [
    "# is the T-stat equal to the Z-stat?\n",
    "t_stat == z_stat"
   ]
  },
  {
   "cell_type": "code",
   "execution_count": 7,
   "metadata": {},
   "outputs": [
    {
     "data": {
      "text/plain": [
       "98.24923076923078"
      ]
     },
     "execution_count": 7,
     "metadata": {},
     "output_type": "execute_result"
    }
   ],
   "source": [
    "# Sample population temperature mean\n",
    "temp_mean"
   ]
  },
  {
   "cell_type": "markdown",
   "metadata": {},
   "source": [
    "Question 3 Answer: It is extremely unlikely that the population mean is 98.6ºF. Based on our T-statistic value of (-5.4548232923640789), we reject the null hypothesis (the true population temperature mean is 98.6ºF). Although not up to scientific standards, we can also see that the average body temp converges to approximately ~98.25ºF in the bootstrapped historgram, which is supported by the mean of the sample dataset.  \n",
    "\n",
    "* Since we are drawing from one sample group, we would use a one-sample test. \n",
    "* In our situation we would use the T-statistic. As a matter of practice, it is best to use the T-statistic since it is usually not possible to obtain the true population standard devation (we rarely know with 100% certainty the true population standard deviation and therefore cannot use the Z-statistic). The T-statistic converges to normal when the sample size is large enough for the Central Limit Theorm to apply and thus \"becomes\" the Z-statistic. \n",
    "* The Z-statistic and T-statistic scores are identical values (-5.4548232923640789). The Z / T Statistic shows that we are many standard devations away from the mean and well outside the the 95% confidence interval (-1.96/1.96 STDs), thus it is highly unlikely that it is the result of chance.\n",
    "* T-statistic vs Z-statistic equations: \n",
    "    * $Z-statistic:\\frac{\\overline{X} - \\mu_\\overline{X}}{\\frac{\\sigma}{\\sqrt{n}}}$\n",
    "        * $\\overline{X}$ - the sample mean\n",
    "        * $\\mu_\\overline{X}$ - mean of the sampling distribution (which we assume to be 98.6)\n",
    "        * $\\sigma_\\overline{x} = $$\\frac{\\sigma}{\\sqrt{n}}$ - the standard error (the standard devation of the sample population)\n",
    "        \n",
    "    * $T-statistic: \\frac{\\overline{X} - \\mu_\\overline{X}}{\\frac{S}{\\sqrt{n}}}$\n",
    "        * $\\overline{X}$ - the sample mean\n",
    "        * $\\mu_\\overline{X}$ - mean of the sampling distribution (which we assume to be 98.6)\n",
    "        * $S$ - sample standard deviation\n",
    "        * $\\sqrt{n}$ - sample size"
   ]
  },
  {
   "cell_type": "markdown",
   "metadata": {},
   "source": [
    "### Question 4: At what temperature should we consider someone's temperature to be \"abnormal\"?"
   ]
  },
  {
   "cell_type": "code",
   "execution_count": 8,
   "metadata": {},
   "outputs": [
    {
     "name": "stdout",
     "output_type": "stream",
     "text": [
      "lower bound:  98.1231941122\n",
      "upper bound:  98.3752674262\n"
     ]
    }
   ],
   "source": [
    "# Computing a 95% confidence interval \n",
    "\n",
    "# This is the standard error \n",
    "se = temp_std/(np.sqrt(130))\n",
    "\n",
    "# We can be 95% confident that the actual mean body temp lies between 98.1231941122 & 98.3752674262\n",
    "lower = (temp_mean) - (1.96)*(se)\n",
    "upper = temp_mean + (1.96)*(se)\n",
    "print(\"lower bound: \", lower)\n",
    "print(\"upper bound: \", upper)"
   ]
  },
  {
   "cell_type": "markdown",
   "metadata": {},
   "source": [
    "Question 4 Answer: An abnormal temperature would fall outside of the 95% confidence interval [98.1231941122, 98.3752674262] (meaning you have a statistically significant lower/higher body temperature).  "
   ]
  },
  {
   "cell_type": "markdown",
   "metadata": {},
   "source": [
    "### Question 5: Is there a significant difference between males and females in normal temperature?\n",
    "* What test did you use and why?\n",
    "* Write a story with your conclusion in the context of the original problem."
   ]
  },
  {
   "cell_type": "code",
   "execution_count": 9,
   "metadata": {},
   "outputs": [
    {
     "name": "stdout",
     "output_type": "stream",
     "text": [
      "This is the 95% confidence interval:  [-0.25561610314952576, 0.25561610314952576]\n",
      "The difference of the means is:  0.289230769230727\n"
     ]
    }
   ],
   "source": [
    "# Isolate females and males\n",
    "female = df[df.gender == 'F']\n",
    "male = df[df.gender == 'M']\n",
    "\n",
    "# Find their temperature attributes\n",
    "female_temp = female.temperature\n",
    "male_temp = male.temperature\n",
    "\n",
    "# Calculate the difference of the means\n",
    "diff_mean = female_temp.mean() - male_temp.mean()\n",
    "\n",
    "# Find the variance between male and female populations\n",
    "variance = (female_temp.var() / len(female)) + (female_temp.var() / len(male))\n",
    "\n",
    "# Find the standard deviation from the variance\n",
    "stdvar = np.sqrt(variance)\n",
    "\n",
    "# Calculate the 95% confidence interval using z-score values of -1.96/1.96 \n",
    "lower = -1.96 * stdvar\n",
    "upper = 1.96 * stdvar\n",
    "\n",
    "print(\"This is the 95% confidence interval: \", [lower, upper])\n",
    "print(\"The difference of the means is: \", diff_mean)"
   ]
  },
  {
   "cell_type": "markdown",
   "metadata": {},
   "source": [
    "Question 5 Answer: Yes, there is a significant difference between normal body temperatures in females and males. The 95% CI (97.5% on a one-tailed test) shows that the threshold value is ~0.256 in the positive direction. Since the difference of the means (~0.289) is well into the critical region, we can conclude that the difference is likely not due to chance. \n",
    "\n",
    "* I used a significance test with a confidence interval of 95% to check if the difference of the means in body temperature between males and females is statistically significant.\n",
    "* By analyzing the body temperature data, we can see that it is highly unlikely that the average body temperature is 98.6ºF. We can be 95% confident that the actual average body temperature falls somewhere between 98.1231941122ºF and 98.3752674262ºF"
   ]
  },
  {
   "cell_type": "markdown",
   "metadata": {
    "collapsed": true
   },
   "source": [
    "independent t-test "
   ]
  }
 ],
 "metadata": {
  "kernelspec": {
   "display_name": "Python 3",
   "language": "python",
   "name": "python3"
  },
  "language_info": {
   "codemirror_mode": {
    "name": "ipython",
    "version": 3
   },
   "file_extension": ".py",
   "mimetype": "text/x-python",
   "name": "python",
   "nbconvert_exporter": "python",
   "pygments_lexer": "ipython3",
   "version": "3.6.1"
  }
 },
 "nbformat": 4,
 "nbformat_minor": 1
}
