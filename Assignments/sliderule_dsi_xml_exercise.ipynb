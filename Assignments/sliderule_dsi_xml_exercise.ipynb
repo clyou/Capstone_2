{
 "cells": [
  {
   "cell_type": "markdown",
   "metadata": {},
   "source": [
    "# XML example and exercise\n",
    "****\n",
    "+ study examples of accessing nodes in XML tree structure  \n",
    "+ work on exercise to be completed and submitted\n",
    "****\n",
    "+ reference: https://docs.python.org/2.7/library/xml.etree.elementtree.html\n",
    "+ data source: http://www.dbis.informatik.uni-goettingen.de/Mondial\n",
    "****"
   ]
  },
  {
   "cell_type": "code",
   "execution_count": 1,
   "metadata": {
    "collapsed": true
   },
   "outputs": [],
   "source": [
    "from xml.etree import ElementTree as ET\n",
    "import pandas as pd \n",
    "import numpy as np"
   ]
  },
  {
   "cell_type": "markdown",
   "metadata": {},
   "source": [
    "## XML example\n",
    "\n",
    "+ for details about tree traversal and iterators, see https://docs.python.org/2.7/library/xml.etree.elementtree.html"
   ]
  },
  {
   "cell_type": "code",
   "execution_count": 2,
   "metadata": {},
   "outputs": [],
   "source": [
    "document_tree = ET.parse( './data/mondial_database_less.xml' )"
   ]
  },
  {
   "cell_type": "code",
   "execution_count": 3,
   "metadata": {},
   "outputs": [
    {
     "name": "stdout",
     "output_type": "stream",
     "text": [
      "Albania\n",
      "Greece\n",
      "Macedonia\n",
      "Serbia\n",
      "Montenegro\n",
      "Kosovo\n",
      "Andorra\n"
     ]
    }
   ],
   "source": [
    "# print names of all countries\n",
    "for child in document_tree.getroot():\n",
    "    print(child.find('name').text)"
   ]
  },
  {
   "cell_type": "code",
   "execution_count": 4,
   "metadata": {},
   "outputs": [
    {
     "name": "stdout",
     "output_type": "stream",
     "text": [
      "* Albania:\n",
      "Tirana, Shkodër, Durrës, Vlorë, Elbasan, Korçë\n",
      "* Greece:\n",
      "Komotini, Kavala, Athina, Peiraias, Peristeri, Acharnes, Patra, Kozani, Kerkyra, Ioannina, Thessaloniki, Iraklio, Chania, Ermoupoli, Rhodes, Tripoli, Lamia, Chalkida, Larissa, Volos, Mytilini, Karyes\n",
      "* Macedonia:\n",
      "Skopje, Kumanovo\n",
      "* Serbia:\n",
      "Beograd, Novi Sad, Niš\n",
      "* Montenegro:\n",
      "Podgorica\n",
      "* Kosovo:\n",
      "Prishtine\n",
      "* Andorra:\n",
      "Andorra la Vella\n"
     ]
    }
   ],
   "source": [
    "# print names of all countries and their cities\n",
    "for element in document_tree.iterfind('country'):\n",
    "    print('* ' + element.find('name').text + ':'),\n",
    "    capitals_string = ''\n",
    "    for subelement in element.getiterator('city'):\n",
    "        capitals_string += subelement.find('name').text + ', '\n",
    "    print(capitals_string[:-2])"
   ]
  },
  {
   "cell_type": "markdown",
   "metadata": {},
   "source": [
    "****\n",
    "## XML exercise\n",
    "\n",
    "Using data in 'data/mondial_database.xml', the examples above, and refering to https://docs.python.org/2.7/library/xml.etree.elementtree.html, find\n",
    "\n",
    "1. 10 countries with the lowest infant mortality rates\n",
    "2. 10 cities with the largest population\n",
    "3. 10 ethnic groups with the largest overall populations (sum of best/latest estimates over all countries)\n",
    "4. name and country of a) longest river, b) largest lake and c) airport at highest elevation"
   ]
  },
  {
   "cell_type": "code",
   "execution_count": 5,
   "metadata": {
    "collapsed": true
   },
   "outputs": [],
   "source": [
    "root = ET.parse('./data/mondial_database.xml')"
   ]
  },
  {
   "cell_type": "markdown",
   "metadata": {},
   "source": [
    "# Answer to Question 1: 10 Countries with the lowest infant mortality rates"
   ]
  },
  {
   "cell_type": "code",
   "execution_count": 6,
   "metadata": {},
   "outputs": [
    {
     "data": {
      "text/html": [
       "<div>\n",
       "<table border=\"1\" class=\"dataframe\">\n",
       "  <thead>\n",
       "    <tr style=\"text-align: right;\">\n",
       "      <th></th>\n",
       "      <th>infant mortality</th>\n",
       "    </tr>\n",
       "  </thead>\n",
       "  <tbody>\n",
       "    <tr>\n",
       "      <th>Monaco</th>\n",
       "      <td>1.81</td>\n",
       "    </tr>\n",
       "    <tr>\n",
       "      <th>Japan</th>\n",
       "      <td>2.13</td>\n",
       "    </tr>\n",
       "    <tr>\n",
       "      <th>Bermuda</th>\n",
       "      <td>2.48</td>\n",
       "    </tr>\n",
       "    <tr>\n",
       "      <th>Norway</th>\n",
       "      <td>2.48</td>\n",
       "    </tr>\n",
       "    <tr>\n",
       "      <th>Singapore</th>\n",
       "      <td>2.53</td>\n",
       "    </tr>\n",
       "    <tr>\n",
       "      <th>Sweden</th>\n",
       "      <td>2.60</td>\n",
       "    </tr>\n",
       "    <tr>\n",
       "      <th>Czech Republic</th>\n",
       "      <td>2.63</td>\n",
       "    </tr>\n",
       "    <tr>\n",
       "      <th>Hong Kong</th>\n",
       "      <td>2.73</td>\n",
       "    </tr>\n",
       "    <tr>\n",
       "      <th>Macao</th>\n",
       "      <td>3.13</td>\n",
       "    </tr>\n",
       "    <tr>\n",
       "      <th>Iceland</th>\n",
       "      <td>3.15</td>\n",
       "    </tr>\n",
       "  </tbody>\n",
       "</table>\n",
       "</div>"
      ],
      "text/plain": [
       "                infant mortality\n",
       "Monaco                      1.81\n",
       "Japan                       2.13\n",
       "Bermuda                     2.48\n",
       "Norway                      2.48\n",
       "Singapore                   2.53\n",
       "Sweden                      2.60\n",
       "Czech Republic              2.63\n",
       "Hong Kong                   2.73\n",
       "Macao                       3.13\n",
       "Iceland                     3.15"
      ]
     },
     "execution_count": 6,
     "metadata": {},
     "output_type": "execute_result"
    }
   ],
   "source": [
    "infant_mortal = {}\n",
    "\n",
    "for country in root.iterfind('country'):\n",
    "    #for z in country.findall('name'):\n",
    "        #print(z.text)\n",
    "    for y in country.findall('infant_mortality'):\n",
    "        #print(y.attrib,y.text)\n",
    "        infant_mortal[country.find('name').text] = [y.text]\n",
    "\n",
    "inf_df = pd.DataFrame.from_dict(infant_mortal, orient = 'index')\n",
    "inf_df.columns = ['infant mortality']\n",
    "inf_df['infant mortality'] = pd.to_numeric(inf_df['infant mortality'])\n",
    "inf_df.sort_values(by='infant mortality').head(10)"
   ]
  },
  {
   "cell_type": "markdown",
   "metadata": {},
   "source": [
    "# Answer to Question 2: 10 Cities with the largest population (by year with highest number)"
   ]
  },
  {
   "cell_type": "code",
   "execution_count": 8,
   "metadata": {},
   "outputs": [
    {
     "data": {
      "text/html": [
       "<div>\n",
       "<table border=\"1\" class=\"dataframe\">\n",
       "  <thead>\n",
       "    <tr style=\"text-align: right;\">\n",
       "      <th></th>\n",
       "      <th>Year</th>\n",
       "      <th>Population</th>\n",
       "    </tr>\n",
       "  </thead>\n",
       "  <tbody>\n",
       "    <tr>\n",
       "      <th>Shanghai</th>\n",
       "      <td>2010</td>\n",
       "      <td>22315474</td>\n",
       "    </tr>\n",
       "    <tr>\n",
       "      <th>Istanbul</th>\n",
       "      <td>2012</td>\n",
       "      <td>13710512</td>\n",
       "    </tr>\n",
       "    <tr>\n",
       "      <th>Mumbai</th>\n",
       "      <td>2011</td>\n",
       "      <td>12442373</td>\n",
       "    </tr>\n",
       "    <tr>\n",
       "      <th>Moskva</th>\n",
       "      <td>2013</td>\n",
       "      <td>11979529</td>\n",
       "    </tr>\n",
       "    <tr>\n",
       "      <th>Beijing</th>\n",
       "      <td>2010</td>\n",
       "      <td>11716620</td>\n",
       "    </tr>\n",
       "    <tr>\n",
       "      <th>São Paulo</th>\n",
       "      <td>2010</td>\n",
       "      <td>11152344</td>\n",
       "    </tr>\n",
       "    <tr>\n",
       "      <th>Tianjin</th>\n",
       "      <td>2010</td>\n",
       "      <td>11090314</td>\n",
       "    </tr>\n",
       "    <tr>\n",
       "      <th>Guangzhou</th>\n",
       "      <td>2010</td>\n",
       "      <td>11071424</td>\n",
       "    </tr>\n",
       "    <tr>\n",
       "      <th>Delhi</th>\n",
       "      <td>2011</td>\n",
       "      <td>11034555</td>\n",
       "    </tr>\n",
       "    <tr>\n",
       "      <th>Shenzhen</th>\n",
       "      <td>2010</td>\n",
       "      <td>10358381</td>\n",
       "    </tr>\n",
       "  </tbody>\n",
       "</table>\n",
       "</div>"
      ],
      "text/plain": [
       "           Year  Population\n",
       "Shanghai   2010    22315474\n",
       "Istanbul   2012    13710512\n",
       "Mumbai     2011    12442373\n",
       "Moskva     2013    11979529\n",
       "Beijing    2010    11716620\n",
       "São Paulo  2010    11152344\n",
       "Tianjin    2010    11090314\n",
       "Guangzhou  2010    11071424\n",
       "Delhi      2011    11034555\n",
       "Shenzhen   2010    10358381"
      ]
     },
     "execution_count": 8,
     "metadata": {},
     "output_type": "execute_result"
    }
   ],
   "source": [
    "###10 cities with the largest population\n",
    "\n",
    "cities = {}\n",
    "\n",
    "for country in root.findall('country'):\n",
    "    for city in country.findall('.//city'):\n",
    "        for pop in city.findall('.//population'):\n",
    "            cities[city.find('name').text] = [pop.attrib['year']] + [pop.text]\n",
    "            \n",
    "cities_df = pd.DataFrame.from_dict(cities, orient='index')\n",
    "cities_df.columns = ['Year', 'Population']\n",
    "cities_df.Population = pd.to_numeric(cities_df.Population)\n",
    "cities_df.sort_values(\"Population\", ascending=False).head(10)"
   ]
  },
  {
   "cell_type": "markdown",
   "metadata": {},
   "source": [
    "# Building a DataFrame with Ethnic Groups by Country Population "
   ]
  },
  {
   "cell_type": "code",
   "execution_count": 11,
   "metadata": {},
   "outputs": [
    {
     "data": {
      "text/html": [
       "<div>\n",
       "<table border=\"1\" class=\"dataframe\">\n",
       "  <thead>\n",
       "    <tr style=\"text-align: right;\">\n",
       "      <th></th>\n",
       "      <th>Country</th>\n",
       "      <th>Ethnic Group</th>\n",
       "      <th>Percent of Population</th>\n",
       "      <th>Total Population</th>\n",
       "      <th>Group Population</th>\n",
       "    </tr>\n",
       "  </thead>\n",
       "  <tbody>\n",
       "    <tr>\n",
       "      <th>0</th>\n",
       "      <td>Albania</td>\n",
       "      <td>Albanian</td>\n",
       "      <td>95</td>\n",
       "      <td>2800138</td>\n",
       "      <td>2.660131e+06</td>\n",
       "    </tr>\n",
       "    <tr>\n",
       "      <th>1</th>\n",
       "      <td>Albania</td>\n",
       "      <td>Greek</td>\n",
       "      <td>3</td>\n",
       "      <td>2800138</td>\n",
       "      <td>8.400414e+04</td>\n",
       "    </tr>\n",
       "    <tr>\n",
       "      <th>2</th>\n",
       "      <td>Greece</td>\n",
       "      <td>Greek</td>\n",
       "      <td>93</td>\n",
       "      <td>10816286</td>\n",
       "      <td>1.005915e+07</td>\n",
       "    </tr>\n",
       "    <tr>\n",
       "      <th>3</th>\n",
       "      <td>Macedonia</td>\n",
       "      <td>Macedonian</td>\n",
       "      <td>64.2</td>\n",
       "      <td>2059794</td>\n",
       "      <td>1.322388e+06</td>\n",
       "    </tr>\n",
       "    <tr>\n",
       "      <th>4</th>\n",
       "      <td>Macedonia</td>\n",
       "      <td>Albanian</td>\n",
       "      <td>25.2</td>\n",
       "      <td>2059794</td>\n",
       "      <td>5.190681e+05</td>\n",
       "    </tr>\n",
       "  </tbody>\n",
       "</table>\n",
       "</div>"
      ],
      "text/plain": [
       "     Country Ethnic Group Percent of Population Total Population  \\\n",
       "0    Albania     Albanian                    95          2800138   \n",
       "1    Albania        Greek                     3          2800138   \n",
       "2     Greece        Greek                    93         10816286   \n",
       "3  Macedonia   Macedonian                  64.2          2059794   \n",
       "4  Macedonia     Albanian                  25.2          2059794   \n",
       "\n",
       "   Group Population  \n",
       "0      2.660131e+06  \n",
       "1      8.400414e+04  \n",
       "2      1.005915e+07  \n",
       "3      1.322388e+06  \n",
       "4      5.190681e+05  "
      ]
     },
     "execution_count": 11,
     "metadata": {},
     "output_type": "execute_result"
    }
   ],
   "source": [
    "elements = []\n",
    "\n",
    "def slice_per(source, step):\n",
    "    return [source[i::step] for i in range(step)]\n",
    "\n",
    "for country in root.findall('country'):\n",
    "    country_name = country.find('name').text\n",
    "    for population in country.findall('population'):\n",
    "        country_pop = population.text\n",
    "        \n",
    "    for ethnicgroup in country.findall('ethnicgroup'):\n",
    "        elements.append(country_name)\n",
    "        ethnic_group = ethnicgroup.text\n",
    "        elements.append(ethnic_group)\n",
    "        ethnic_pct = ethnicgroup.attrib['percentage']\n",
    "        elements.append(ethnic_pct)\n",
    "        population = ethnicgroup\n",
    "        elements.append(country_pop)\n",
    "\n",
    "df = pd.DataFrame(slice_per(elements, 4)).transpose()\n",
    "df.columns = ['Country', 'Ethnic Group', 'Percent of Population', 'Total Population']\n",
    "df['Group Population'] = df[('Percent of Population')].astype(float)/100 * df[('Total Population')].astype(float)\n",
    "df.head()"
   ]
  },
  {
   "cell_type": "markdown",
   "metadata": {},
   "source": [
    "# Answer to Question 3: The 10 Largest Ethnic Groups"
   ]
  },
  {
   "cell_type": "code",
   "execution_count": 12,
   "metadata": {},
   "outputs": [
    {
     "data": {
      "text/html": [
       "<div>\n",
       "<table border=\"1\" class=\"dataframe\">\n",
       "  <thead>\n",
       "    <tr style=\"text-align: right;\">\n",
       "      <th></th>\n",
       "      <th>Group Population</th>\n",
       "    </tr>\n",
       "    <tr>\n",
       "      <th>Ethnic Group</th>\n",
       "      <th></th>\n",
       "    </tr>\n",
       "  </thead>\n",
       "  <tbody>\n",
       "    <tr>\n",
       "      <th>Han Chinese</th>\n",
       "      <td>1.245059e+09</td>\n",
       "    </tr>\n",
       "    <tr>\n",
       "      <th>Indo-Aryan</th>\n",
       "      <td>8.718156e+08</td>\n",
       "    </tr>\n",
       "    <tr>\n",
       "      <th>European</th>\n",
       "      <td>4.948722e+08</td>\n",
       "    </tr>\n",
       "    <tr>\n",
       "      <th>African</th>\n",
       "      <td>3.183251e+08</td>\n",
       "    </tr>\n",
       "    <tr>\n",
       "      <th>Dravidian</th>\n",
       "      <td>3.027137e+08</td>\n",
       "    </tr>\n",
       "    <tr>\n",
       "      <th>Mestizo</th>\n",
       "      <td>1.577344e+08</td>\n",
       "    </tr>\n",
       "    <tr>\n",
       "      <th>Bengali</th>\n",
       "      <td>1.467769e+08</td>\n",
       "    </tr>\n",
       "    <tr>\n",
       "      <th>Russian</th>\n",
       "      <td>1.318570e+08</td>\n",
       "    </tr>\n",
       "    <tr>\n",
       "      <th>Japanese</th>\n",
       "      <td>1.265342e+08</td>\n",
       "    </tr>\n",
       "    <tr>\n",
       "      <th>Malay</th>\n",
       "      <td>1.219936e+08</td>\n",
       "    </tr>\n",
       "  </tbody>\n",
       "</table>\n",
       "</div>"
      ],
      "text/plain": [
       "              Group Population\n",
       "Ethnic Group                  \n",
       "Han Chinese       1.245059e+09\n",
       "Indo-Aryan        8.718156e+08\n",
       "European          4.948722e+08\n",
       "African           3.183251e+08\n",
       "Dravidian         3.027137e+08\n",
       "Mestizo           1.577344e+08\n",
       "Bengali           1.467769e+08\n",
       "Russian           1.318570e+08\n",
       "Japanese          1.265342e+08\n",
       "Malay             1.219936e+08"
      ]
     },
     "execution_count": 12,
     "metadata": {},
     "output_type": "execute_result"
    }
   ],
   "source": [
    "df.groupby('Ethnic Group').sum().sort_values(by='Group Population', ascending=False).head(10)"
   ]
  },
  {
   "cell_type": "code",
   "execution_count": 13,
   "metadata": {},
   "outputs": [],
   "source": [
    "country_dict = {}\n",
    "\n",
    "for country in root.findall('country'):\n",
    "    country_code = country.attrib['car_code']\n",
    "    for name in country.findall('name'):\n",
    "        country_name = name.text\n",
    "    country_dict[country_code] = country_name"
   ]
  },
  {
   "cell_type": "markdown",
   "metadata": {},
   "source": [
    "# Answer to Question 4a: Country/Countries with the longest river"
   ]
  },
  {
   "cell_type": "code",
   "execution_count": 14,
   "metadata": {},
   "outputs": [
    {
     "data": {
      "text/html": [
       "<div>\n",
       "<table border=\"1\" class=\"dataframe\">\n",
       "  <thead>\n",
       "    <tr style=\"text-align: right;\">\n",
       "      <th></th>\n",
       "      <th>Country/Countries</th>\n",
       "      <th>River Name</th>\n",
       "      <th>River Length</th>\n",
       "    </tr>\n",
       "  </thead>\n",
       "  <tbody>\n",
       "    <tr>\n",
       "      <th>174</th>\n",
       "      <td>[CO, BR, PE, Colombia, Brazil, Peru]</td>\n",
       "      <td>Amazonas</td>\n",
       "      <td>6448.0</td>\n",
       "    </tr>\n",
       "  </tbody>\n",
       "</table>\n",
       "</div>"
      ],
      "text/plain": [
       "                        Country/Countries River Name  River Length\n",
       "174  [CO, BR, PE, Colombia, Brazil, Peru]   Amazonas        6448.0"
      ]
     },
     "execution_count": 14,
     "metadata": {},
     "output_type": "execute_result"
    }
   ],
   "source": [
    "#name and country of a) longest river, b) largest lake and c) airport at highest elevation\n",
    "\n",
    "rivers = []\n",
    "countries = []\n",
    "country_names = []\n",
    "country_dict = {}\n",
    "\n",
    "for country in root.findall('country'):\n",
    "    country_code = country.attrib['car_code']\n",
    "    for name in country.findall('name'):\n",
    "        country_name = name.text\n",
    "    country_dict[country_code] = country_name\n",
    "\n",
    "for riv in root.findall('river'):\n",
    "    country = riv.attrib['country'].split()\n",
    "    country_names = list(filter(lambda x: country_dict[x], country))\n",
    "    for country in countries:\n",
    "        country_names.append(country)\n",
    "    for item in country:\n",
    "        country_name = country_dict[item]\n",
    "        country_names.append(country_name)\n",
    "    for name in riv.findall('name'):\n",
    "        river_name = name.text\n",
    "    for length in riv.findall('length'):\n",
    "        river_length = length.text\n",
    "        rivers.append([country_names, river_name, river_length])\n",
    "        \n",
    "rivers_df = pd.DataFrame.from_records(rivers, columns=['Country/Countries', 'River Name', 'River Length'])\n",
    "rivers_df['River Length'] = pd.to_numeric(rivers_df['River Length'])\n",
    "rivers_df.sort_values('River Length', ascending=False).head(1)['Country/Countries']\n",
    "rivers_df.sort_values('River Length', ascending=False).head(1)"
   ]
  },
  {
   "cell_type": "markdown",
   "metadata": {},
   "source": [
    "# Answer to Question 4b: Country/Countries with the largest lake"
   ]
  },
  {
   "cell_type": "code",
   "execution_count": 15,
   "metadata": {},
   "outputs": [
    {
     "data": {
      "text/html": [
       "<div>\n",
       "<table border=\"1\" class=\"dataframe\">\n",
       "  <thead>\n",
       "    <tr style=\"text-align: right;\">\n",
       "      <th></th>\n",
       "      <th>Country/Countries</th>\n",
       "      <th>Lake Name</th>\n",
       "      <th>Lake Area</th>\n",
       "    </tr>\n",
       "  </thead>\n",
       "  <tbody>\n",
       "    <tr>\n",
       "      <th>54</th>\n",
       "      <td>[R, AZ, KAZ, IR, TM, Russia, Azerbaijan, Kazakhstan, Iran, Turkmenistan]</td>\n",
       "      <td>Caspian Sea</td>\n",
       "      <td>386400.0</td>\n",
       "    </tr>\n",
       "  </tbody>\n",
       "</table>\n",
       "</div>"
      ],
      "text/plain": [
       "                                                           Country/Countries  \\\n",
       "54  [R, AZ, KAZ, IR, TM, Russia, Azerbaijan, Kazakhstan, Iran, Turkmenistan]   \n",
       "\n",
       "      Lake Name  Lake Area  \n",
       "54  Caspian Sea  386400.0   "
      ]
     },
     "execution_count": 15,
     "metadata": {},
     "output_type": "execute_result"
    }
   ],
   "source": [
    "lakes = []\n",
    "countries = []\n",
    "country_names = []\n",
    "\n",
    "for lake in root.findall('lake'):\n",
    "    country = lake.attrib['country'].split()\n",
    "    country_names = list(filter(lambda x: country_dict[x], country))\n",
    "    for country in countries:\n",
    "        country_names.append(country)\n",
    "    for item in country:\n",
    "        country_name = country_dict[item]\n",
    "        country_names.append(country_name)\n",
    "    for name in lake.findall('name'):\n",
    "        lake_name = name.text\n",
    "    for area in lake.findall('area'):\n",
    "        lake_area = area.text\n",
    "        lakes.append([country_names, lake_name, lake_area])\n",
    "        \n",
    "lakes_df = pd.DataFrame.from_records(lakes, columns=['Country/Countries', 'Lake Name', 'Lake Area'])\n",
    "lakes_df['Lake Area'] = pd.to_numeric(lakes_df['Lake Area'])\n",
    "pd.set_option('display.max_colwidth', -1)\n",
    "lakes_df.sort_values('Lake Area', ascending=False).head(1)"
   ]
  },
  {
   "cell_type": "markdown",
   "metadata": {},
   "source": [
    "# Answer to Question 4c: Country/Countries with the highest airport"
   ]
  },
  {
   "cell_type": "code",
   "execution_count": 16,
   "metadata": {},
   "outputs": [
    {
     "data": {
      "text/html": [
       "<div>\n",
       "<table border=\"1\" class=\"dataframe\">\n",
       "  <thead>\n",
       "    <tr style=\"text-align: right;\">\n",
       "      <th></th>\n",
       "      <th>Country/Countries</th>\n",
       "      <th>Airport Name</th>\n",
       "      <th>Airport Altitude</th>\n",
       "    </tr>\n",
       "  </thead>\n",
       "  <tbody>\n",
       "    <tr>\n",
       "      <th>80</th>\n",
       "      <td>[BOL, Bolivia]</td>\n",
       "      <td>El Alto Intl</td>\n",
       "      <td>4063.0</td>\n",
       "    </tr>\n",
       "  </tbody>\n",
       "</table>\n",
       "</div>"
      ],
      "text/plain": [
       "   Country/Countries  Airport Name  Airport Altitude\n",
       "80  [BOL, Bolivia]    El Alto Intl  4063.0          "
      ]
     },
     "execution_count": 16,
     "metadata": {},
     "output_type": "execute_result"
    }
   ],
   "source": [
    "airports = []\n",
    "\n",
    "for air in root.findall('airport'):\n",
    "    country = air.attrib['country'].split()\n",
    "    country_names = list(filter(lambda x: country_dict[x], country))\n",
    "    for country in countries:\n",
    "        country_names.append(country)\n",
    "    for item in country:\n",
    "        country_name = country_dict[item]\n",
    "        country_names.append(country_name)\n",
    "    for name in air.findall('name'):\n",
    "        airport_name = name.text\n",
    "    for elev in air.findall('elevation'):\n",
    "        airport_elev = elev.text\n",
    "        airports.append([country_names, airport_name, airport_elev])\n",
    "\n",
    "airports_df = pd.DataFrame.from_records(airports, columns=['Country/Countries', 'Airport Name', 'Airport Altitude'])\n",
    "airports_df['Airport Altitude'] = pd.to_numeric(airports_df['Airport Altitude'])\n",
    "airports_df.sort_values('Airport Altitude', ascending=False).dropna(0).head(1)"
   ]
  }
 ],
 "metadata": {
  "kernelspec": {
   "display_name": "Python 3",
   "language": "python",
   "name": "python3"
  },
  "language_info": {
   "codemirror_mode": {
    "name": "ipython",
    "version": 3
   },
   "file_extension": ".py",
   "mimetype": "text/x-python",
   "name": "python",
   "nbconvert_exporter": "python",
   "pygments_lexer": "ipython3",
   "version": "3.6.1"
  }
 },
 "nbformat": 4,
 "nbformat_minor": 1
}
