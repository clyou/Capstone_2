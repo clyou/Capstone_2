{
 "cells": [
  {
   "cell_type": "code",
   "execution_count": 1,
   "metadata": {
    "collapsed": true
   },
   "outputs": [],
   "source": [
    "import pandas as pd\n",
    "import numpy as np"
   ]
  },
  {
   "cell_type": "code",
   "execution_count": 2,
   "metadata": {
    "collapsed": true
   },
   "outputs": [],
   "source": [
    "rng = pd.date_range('1/1/2011', periods=72, freq='H')\n",
    "ts = pd.Series(np.random.randn(len(rng)), index=rng)"
   ]
  },
  {
   "cell_type": "code",
   "execution_count": 3,
   "metadata": {},
   "outputs": [
    {
     "data": {
      "text/plain": [
       "72"
      ]
     },
     "execution_count": 3,
     "metadata": {},
     "output_type": "execute_result"
    }
   ],
   "source": [
    "len(ts)"
   ]
  },
  {
   "cell_type": "code",
   "execution_count": 4,
   "metadata": {},
   "outputs": [
    {
     "data": {
      "text/plain": [
       "2011-01-01 00:00:00   -1.117978\n",
       "2011-01-01 00:45:00   -1.117978\n",
       "2011-01-01 01:30:00   -0.980373\n",
       "2011-01-01 02:15:00   -0.346101\n",
       "2011-01-01 03:00:00   -2.371941\n",
       "Freq: 45T, dtype: float64"
      ]
     },
     "execution_count": 4,
     "metadata": {},
     "output_type": "execute_result"
    }
   ],
   "source": [
    "converted = ts.asfreq('45Min', method='pad')\n",
    "converted.head()"
   ]
  },
  {
   "cell_type": "code",
   "execution_count": 5,
   "metadata": {},
   "outputs": [
    {
     "data": {
      "text/plain": [
       "95"
      ]
     },
     "execution_count": 5,
     "metadata": {},
     "output_type": "execute_result"
    }
   ],
   "source": [
    "# Does asfreq change the # of rows?\n",
    "\n",
    "len(converted)"
   ]
  },
  {
   "cell_type": "markdown",
   "metadata": {},
   "source": [
    "Yes, .asfreq() added 23 rows of data "
   ]
  },
  {
   "cell_type": "code",
   "execution_count": 6,
   "metadata": {
    "collapsed": true
   },
   "outputs": [],
   "source": [
    "# What do the different methods do?\n",
    "# method : {‘backfill’, ‘bfill’, ‘pad’, ‘ffill’, None}\n",
    "\n",
    "# backfill/bfill are the same\n",
    "backfill = ts.asfreq('45Min', method='backfill')\n",
    "bfill = ts.asfreq('45Min', method='bfill')\n",
    "\n",
    "# pad/ffill are the same\n",
    "pad = ts.asfreq('45Min', method='pad')\n",
    "ffill = ts.asfreq('45Min', method='ffill')\n",
    "\n",
    "# none does nothing \n",
    "none = ts.asfreq('45Min', method=None)"
   ]
  },
  {
   "cell_type": "markdown",
   "metadata": {},
   "source": [
    "backfill and bfill': use next valid observation to fill missing data \n",
    "\n",
    "pad and ffill: propagate the last valid observation forward to next valid observation"
   ]
  },
  {
   "cell_type": "code",
   "execution_count": 7,
   "metadata": {},
   "outputs": [
    {
     "name": "stdout",
     "output_type": "stream",
     "text": [
      "2011-01-01 00:00:00   -1.117978\n",
      "2011-01-01 00:45:00   -0.980373\n",
      "2011-01-01 01:30:00   -0.346101\n",
      "2011-01-01 02:15:00   -2.371941\n",
      "2011-01-01 03:00:00   -2.371941\n",
      "Freq: 45T, dtype: float64\n",
      "95\n"
     ]
    }
   ],
   "source": [
    "print(backfill.head())\n",
    "print(len(backfill))"
   ]
  },
  {
   "cell_type": "code",
   "execution_count": 8,
   "metadata": {},
   "outputs": [
    {
     "name": "stdout",
     "output_type": "stream",
     "text": [
      "2011-01-01 00:00:00   -1.117978\n",
      "2011-01-01 00:45:00   -0.980373\n",
      "2011-01-01 01:30:00   -0.346101\n",
      "2011-01-01 02:15:00   -2.371941\n",
      "2011-01-01 03:00:00   -2.371941\n",
      "Freq: 45T, dtype: float64\n",
      "95\n"
     ]
    }
   ],
   "source": [
    "print(bfill.head())\n",
    "print(len(bfill))"
   ]
  },
  {
   "cell_type": "code",
   "execution_count": 9,
   "metadata": {},
   "outputs": [
    {
     "name": "stdout",
     "output_type": "stream",
     "text": [
      "2011-01-01 00:00:00   -1.117978\n",
      "2011-01-01 00:45:00   -1.117978\n",
      "2011-01-01 01:30:00   -0.980373\n",
      "2011-01-01 02:15:00   -0.346101\n",
      "2011-01-01 03:00:00   -2.371941\n",
      "Freq: 45T, dtype: float64\n",
      "95\n"
     ]
    }
   ],
   "source": [
    "print(pad.head())\n",
    "print(len(pad))"
   ]
  },
  {
   "cell_type": "code",
   "execution_count": 10,
   "metadata": {},
   "outputs": [
    {
     "name": "stdout",
     "output_type": "stream",
     "text": [
      "2011-01-01 00:00:00   -1.117978\n",
      "2011-01-01 00:45:00   -1.117978\n",
      "2011-01-01 01:30:00   -0.980373\n",
      "2011-01-01 02:15:00   -0.346101\n",
      "2011-01-01 03:00:00   -2.371941\n",
      "Freq: 45T, dtype: float64\n",
      "95\n"
     ]
    }
   ],
   "source": [
    "print(ffill.head())\n",
    "print(len(ffill))"
   ]
  },
  {
   "cell_type": "code",
   "execution_count": 11,
   "metadata": {},
   "outputs": [
    {
     "name": "stdout",
     "output_type": "stream",
     "text": [
      "2011-01-01 00:00:00   -1.117978\n",
      "2011-01-01 00:45:00         NaN\n",
      "2011-01-01 01:30:00         NaN\n",
      "2011-01-01 02:15:00         NaN\n",
      "2011-01-01 03:00:00   -2.371941\n",
      "Freq: 45T, dtype: float64\n",
      "95\n"
     ]
    }
   ],
   "source": [
    "print(none.head())\n",
    "print(len(none))"
   ]
  },
  {
   "cell_type": "code",
   "execution_count": 12,
   "metadata": {
    "collapsed": true
   },
   "outputs": [],
   "source": [
    "# Might any of these methods have pitfalls from a logical point of view?"
   ]
  },
  {
   "cell_type": "markdown",
   "metadata": {},
   "source": [
    "Yes, depending on the method of resampling (backfill/bfill or pad/ffill) we could affect the data in unforseen ways that skwews the results. Backfills are particularly dangerous because they \"look ahead\" to fill in missing data."
   ]
  },
  {
   "cell_type": "code",
   "execution_count": 13,
   "metadata": {
    "collapsed": true
   },
   "outputs": [],
   "source": [
    "# What's the difference between going to a higher frequency and a lower frequency?"
   ]
  },
  {
   "cell_type": "markdown",
   "metadata": {},
   "source": [
    "Higher frequency means more rows and needing more data points. In other words, there is more frequent measurement."
   ]
  },
  {
   "cell_type": "code",
   "execution_count": 14,
   "metadata": {},
   "outputs": [
    {
     "data": {
      "text/plain": [
       "2011-01-01 00:00:00   -1.117978\n",
       "2011-01-01 01:30:00   -0.346101\n",
       "2011-01-01 03:00:00   -2.371941\n",
       "2011-01-01 04:30:00    0.148865\n",
       "2011-01-01 06:00:00    0.235757\n",
       "Freq: 90T, dtype: float64"
      ]
     },
     "execution_count": 14,
     "metadata": {},
     "output_type": "execute_result"
    }
   ],
   "source": [
    "converted = ts.asfreq('90Min', method = 'bfill')\n",
    "converted.head()"
   ]
  },
  {
   "cell_type": "code",
   "execution_count": 15,
   "metadata": {
    "collapsed": true
   },
   "outputs": [],
   "source": [
    "# What's different logically about going to a higher frequency vs a lower frequency? \n",
    "# What do you want to do when switching to a lower freqeuncy that is not logical when switching to a higher frequency?"
   ]
  },
  {
   "cell_type": "markdown",
   "metadata": {},
   "source": [
    "Going to a higher frequency means more measurement for a given time period. This mean you need more data points but some may not exist and thus need filling techniques.\n",
    "When you go to a lower frequency, you want to compress the data points in such a way that the values are still representative for the time period."
   ]
  },
  {
   "cell_type": "code",
   "execution_count": 16,
   "metadata": {},
   "outputs": [
    {
     "data": {
      "text/plain": [
       "2011-01-01    0.348825\n",
       "2011-01-02   -6.810682\n",
       "2011-01-03    1.044406\n",
       "Freq: D, dtype: float64"
      ]
     },
     "execution_count": 16,
     "metadata": {},
     "output_type": "execute_result"
    }
   ],
   "source": [
    "ts.resample('D').sum()"
   ]
  },
  {
   "cell_type": "code",
   "execution_count": 17,
   "metadata": {
    "collapsed": true
   },
   "outputs": [],
   "source": [
    "# What if you want to downsample and you don't want to ffill or bfill?"
   ]
  },
  {
   "cell_type": "markdown",
   "metadata": {},
   "source": [
    "One should expect a loss in orignal data based on the scale of the downsample. If one were to do an upsample with None, one should expect Nan values filled in the extra rows."
   ]
  },
  {
   "cell_type": "code",
   "execution_count": 18,
   "metadata": {
    "collapsed": true
   },
   "outputs": [],
   "source": [
    "# What is the difference between .resample() and .asfreq()?"
   ]
  },
  {
   "cell_type": "markdown",
   "metadata": {},
   "source": [
    "Resample helps to move to a lower frequency without losing the data points, asfreq simply drops observations that don't match."
   ]
  },
  {
   "cell_type": "code",
   "execution_count": 19,
   "metadata": {
    "collapsed": true
   },
   "outputs": [],
   "source": [
    "# What are some special things you can do with .resample() you can't do with .asfreq()?"
   ]
  },
  {
   "cell_type": "markdown",
   "metadata": {
    "collapsed": true
   },
   "source": [
    ".resample() functions as a groupby object from which we can derive inferrential statistics from"
   ]
  },
  {
   "cell_type": "code",
   "execution_count": null,
   "metadata": {
    "collapsed": true
   },
   "outputs": [],
   "source": []
  }
 ],
 "metadata": {
  "kernelspec": {
   "display_name": "Python 3",
   "language": "python",
   "name": "python3"
  },
  "language_info": {
   "codemirror_mode": {
    "name": "ipython",
    "version": 3
   },
   "file_extension": ".py",
   "mimetype": "text/x-python",
   "name": "python",
   "nbconvert_exporter": "python",
   "pygments_lexer": "ipython3",
   "version": "3.6.1"
  },
  "widgets": {
   "state": {},
   "version": "1.1.1"
  }
 },
 "nbformat": 4,
 "nbformat_minor": 1
}
