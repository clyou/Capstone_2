{
 "cells": [
  {
   "cell_type": "code",
   "execution_count": 1,
   "metadata": {
    "collapsed": true
   },
   "outputs": [],
   "source": [
    "import numpy as np\n",
    "import pandas as pd"
   ]
  },
  {
   "cell_type": "code",
   "execution_count": 2,
   "metadata": {
    "collapsed": true
   },
   "outputs": [],
   "source": [
    "rng = pd.date_range('3/6/2012 00:00', periods = 15, freq = 'D')\n",
    "rng.tz"
   ]
  },
  {
   "cell_type": "code",
   "execution_count": 3,
   "metadata": {},
   "outputs": [
    {
     "data": {
      "text/plain": [
       "<DstTzInfo 'Europe/London' LMT-1 day, 23:59:00 STD>"
      ]
     },
     "execution_count": 3,
     "metadata": {},
     "output_type": "execute_result"
    }
   ],
   "source": [
    "rng_tz = pd.date_range('3/6/2012 00:00', periods = 15, freq = 'D', tz = 'Europe/London')\n",
    "rng_tz.tz"
   ]
  },
  {
   "cell_type": "code",
   "execution_count": 4,
   "metadata": {},
   "outputs": [
    {
     "name": "stdout",
     "output_type": "stream",
     "text": [
      "439\n",
      "593\n",
      "{'Asia/Ashkhabad', 'America/Buenos_Aires', 'Portugal', 'Europe/Belfast', 'WET', 'Etc/GMT-8', 'EET', 'Canada/East-Saskatchewan', 'GMT0', 'America/Coral_Harbour', 'Asia/Ulan_Bator', 'US/Samoa', 'Etc/GMT-6', 'Etc/GMT+1', 'Etc/GMT', 'America/Virgin', 'Africa/Timbuktu', 'America/Fort_Wayne', 'Etc/GMT+0', 'Etc/GMT-2', 'Asia/Rangoon', 'Pacific/Yap', 'US/Aleutian', 'Australia/Yancowinna', 'Jamaica', 'Brazil/West', 'Asia/Ujung_Pandang', 'Etc/GMT-11', 'Mexico/General', 'Asia/Dacca', 'Etc/GMT+4', 'America/Ensenada', 'Etc/GMT-9', 'Antarctica/South_Pole', 'NZ-CHAT', 'Pacific/Johnston', 'Mexico/BajaNorte', 'PRC', 'Etc/GMT+8', 'Cuba', 'Canada/Yukon', 'America/Mendoza', 'America/Shiprock', 'Asia/Katmandu', 'MST7MDT', 'Canada/Saskatchewan', 'Asia/Saigon', 'Pacific/Ponape', 'Atlantic/Jan_Mayen', 'Asia/Thimbu', 'Australia/Queensland', 'Egypt', 'Israel', 'Asia/Macao', 'Etc/GMT-13', 'Asia/Chongqing', 'Australia/LHI', 'Etc/GMT+5', 'Etc/GMT+11', 'W-SU', 'Greenwich', 'US/East-Indiana', 'Poland', 'Etc/GMT-4', 'MST', 'Asia/Istanbul', 'Etc/GMT-1', 'Etc/GMT+12', 'America/Argentina/ComodRivadavia', 'America/Montreal', 'Europe/Nicosia', 'Universal', 'Etc/GMT-10', 'America/Porto_Acre', 'CET', 'Brazil/East', 'Pacific/Samoa', 'Etc/UTC', 'Etc/GMT+6', 'Australia/Victoria', 'America/Indianapolis', 'Etc/Greenwich', 'Asia/Tel_Aviv', 'EST', 'PST8PDT', 'GMT-0', 'CST6CDT', 'America/Atka', 'Etc/GMT-12', 'Etc/Universal', 'Iran', 'Etc/GMT-3', 'Chile/Continental', 'Singapore', 'Turkey', 'Etc/GMT0', 'Asia/Chungking', 'Australia/North', 'Australia/Tasmania', 'America/Knox_IN', 'Zulu', 'America/Santa_Isabel', 'Etc/GMT+2', 'Australia/West', 'Etc/GMT+10', 'Africa/Asmera', 'Asia/Harbin', 'America/Rosario', 'MET', 'Australia/NSW', 'US/Indiana-Starke', 'US/Michigan', 'Asia/Calcutta', 'Etc/GMT+7', 'Etc/GMT-5', 'America/Louisville', 'Etc/GMT-0', 'Hongkong', 'Etc/GMT+9', 'Etc/UCT', 'Australia/Canberra', 'Chile/EasterIsland', 'Eire', 'GB', 'Atlantic/Faeroe', 'EST5EDT', 'Pacific/Truk', 'Asia/Kashgar', 'America/Catamarca', 'Brazil/DeNoronha', 'Australia/South', 'Etc/GMT-14', 'Etc/GMT-7', 'Libya', 'GMT+0', 'Kwajalein', 'Etc/GMT+3', 'America/Cordoba', 'HST', 'UCT', 'Europe/Tiraspol', 'Mexico/BajaSur', 'America/Jujuy', 'GB-Eire', 'Brazil/Acre', 'ROK', 'Iceland', 'NZ', 'ROC', 'Etc/Zulu', 'Japan', 'Australia/ACT', 'Navajo', 'US/Pacific-New'}\n"
     ]
    }
   ],
   "source": [
    "from pytz import common_timezones, all_timezones\n",
    "print(len(common_timezones))\n",
    "print(len(all_timezones))\n",
    "print(set(all_timezones) - set(common_timezones))"
   ]
  },
  {
   "cell_type": "code",
   "execution_count": 5,
   "metadata": {},
   "outputs": [
    {
     "data": {
      "text/plain": [
       "Timestamp('2016-07-10 08:50:00')"
      ]
     },
     "execution_count": 5,
     "metadata": {},
     "output_type": "execute_result"
    }
   ],
   "source": [
    "# You can also localize a naive timestamp\n",
    "t_naive = pd.Timestamp('2016-07-10 08:50')\n",
    "t_naive"
   ]
  },
  {
   "cell_type": "code",
   "execution_count": 6,
   "metadata": {},
   "outputs": [
    {
     "data": {
      "text/plain": [
       "Timestamp('2016-07-10 08:50:00-0500', tz='US/Central')"
      ]
     },
     "execution_count": 6,
     "metadata": {},
     "output_type": "execute_result"
    }
   ],
   "source": [
    "t = t_naive.tz_localize(tz = 'US/Central')\n",
    "t"
   ]
  },
  {
   "cell_type": "code",
   "execution_count": 7,
   "metadata": {},
   "outputs": [
    {
     "data": {
      "text/plain": [
       "Timestamp('2016-07-10 22:50:00+0900', tz='Asia/Tokyo')"
      ]
     },
     "execution_count": 7,
     "metadata": {},
     "output_type": "execute_result"
    }
   ],
   "source": [
    "t.tz_convert('Asia/Tokyo')"
   ]
  },
  {
   "cell_type": "code",
   "execution_count": 8,
   "metadata": {},
   "outputs": [
    {
     "data": {
      "text/plain": [
       "2016-03-10 00:00:00-06:00    0\n",
       "2016-03-11 00:00:00-06:00    1\n",
       "2016-03-12 00:00:00-06:00    2\n",
       "2016-03-13 00:00:00-06:00    3\n",
       "2016-03-14 00:00:00-05:00    4\n",
       "2016-03-15 00:00:00-05:00    5\n",
       "2016-03-16 00:00:00-05:00    6\n",
       "2016-03-17 00:00:00-05:00    7\n",
       "2016-03-18 00:00:00-05:00    8\n",
       "2016-03-19 00:00:00-05:00    9\n",
       "Freq: D, dtype: int64"
      ]
     },
     "execution_count": 8,
     "metadata": {},
     "output_type": "execute_result"
    }
   ],
   "source": [
    "# how to handle daylight savings?\n",
    "rng = pd.date_range('2016-03-10', periods=10, tz='US/Central')\n",
    "ts = pd.Series(range(10), index=rng)\n",
    "ts"
   ]
  },
  {
   "cell_type": "code",
   "execution_count": 9,
   "metadata": {},
   "outputs": [
    {
     "data": {
      "text/plain": [
       "2016-03-10 00:00:00+00:00    0\n",
       "2016-03-11 00:00:00+00:00    1\n",
       "2016-03-12 00:00:00+00:00    2\n",
       "2016-03-13 00:00:00+00:00    3\n",
       "2016-03-14 00:00:00+00:00    4\n",
       "2016-03-15 00:00:00+00:00    5\n",
       "2016-03-16 00:00:00+00:00    6\n",
       "2016-03-17 00:00:00+00:00    7\n",
       "2016-03-18 00:00:00+00:00    8\n",
       "2016-03-19 00:00:00+00:00    9\n",
       "Freq: D, dtype: int64"
      ]
     },
     "execution_count": 9,
     "metadata": {},
     "output_type": "execute_result"
    }
   ],
   "source": [
    "rng = pd.date_range('2016-03-10', periods=10, tz='utc')\n",
    "ts = pd.Series(range(10), index=rng)\n",
    "ts"
   ]
  },
  {
   "cell_type": "code",
   "execution_count": 10,
   "metadata": {},
   "outputs": [
    {
     "data": {
      "text/plain": [
       "2016-03-09 18:00:00-06:00    0\n",
       "2016-03-10 18:00:00-06:00    1\n",
       "2016-03-11 18:00:00-06:00    2\n",
       "2016-03-12 18:00:00-06:00    3\n",
       "2016-03-13 19:00:00-05:00    4\n",
       "2016-03-14 19:00:00-05:00    5\n",
       "2016-03-15 19:00:00-05:00    6\n",
       "2016-03-16 19:00:00-05:00    7\n",
       "2016-03-17 19:00:00-05:00    8\n",
       "2016-03-18 19:00:00-05:00    9\n",
       "Freq: D, dtype: int64"
      ]
     },
     "execution_count": 10,
     "metadata": {},
     "output_type": "execute_result"
    }
   ],
   "source": [
    "ts.tz_convert('US/Central')"
   ]
  },
  {
   "cell_type": "code",
   "execution_count": 11,
   "metadata": {},
   "outputs": [
    {
     "data": {
      "text/plain": [
       "DatetimeIndex(['2016-03-12 22:00:00-05:00', '2016-03-12 23:00:00-05:00',\n",
       "               '2016-03-13 00:00:00-05:00', '2016-03-13 01:00:00-05:00',\n",
       "               '2016-03-13 03:00:00-04:00', '2016-03-13 04:00:00-04:00',\n",
       "               '2016-03-13 05:00:00-04:00', '2016-03-13 06:00:00-04:00',\n",
       "               '2016-03-13 07:00:00-04:00', '2016-03-13 08:00:00-04:00',\n",
       "               '2016-03-13 09:00:00-04:00', '2016-03-13 10:00:00-04:00'],\n",
       "              dtype='datetime64[ns, US/Eastern]', freq='H')"
      ]
     },
     "execution_count": 11,
     "metadata": {},
     "output_type": "execute_result"
    }
   ],
   "source": [
    "pd.date_range('03-12-2016 22:00', periods = 12, freq = 'H', tz = 'US/Eastern')"
   ]
  },
  {
   "cell_type": "code",
   "execution_count": 12,
   "metadata": {},
   "outputs": [
    {
     "data": {
      "text/plain": [
       "Timestamp('2016-03-13 02:00:00-0500', tz='US/Eastern')"
      ]
     },
     "execution_count": 12,
     "metadata": {},
     "output_type": "execute_result"
    }
   ],
   "source": [
    "# May autocorrect an error rather than giving you a non-existent time error\n",
    "\n",
    "# Gives an error: \n",
    "# pd.Timestamp('2016-03-13 02:00', tz = 'US/Eastern')\n",
    "\n",
    "# Need to correct to below: \n",
    "pd.Timestamp('03-13-2016 02:00', tz = 'US/Eastern')"
   ]
  },
  {
   "cell_type": "code",
   "execution_count": null,
   "metadata": {
    "collapsed": true
   },
   "outputs": [],
   "source": []
  }
 ],
 "metadata": {
  "kernelspec": {
   "display_name": "Python 3",
   "language": "python",
   "name": "python3"
  },
  "language_info": {
   "codemirror_mode": {
    "name": "ipython",
    "version": 3
   },
   "file_extension": ".py",
   "mimetype": "text/x-python",
   "name": "python",
   "nbconvert_exporter": "python",
   "pygments_lexer": "ipython3",
   "version": "3.6.1"
  },
  "widgets": {
   "state": {},
   "version": "1.1.1"
  }
 },
 "nbformat": 4,
 "nbformat_minor": 1
}
