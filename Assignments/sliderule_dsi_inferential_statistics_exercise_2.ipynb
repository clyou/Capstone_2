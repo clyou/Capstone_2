{
 "cells": [
  {
   "cell_type": "markdown",
   "metadata": {},
   "source": [
    "# Examining Racial Discrimination in the US Job Market\n",
    "\n",
    "### Background\n",
    "Racial discrimination continues to be pervasive in cultures throughout the world. Researchers examined the level of racial discrimination in the United States labor market by randomly assigning identical résumés to black-sounding or white-sounding names and observing the impact on requests for interviews from employers.\n",
    "\n",
    "### Data\n",
    "In the dataset provided, each row represents a resume. The 'race' column has two values, 'b' and 'w', indicating black-sounding and white-sounding. The column 'call' has two values, 1 and 0, indicating whether the resume received a call from employers or not.\n",
    "\n",
    "Note that the 'b' and 'w' values in race are assigned randomly to the resumes when presented to the employer."
   ]
  },
  {
   "cell_type": "markdown",
   "metadata": {},
   "source": [
    "<div class=\"span5 alert alert-info\">\n",
    "### Exercises\n",
    "You will perform a statistical analysis to establish whether race has a significant impact on the rate of callbacks for resumes.\n",
    "\n",
    "Answer the following questions **in this notebook below and submit to your Github account**. \n",
    "\n",
    "   1. What test is appropriate for this problem? Does CLT apply?\n",
    "   2. What are the null and alternate hypotheses?\n",
    "   3. Compute margin of error, confidence interval, and p-value.\n",
    "   4. Write a story describing the statistical significance in the context or the original problem.\n",
    "   5. Does your analysis mean that race/name is the most important factor in callback success? Why or why not? If not, how would you amend your analysis?\n",
    "\n",
    "You can include written notes in notebook cells using Markdown: \n",
    "   - In the control panel at the top, choose Cell > Cell Type > Markdown\n",
    "   - Markdown syntax: http://nestacms.com/docs/creating-content/markdown-cheat-sheet\n",
    "\n",
    "\n",
    "#### Resources\n",
    "+ Experiment information and data source: http://www.povertyactionlab.org/evaluation/discrimination-job-market-united-states\n",
    "+ Scipy statistical methods: http://docs.scipy.org/doc/scipy/reference/stats.html \n",
    "+ Markdown syntax: http://nestacms.com/docs/creating-content/markdown-cheat-sheet\n",
    "</div>\n",
    "****"
   ]
  },
  {
   "cell_type": "code",
   "execution_count": 1,
   "metadata": {
    "collapsed": true
   },
   "outputs": [],
   "source": [
    "import pandas as pd\n",
    "import numpy as np\n",
    "from scipy import stats"
   ]
  },
  {
   "cell_type": "code",
   "execution_count": 2,
   "metadata": {
    "collapsed": true
   },
   "outputs": [],
   "source": [
    "data = pd.io.stata.read_stata('data/us_job_market_discrimination.dta')"
   ]
  },
  {
   "cell_type": "code",
   "execution_count": 3,
   "metadata": {},
   "outputs": [
    {
     "data": {
      "text/plain": [
       "157.0"
      ]
     },
     "execution_count": 3,
     "metadata": {},
     "output_type": "execute_result"
    }
   ],
   "source": [
    "# number of callbacks for black-sounding names\n",
    "sum(data[data.race=='b'].call)"
   ]
  },
  {
   "cell_type": "code",
   "execution_count": 4,
   "metadata": {},
   "outputs": [
    {
     "data": {
      "text/plain": [
       "65"
      ]
     },
     "execution_count": 4,
     "metadata": {},
     "output_type": "execute_result"
    }
   ],
   "source": [
    "# number of unique categories in the dataset \n",
    "len(list(data))"
   ]
  },
  {
   "cell_type": "code",
   "execution_count": 5,
   "metadata": {},
   "outputs": [
    {
     "data": {
      "text/html": [
       "<div>\n",
       "<style>\n",
       "    .dataframe thead tr:only-child th {\n",
       "        text-align: right;\n",
       "    }\n",
       "\n",
       "    .dataframe thead th {\n",
       "        text-align: left;\n",
       "    }\n",
       "\n",
       "    .dataframe tbody tr th {\n",
       "        vertical-align: top;\n",
       "    }\n",
       "</style>\n",
       "<table border=\"1\" class=\"dataframe\">\n",
       "  <thead>\n",
       "    <tr style=\"text-align: right;\">\n",
       "      <th></th>\n",
       "      <th>race</th>\n",
       "      <th>call</th>\n",
       "    </tr>\n",
       "  </thead>\n",
       "  <tbody>\n",
       "    <tr>\n",
       "      <th>0</th>\n",
       "      <td>w</td>\n",
       "      <td>0.0</td>\n",
       "    </tr>\n",
       "    <tr>\n",
       "      <th>1</th>\n",
       "      <td>w</td>\n",
       "      <td>0.0</td>\n",
       "    </tr>\n",
       "    <tr>\n",
       "      <th>2</th>\n",
       "      <td>b</td>\n",
       "      <td>0.0</td>\n",
       "    </tr>\n",
       "    <tr>\n",
       "      <th>3</th>\n",
       "      <td>b</td>\n",
       "      <td>0.0</td>\n",
       "    </tr>\n",
       "    <tr>\n",
       "      <th>4</th>\n",
       "      <td>w</td>\n",
       "      <td>0.0</td>\n",
       "    </tr>\n",
       "  </tbody>\n",
       "</table>\n",
       "</div>"
      ],
      "text/plain": [
       "  race  call\n",
       "0    w   0.0\n",
       "1    w   0.0\n",
       "2    b   0.0\n",
       "3    b   0.0\n",
       "4    w   0.0"
      ]
     },
     "execution_count": 5,
     "metadata": {},
     "output_type": "execute_result"
    }
   ],
   "source": [
    "# new dataframe with just the race and call columns\n",
    "df = data[['race', 'call']]\n",
    "df.head()"
   ]
  },
  {
   "cell_type": "code",
   "execution_count": 6,
   "metadata": {},
   "outputs": [
    {
     "name": "stdout",
     "output_type": "stream",
     "text": [
      "Number of white-sounding names:  2435\n",
      "Number of black-sounding names:  2435\n"
     ]
    }
   ],
   "source": [
    "# number of white-sounding names \n",
    "num_white_names = len(df[df.race == 'w'])\n",
    "\n",
    "# number of black-sounding names \n",
    "num_black_names = len(df[df.race == 'b'])\n",
    "\n",
    "print(\"Number of white-sounding names: \", num_white_names)\n",
    "print(\"Number of black-sounding names: \", num_black_names)"
   ]
  },
  {
   "cell_type": "markdown",
   "metadata": {},
   "source": [
    "### Question 1: What test is appropriate for this problem? Does CLT apply?"
   ]
  },
  {
   "cell_type": "markdown",
   "metadata": {},
   "source": [
    "We are comparing the rate of callbacks between names that are black-sounding versus white-sounding. For this problem, we should compare the mean rate of callbacks between samples: $\\overline{X}_{whitecallbacks}$ and $\\overline{X}_{blackcallbacks}$\n",
    "\n",
    "The population standard deviation is not known, so we cannot use a Z-statistic; we will use a 2-sample T-test since the white-sounding and black-sounding names are 2 independent groups. The Central Limit Theorm does apply in this case because our sample sizes are above 30 (n > 30). "
   ]
  },
  {
   "cell_type": "markdown",
   "metadata": {},
   "source": [
    "### Question 2: What are the null and alternate hypotheses?"
   ]
  },
  {
   "cell_type": "markdown",
   "metadata": {},
   "source": [
    "$H_0: \\overline{X}_{whitecallbacks} = \\overline{X}_{blackcallbacks}$\n",
    "\n",
    "Race does not have a statistically significant impact on employer callbacks\n",
    "\n",
    "$H_A: \\overline{X}_{whitecallbacks} ≠ \\overline{X}_{blackcallbacks}$ \n",
    "\n",
    "Race does have a statistically significant impact on employer callbacks"
   ]
  },
  {
   "cell_type": "markdown",
   "metadata": {},
   "source": [
    "### Question 3: Compute margin of error, confidence interval, and p-value."
   ]
  },
  {
   "cell_type": "markdown",
   "metadata": {},
   "source": [
    "In order to find the margin of error, we must first find the standard error. The forumlas are: \n",
    "\n",
    "$Standard\\;Error = \\frac{\\sigma}{\\sqrt{n}}$\n",
    "\n",
    "$Standard\\;Error_p = \\sqrt{\\frac{p(1-p)}{n}}$\n",
    "\n",
    "$Standard\\;Error_{variance} = \\sqrt{\\frac{variance}{n}}$\n",
    "\n",
    "$Margin\\;of\\;Error = T_{critical} * Standard\\;Error$\n",
    "\n",
    "$T_{critical} = \\pm 1.96$\n",
    "\n",
    "(T-critical value based on a 95% CI)"
   ]
  },
  {
   "cell_type": "code",
   "execution_count": 7,
   "metadata": {
    "scrolled": true
   },
   "outputs": [
    {
     "name": "stdout",
     "output_type": "stream",
     "text": [
      "The upper and lower bounds of the 95% confidence interval are:  [-0.015258417562835034, 0.015258417562835034]\n"
     ]
    }
   ],
   "source": [
    "# finding the standard error & the margin of error  \n",
    "\n",
    "# create 2 separate dataframes for white-sounding and black-sounding callbacks\n",
    "df_w = df[df.race == 'w']\n",
    "df_b = df[df.race == 'b']\n",
    "\n",
    "# find the standard deviations of the callbacks \n",
    "w_std = df_w.call.std()\n",
    "b_std = df_b.call.std()\n",
    "\n",
    "# find the number of calls made \n",
    "w_calls = len(df_w.call)\n",
    "b_calls = len(df_b.call)\n",
    "\n",
    "# calculate the standard error of each \n",
    "se_w = w_std**2 / (w_calls)\n",
    "se_b = b_std**2 / (b_calls)\n",
    "\n",
    "# calculate the standard error \n",
    "se_total = np.sqrt(se_w + se_b)\n",
    "\n",
    "# calculate the margin of error based on 95% confidence interval \n",
    "upper = se_total * 1.96\n",
    "lower = se_total * -1.96\n",
    "\n",
    "print(\"The upper and lower bounds of the 95% confidence interval are: \", [lower, upper])"
   ]
  },
  {
   "cell_type": "code",
   "execution_count": 8,
   "metadata": {},
   "outputs": [
    {
     "data": {
      "text/plain": [
       "0.03203285485506058"
      ]
     },
     "execution_count": 8,
     "metadata": {},
     "output_type": "execute_result"
    }
   ],
   "source": [
    "# calculate the difference of means\n",
    "\n",
    "# get the callback means for white-sounding and black-sounding names\n",
    "w_mean = df_w.call.mean()\n",
    "b_mean = df_b.call.mean()\n",
    "\n",
    "# calculate the difference of the means \n",
    "diff_mean = w_mean - b_mean\n",
    "diff_mean"
   ]
  },
  {
   "cell_type": "code",
   "execution_count": 9,
   "metadata": {},
   "outputs": [
    {
     "data": {
      "text/plain": [
       "4.1147383244277469"
      ]
     },
     "execution_count": 9,
     "metadata": {},
     "output_type": "execute_result"
    }
   ],
   "source": [
    "# calculate the t-statistic\n",
    "\n",
    "t_stat = diff_mean / se_total\n",
    "t_stat"
   ]
  },
  {
   "cell_type": "code",
   "execution_count": 10,
   "metadata": {},
   "outputs": [
    {
     "data": {
      "text/plain": [
       "1.9380944477398465e-05"
      ]
     },
     "execution_count": 10,
     "metadata": {},
     "output_type": "execute_result"
    }
   ],
   "source": [
    "# calculate the p-value \n",
    "\n",
    "import scipy.stats as st\n",
    "\n",
    "# we find the cumulative density of the t-statistic\n",
    "cdf_t = st.norm.cdf(t_stat)\n",
    "\n",
    "# we can calculate the p-value by subtracting the cdf from 1 \n",
    "pval = 1 - cdf_t\n",
    "pval"
   ]
  },
  {
   "cell_type": "code",
   "execution_count": 15,
   "metadata": {},
   "outputs": [
    {
     "data": {
      "text/plain": [
       "4.1147052908617514"
      ]
     },
     "execution_count": 15,
     "metadata": {},
     "output_type": "execute_result"
    }
   ],
   "source": [
    "# Checking our work with SciPy Stats\n",
    "\n",
    "stats.ttest_ind(df_w.call, df_b.call)"
   ]
  },
  {
   "cell_type": "markdown",
   "metadata": {},
   "source": [
    "The difference of the means falls outside of the 95% CI, which means that the difference is likely NOT due to chance and is statistically significant. "
   ]
  },
  {
   "cell_type": "code",
   "execution_count": 22,
   "metadata": {},
   "outputs": [
    {
     "name": "stdout",
     "output_type": "stream",
     "text": [
      "The Margin of Error:  0.0320325976918\n"
     ]
    },
    {
     "data": {
      "text/plain": [
       "0.0077849069198137931"
      ]
     },
     "execution_count": 22,
     "metadata": {},
     "output_type": "execute_result"
    }
   ],
   "source": [
    "# Computing the margin of error with the T-value from SciPy Stats\n",
    "\n",
    "new_me = stats.ttest_ind(df_w.call, df_b.call)[0] * se_total\n",
    "\n",
    "# The result is a 2-tailed margin of error result\n",
    "print('The Margin of Error: ', new_me)"
   ]
  },
  {
   "cell_type": "markdown",
   "metadata": {},
   "source": [
    "This new computed margin of error compares favorably with our sample difference of mean. It shows that even accounting for a ~3.2% error in our sample difference of the means, we can be confident that our sample data is statistically significant and does not misrepresent the population."
   ]
  },
  {
   "cell_type": "markdown",
   "metadata": {},
   "source": [
    "### Question 4: Write a story describing the statistical significance in the context or the original problem."
   ]
  },
  {
   "cell_type": "markdown",
   "metadata": {},
   "source": [
    "From the data, there is a statistical significance between the mean callbacks of white-sounding names and black-sounding names. The difference of the means shows that it falls outside the 95% CI, meaning that the difference is likely NOT due to chance. More illuminating however is our t-statistic, which reveals that white sounding names receive callbacks at a rate of more than 4 standard deviations higher than black sounding names. That's quite startling. "
   ]
  },
  {
   "cell_type": "markdown",
   "metadata": {},
   "source": [
    "### Question 5: Does your analysis mean that race/name is the most important factor in callback success? Why or why not? If not, how would you amend your analysis?"
   ]
  },
  {
   "cell_type": "markdown",
   "metadata": {},
   "source": [
    "No. We cannot be for certain that race is the most important factor because we have not examined the impact of the other factors on race. For example, prior work experience, education, personal connections, and other attributes may causally influence callback success. I would account for these other factors by examining the effects of each on callback success. Ideally, we would have a randomized test where the candidates for jobs are equivalent in every respect EXCEPT for their names; this would isolate the way names sound as the primary variable which we are testing."
   ]
  },
  {
   "cell_type": "code",
   "execution_count": null,
   "metadata": {
    "collapsed": true
   },
   "outputs": [],
   "source": []
  }
 ],
 "metadata": {
  "kernelspec": {
   "display_name": "Python 3",
   "language": "python",
   "name": "python3"
  },
  "language_info": {
   "codemirror_mode": {
    "name": "ipython",
    "version": 3
   },
   "file_extension": ".py",
   "mimetype": "text/x-python",
   "name": "python",
   "nbconvert_exporter": "python",
   "pygments_lexer": "ipython3",
   "version": "3.6.1"
  }
 },
 "nbformat": 4,
 "nbformat_minor": 1
}
