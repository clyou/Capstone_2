{
 "cells": [
  {
   "cell_type": "code",
   "execution_count": 1,
   "metadata": {
    "collapsed": true
   },
   "outputs": [],
   "source": [
    "import os\n",
    "import pandas as pd\n",
    "import json\n",
    "from pandas.io.json import json_normalize \n",
    "import numpy as np\n",
    "import matplotlib.pyplot as plt\n",
    "%matplotlib inline\n",
    "import re\n",
    "import csv"
   ]
  },
  {
   "cell_type": "code",
   "execution_count": 2,
   "metadata": {
    "collapsed": true
   },
   "outputs": [],
   "source": [
    "# CODE TAKEN FROM https://snap.stanford.edu/data/web-Amazon.html\n",
    "\n",
    "# import gzip\n",
    "# import simplejson\n",
    "# import json\n",
    "\n",
    "\n",
    "\n",
    "# def parse(filename):\n",
    "#   f = gzip.open(filename, 'r')\n",
    "#   entry = {}\n",
    "#   for l in f:\n",
    "#     l = l.strip()\n",
    "#     colonPos = l.find(':')\n",
    "#     if colonPos == -1:\n",
    "#       yield entry\n",
    "#       entry = {}\n",
    "#       continue\n",
    "#     eName = l[:colonPos]\n",
    "#     rest = l[colonPos+2:]\n",
    "#     entry[eName] = rest\n",
    "#   yield entry\n",
    "\n",
    "# # for e in parse(\"amazon-meta.txt.gz\"):\n",
    "# #   print simplejson.dumps(e)\n",
    "\n",
    " \n",
    "# data = parse(\"amazon-meta.txt.gz\")\n",
    "# # data = json.loads(json_data)\n",
    "# print(data)"
   ]
  },
  {
   "cell_type": "code",
   "execution_count": 3,
   "metadata": {
    "collapsed": true
   },
   "outputs": [],
   "source": [
    "amazon_file  = open(\"amazon-meta.txt\", \"r\")\n",
    "file_list = amazon_file.read().split('\\n\\n')"
   ]
  },
  {
   "cell_type": "code",
   "execution_count": 4,
   "metadata": {
    "collapsed": true
   },
   "outputs": [],
   "source": [
    "# file_list[1].split('\\n')"
   ]
  },
  {
   "cell_type": "code",
   "execution_count": 5,
   "metadata": {
    "collapsed": true
   },
   "outputs": [],
   "source": [
    "# file_list[2].split('\\n')"
   ]
  },
  {
   "cell_type": "code",
   "execution_count": 6,
   "metadata": {},
   "outputs": [
    {
     "data": {
      "text/plain": [
       "{'categories': [{'category': '|Books[283155]|Subjects[1000]|Religion&Spirituality[22]|Christianity[12290]|Clergy[12360]|Preaching[12368]'}]}"
      ]
     },
     "execution_count": 6,
     "metadata": {},
     "output_type": "execute_result"
    }
   ],
   "source": [
    "d= {}\n",
    "d['categories'] = []\n",
    "l = '   |Books[283155]|Subjects[1000]|Religion & Spirituality[22]|Christianity[12290]|Clergy[12360]|Preaching[12368]'\n",
    "items = l.split(\":\")\n",
    "key = re.sub(pattern=' ',repl= '',string=items[0]) \n",
    "key\n",
    "d['categories'].append({'category': key})\n",
    "d"
   ]
  },
  {
   "cell_type": "code",
   "execution_count": 7,
   "metadata": {},
   "outputs": [
    {
     "data": {
      "text/plain": [
       "{'ASIN': ' 0827229534',\n",
       " 'Id': '   1',\n",
       " 'cat_entries': [{'category': '|Books[283155]|Subjects[1000]|Religion&Spirituality[22]|Christianity[12290]|Clergy[12360]|Preaching[12368]'},\n",
       "  {'category': '|Books[283155]|Subjects[1000]|Religion&Spirituality[22]|Christianity[12290]|Clergy[12360]|Sermons[12370]'}],\n",
       " 'categories': ' 2',\n",
       " 'group': ' Book',\n",
       " 'individuals': [{'cutomer': ' A2JW67OY8U6HHK',\n",
       "   'date': '    2000-7-28',\n",
       "   'helpful': '   9',\n",
       "   'rating': ' 5',\n",
       "   'votes': '  10'},\n",
       "  {'cutomer': ' A2VE83MZF98ITY',\n",
       "   'date': '    2003-12-14',\n",
       "   'helpful': '   5',\n",
       "   'rating': ' 5',\n",
       "   'votes': '   6'}],\n",
       " 'reviews': {'downloaded': ' 2', 'rating': ' 5', 'total': ' 2'},\n",
       " 'salesrank': ' 396585',\n",
       " 'similar': ' 5  0804215715  156101074X  0687023955  0687074231  082721619X',\n",
       " 'title': ' Patterns of Preaching: A Sermon Sampler'}"
      ]
     },
     "execution_count": 7,
     "metadata": {},
     "output_type": "execute_result"
    }
   ],
   "source": [
    "def get_dict(list_lines, splits ):\n",
    "    d = {}\n",
    "    if len(list_lines) > 8: \n",
    "        d['individuals'] = []\n",
    "        d['cat_entries'] = []\n",
    "        \n",
    "    for i in range(len(list_lines)):\n",
    "        line = list_lines[i]\n",
    "        items = line.split(splits)\n",
    "        \n",
    "        \n",
    "        key = re.sub(pattern=' ',repl= '',string=items[0]) \n",
    "        \n",
    "        if '|' in items[0][:10]: \n",
    "            d['cat_entries'].append({'category': key})  \n",
    "            \n",
    "        elif len(items) < 4:\n",
    "            value = ':'.join(items[1:])\n",
    "            d[key] = value\n",
    "        else:\n",
    "            # put the items back to its original form\n",
    "            temp_value = ':'.join(items[1:])\n",
    "            \n",
    "            if key[-5:]== 'tomer':\n",
    "                temp_value = 'date:' + ':'.join(items) \n",
    "                #key = 'individuals:' # master layer to all the inidividual reviews\n",
    "\n",
    "            nest_dict = get_dict(re.findall(r\"\\w+:\\s+\\S+\", temp_value), ':')\n",
    "            if key[-5:]== 'tomer':\n",
    "                d['individuals'].append(nest_dict) # nested reviews\n",
    "            else: \n",
    "                d[key] = nest_dict \n",
    "    return d\n",
    "\n",
    "get_dict(file_list[2].split('\\n'), ':')"
   ]
  },
  {
   "cell_type": "code",
   "execution_count": 8,
   "metadata": {
    "collapsed": true
   },
   "outputs": [],
   "source": [
    "dict_all = [get_dict(l.split('\\n'), ':') for l in file_list if len(l.split('\\n')) > 8]"
   ]
  },
  {
   "cell_type": "code",
   "execution_count": 9,
   "metadata": {},
   "outputs": [
    {
     "data": {
      "text/plain": [
       "dict_keys(['individuals', 'cat_entries', 'Id', 'ASIN', 'title', 'group', 'salesrank', 'similar', 'categories', 'reviews'])"
      ]
     },
     "execution_count": 9,
     "metadata": {},
     "output_type": "execute_result"
    }
   ],
   "source": [
    "dict_all[2].keys()"
   ]
  },
  {
   "cell_type": "code",
   "execution_count": 10,
   "metadata": {
    "collapsed": true
   },
   "outputs": [],
   "source": [
    "# with open('meta-data.json', 'w') as outfile:\n",
    "\n",
    "#     json.dump([dict(k) for k in dict_all],outfile)"
   ]
  },
  {
   "cell_type": "code",
   "execution_count": 11,
   "metadata": {
    "collapsed": true
   },
   "outputs": [],
   "source": [
    "data = json_normalize(dict_all, 'individuals', \n",
    "                          ['Id','ASIN','title','group','categories','salesrank','similar',['reviews','total']])"
   ]
  },
  {
   "cell_type": "code",
   "execution_count": 12,
   "metadata": {},
   "outputs": [
    {
     "data": {
      "text/html": [
       "<div>\n",
       "<style>\n",
       "    .dataframe thead tr:only-child th {\n",
       "        text-align: right;\n",
       "    }\n",
       "\n",
       "    .dataframe thead th {\n",
       "        text-align: left;\n",
       "    }\n",
       "\n",
       "    .dataframe tbody tr th {\n",
       "        vertical-align: top;\n",
       "    }\n",
       "</style>\n",
       "<table border=\"1\" class=\"dataframe\">\n",
       "  <thead>\n",
       "    <tr style=\"text-align: right;\">\n",
       "      <th></th>\n",
       "      <th>cutomer</th>\n",
       "      <th>date</th>\n",
       "      <th>helpful</th>\n",
       "      <th>rating</th>\n",
       "      <th>votes</th>\n",
       "      <th>Id</th>\n",
       "      <th>ASIN</th>\n",
       "      <th>title</th>\n",
       "      <th>group</th>\n",
       "      <th>categories</th>\n",
       "      <th>salesrank</th>\n",
       "      <th>similar</th>\n",
       "      <th>reviews.total</th>\n",
       "    </tr>\n",
       "  </thead>\n",
       "  <tbody>\n",
       "    <tr>\n",
       "      <th>0</th>\n",
       "      <td>A2JW67OY8U6HHK</td>\n",
       "      <td>2000-7-28</td>\n",
       "      <td>9</td>\n",
       "      <td>5</td>\n",
       "      <td>10</td>\n",
       "      <td>1</td>\n",
       "      <td>0827229534</td>\n",
       "      <td>Patterns of Preaching: A Sermon Sampler</td>\n",
       "      <td>Book</td>\n",
       "      <td>2</td>\n",
       "      <td>396585</td>\n",
       "      <td>5  0804215715  156101074X  0687023955  068707...</td>\n",
       "      <td>2</td>\n",
       "    </tr>\n",
       "    <tr>\n",
       "      <th>1</th>\n",
       "      <td>A2VE83MZF98ITY</td>\n",
       "      <td>2003-12-14</td>\n",
       "      <td>5</td>\n",
       "      <td>5</td>\n",
       "      <td>6</td>\n",
       "      <td>1</td>\n",
       "      <td>0827229534</td>\n",
       "      <td>Patterns of Preaching: A Sermon Sampler</td>\n",
       "      <td>Book</td>\n",
       "      <td>2</td>\n",
       "      <td>396585</td>\n",
       "      <td>5  0804215715  156101074X  0687023955  068707...</td>\n",
       "      <td>2</td>\n",
       "    </tr>\n",
       "    <tr>\n",
       "      <th>2</th>\n",
       "      <td>A11NCO6YTE4BTJ</td>\n",
       "      <td>2001-12-16</td>\n",
       "      <td>4</td>\n",
       "      <td>5</td>\n",
       "      <td>5</td>\n",
       "      <td>2</td>\n",
       "      <td>0738700797</td>\n",
       "      <td>Candlemas: Feast of Flames</td>\n",
       "      <td>Book</td>\n",
       "      <td>2</td>\n",
       "      <td>168596</td>\n",
       "      <td>5  0738700827  1567184960  1567182836  073870...</td>\n",
       "      <td>12</td>\n",
       "    </tr>\n",
       "    <tr>\n",
       "      <th>3</th>\n",
       "      <td>A9CQ3PLRNIR83</td>\n",
       "      <td>2002-1-7</td>\n",
       "      <td>5</td>\n",
       "      <td>4</td>\n",
       "      <td>5</td>\n",
       "      <td>2</td>\n",
       "      <td>0738700797</td>\n",
       "      <td>Candlemas: Feast of Flames</td>\n",
       "      <td>Book</td>\n",
       "      <td>2</td>\n",
       "      <td>168596</td>\n",
       "      <td>5  0738700827  1567184960  1567182836  073870...</td>\n",
       "      <td>12</td>\n",
       "    </tr>\n",
       "    <tr>\n",
       "      <th>4</th>\n",
       "      <td>A13SG9ACZ9O5IM</td>\n",
       "      <td>2002-1-24</td>\n",
       "      <td>8</td>\n",
       "      <td>5</td>\n",
       "      <td>8</td>\n",
       "      <td>2</td>\n",
       "      <td>0738700797</td>\n",
       "      <td>Candlemas: Feast of Flames</td>\n",
       "      <td>Book</td>\n",
       "      <td>2</td>\n",
       "      <td>168596</td>\n",
       "      <td>5  0738700827  1567184960  1567182836  073870...</td>\n",
       "      <td>12</td>\n",
       "    </tr>\n",
       "  </tbody>\n",
       "</table>\n",
       "</div>"
      ],
      "text/plain": [
       "           cutomer            date helpful rating votes    Id         ASIN  \\\n",
       "0   A2JW67OY8U6HHK       2000-7-28       9      5    10     1   0827229534   \n",
       "1   A2VE83MZF98ITY      2003-12-14       5      5     6     1   0827229534   \n",
       "2   A11NCO6YTE4BTJ      2001-12-16       4      5     5     2   0738700797   \n",
       "3    A9CQ3PLRNIR83        2002-1-7       5      4     5     2   0738700797   \n",
       "4   A13SG9ACZ9O5IM       2002-1-24       8      5     8     2   0738700797   \n",
       "\n",
       "                                      title  group categories salesrank  \\\n",
       "0   Patterns of Preaching: A Sermon Sampler   Book          2    396585   \n",
       "1   Patterns of Preaching: A Sermon Sampler   Book          2    396585   \n",
       "2                Candlemas: Feast of Flames   Book          2    168596   \n",
       "3                Candlemas: Feast of Flames   Book          2    168596   \n",
       "4                Candlemas: Feast of Flames   Book          2    168596   \n",
       "\n",
       "                                             similar reviews.total  \n",
       "0   5  0804215715  156101074X  0687023955  068707...             2  \n",
       "1   5  0804215715  156101074X  0687023955  068707...             2  \n",
       "2   5  0738700827  1567184960  1567182836  073870...            12  \n",
       "3   5  0738700827  1567184960  1567182836  073870...            12  \n",
       "4   5  0738700827  1567184960  1567182836  073870...            12  "
      ]
     },
     "execution_count": 12,
     "metadata": {},
     "output_type": "execute_result"
    }
   ],
   "source": [
    "data.head()"
   ]
  },
  {
   "cell_type": "code",
   "execution_count": 13,
   "metadata": {
    "collapsed": true
   },
   "outputs": [],
   "source": [
    "data.to_csv('meta-data_raw.csv') #Using this file for Further Analysis"
   ]
  },
  {
   "cell_type": "code",
   "execution_count": 14,
   "metadata": {},
   "outputs": [
    {
     "data": {
      "text/html": [
       "<div>\n",
       "<style>\n",
       "    .dataframe thead tr:only-child th {\n",
       "        text-align: right;\n",
       "    }\n",
       "\n",
       "    .dataframe thead th {\n",
       "        text-align: left;\n",
       "    }\n",
       "\n",
       "    .dataframe tbody tr th {\n",
       "        vertical-align: top;\n",
       "    }\n",
       "</style>\n",
       "<table border=\"1\" class=\"dataframe\">\n",
       "  <thead>\n",
       "    <tr style=\"text-align: right;\">\n",
       "      <th></th>\n",
       "      <th>Unnamed: 0</th>\n",
       "      <th>cutomer</th>\n",
       "      <th>date</th>\n",
       "      <th>helpful</th>\n",
       "      <th>rating</th>\n",
       "      <th>votes</th>\n",
       "      <th>Id</th>\n",
       "      <th>ASIN</th>\n",
       "      <th>title</th>\n",
       "      <th>group</th>\n",
       "      <th>categories</th>\n",
       "      <th>salesrank</th>\n",
       "      <th>similar</th>\n",
       "      <th>reviews.total</th>\n",
       "    </tr>\n",
       "  </thead>\n",
       "  <tbody>\n",
       "    <tr>\n",
       "      <th>0</th>\n",
       "      <td>0</td>\n",
       "      <td>A2JW67OY8U6HHK</td>\n",
       "      <td>2000-7-28</td>\n",
       "      <td>9</td>\n",
       "      <td>5</td>\n",
       "      <td>10</td>\n",
       "      <td>1</td>\n",
       "      <td>0827229534</td>\n",
       "      <td>Patterns of Preaching: A Sermon Sampler</td>\n",
       "      <td>Book</td>\n",
       "      <td>2</td>\n",
       "      <td>396585</td>\n",
       "      <td>5  0804215715  156101074X  0687023955  068707...</td>\n",
       "      <td>2</td>\n",
       "    </tr>\n",
       "    <tr>\n",
       "      <th>1</th>\n",
       "      <td>1</td>\n",
       "      <td>A2VE83MZF98ITY</td>\n",
       "      <td>2003-12-14</td>\n",
       "      <td>5</td>\n",
       "      <td>5</td>\n",
       "      <td>6</td>\n",
       "      <td>1</td>\n",
       "      <td>0827229534</td>\n",
       "      <td>Patterns of Preaching: A Sermon Sampler</td>\n",
       "      <td>Book</td>\n",
       "      <td>2</td>\n",
       "      <td>396585</td>\n",
       "      <td>5  0804215715  156101074X  0687023955  068707...</td>\n",
       "      <td>2</td>\n",
       "    </tr>\n",
       "    <tr>\n",
       "      <th>2</th>\n",
       "      <td>2</td>\n",
       "      <td>A11NCO6YTE4BTJ</td>\n",
       "      <td>2001-12-16</td>\n",
       "      <td>4</td>\n",
       "      <td>5</td>\n",
       "      <td>5</td>\n",
       "      <td>2</td>\n",
       "      <td>0738700797</td>\n",
       "      <td>Candlemas: Feast of Flames</td>\n",
       "      <td>Book</td>\n",
       "      <td>2</td>\n",
       "      <td>168596</td>\n",
       "      <td>5  0738700827  1567184960  1567182836  073870...</td>\n",
       "      <td>12</td>\n",
       "    </tr>\n",
       "    <tr>\n",
       "      <th>3</th>\n",
       "      <td>3</td>\n",
       "      <td>A9CQ3PLRNIR83</td>\n",
       "      <td>2002-1-7</td>\n",
       "      <td>5</td>\n",
       "      <td>4</td>\n",
       "      <td>5</td>\n",
       "      <td>2</td>\n",
       "      <td>0738700797</td>\n",
       "      <td>Candlemas: Feast of Flames</td>\n",
       "      <td>Book</td>\n",
       "      <td>2</td>\n",
       "      <td>168596</td>\n",
       "      <td>5  0738700827  1567184960  1567182836  073870...</td>\n",
       "      <td>12</td>\n",
       "    </tr>\n",
       "    <tr>\n",
       "      <th>4</th>\n",
       "      <td>4</td>\n",
       "      <td>A13SG9ACZ9O5IM</td>\n",
       "      <td>2002-1-24</td>\n",
       "      <td>8</td>\n",
       "      <td>5</td>\n",
       "      <td>8</td>\n",
       "      <td>2</td>\n",
       "      <td>0738700797</td>\n",
       "      <td>Candlemas: Feast of Flames</td>\n",
       "      <td>Book</td>\n",
       "      <td>2</td>\n",
       "      <td>168596</td>\n",
       "      <td>5  0738700827  1567184960  1567182836  073870...</td>\n",
       "      <td>12</td>\n",
       "    </tr>\n",
       "  </tbody>\n",
       "</table>\n",
       "</div>"
      ],
      "text/plain": [
       "   Unnamed: 0          cutomer            date  helpful  rating  votes  Id  \\\n",
       "0           0   A2JW67OY8U6HHK       2000-7-28        9       5     10   1   \n",
       "1           1   A2VE83MZF98ITY      2003-12-14        5       5      6   1   \n",
       "2           2   A11NCO6YTE4BTJ      2001-12-16        4       5      5   2   \n",
       "3           3    A9CQ3PLRNIR83        2002-1-7        5       4      5   2   \n",
       "4           4   A13SG9ACZ9O5IM       2002-1-24        8       5      8   2   \n",
       "\n",
       "          ASIN                                     title  group  categories  \\\n",
       "0   0827229534   Patterns of Preaching: A Sermon Sampler   Book           2   \n",
       "1   0827229534   Patterns of Preaching: A Sermon Sampler   Book           2   \n",
       "2   0738700797                Candlemas: Feast of Flames   Book           2   \n",
       "3   0738700797                Candlemas: Feast of Flames   Book           2   \n",
       "4   0738700797                Candlemas: Feast of Flames   Book           2   \n",
       "\n",
       "   salesrank                                            similar  reviews.total  \n",
       "0     396585   5  0804215715  156101074X  0687023955  068707...              2  \n",
       "1     396585   5  0804215715  156101074X  0687023955  068707...              2  \n",
       "2     168596   5  0738700827  1567184960  1567182836  073870...             12  \n",
       "3     168596   5  0738700827  1567184960  1567182836  073870...             12  \n",
       "4     168596   5  0738700827  1567184960  1567182836  073870...             12  "
      ]
     },
     "execution_count": 14,
     "metadata": {},
     "output_type": "execute_result"
    }
   ],
   "source": [
    "df = pd.read_csv(os.path.join('meta-data_raw.csv'))\n",
    "df.head()"
   ]
  },
  {
   "cell_type": "code",
   "execution_count": 15,
   "metadata": {},
   "outputs": [
    {
     "data": {
      "text/plain": [
       "7593244"
      ]
     },
     "execution_count": 15,
     "metadata": {},
     "output_type": "execute_result"
    }
   ],
   "source": [
    "len(df)"
   ]
  },
  {
   "cell_type": "code",
   "execution_count": 16,
   "metadata": {},
   "outputs": [
    {
     "data": {
      "text/html": [
       "<div>\n",
       "<style>\n",
       "    .dataframe thead tr:only-child th {\n",
       "        text-align: right;\n",
       "    }\n",
       "\n",
       "    .dataframe thead th {\n",
       "        text-align: left;\n",
       "    }\n",
       "\n",
       "    .dataframe tbody tr th {\n",
       "        vertical-align: top;\n",
       "    }\n",
       "</style>\n",
       "<table border=\"1\" class=\"dataframe\">\n",
       "  <thead>\n",
       "    <tr style=\"text-align: right;\">\n",
       "      <th></th>\n",
       "      <th>Unnamed: 0</th>\n",
       "      <th>helpful</th>\n",
       "      <th>rating</th>\n",
       "      <th>votes</th>\n",
       "      <th>Id</th>\n",
       "      <th>categories</th>\n",
       "      <th>salesrank</th>\n",
       "      <th>reviews.total</th>\n",
       "    </tr>\n",
       "  </thead>\n",
       "  <tbody>\n",
       "    <tr>\n",
       "      <th>count</th>\n",
       "      <td>7.593244e+06</td>\n",
       "      <td>7.593244e+06</td>\n",
       "      <td>7.593244e+06</td>\n",
       "      <td>7.593244e+06</td>\n",
       "      <td>7.593244e+06</td>\n",
       "      <td>7.593244e+06</td>\n",
       "      <td>7.593244e+06</td>\n",
       "      <td>7.593244e+06</td>\n",
       "    </tr>\n",
       "    <tr>\n",
       "      <th>mean</th>\n",
       "      <td>3.796622e+06</td>\n",
       "      <td>3.794829e+00</td>\n",
       "      <td>4.178372e+00</td>\n",
       "      <td>5.859097e+00</td>\n",
       "      <td>2.827273e+05</td>\n",
       "      <td>7.362797e+00</td>\n",
       "      <td>2.077678e+05</td>\n",
       "      <td>3.857565e+02</td>\n",
       "    </tr>\n",
       "    <tr>\n",
       "      <th>std</th>\n",
       "      <td>2.191981e+06</td>\n",
       "      <td>1.097852e+01</td>\n",
       "      <td>1.250068e+00</td>\n",
       "      <td>1.478179e+01</td>\n",
       "      <td>1.661600e+05</td>\n",
       "      <td>6.750026e+00</td>\n",
       "      <td>3.225715e+05</td>\n",
       "      <td>7.432342e+02</td>\n",
       "    </tr>\n",
       "    <tr>\n",
       "      <th>min</th>\n",
       "      <td>0.000000e+00</td>\n",
       "      <td>0.000000e+00</td>\n",
       "      <td>1.000000e+00</td>\n",
       "      <td>0.000000e+00</td>\n",
       "      <td>1.000000e+00</td>\n",
       "      <td>1.000000e+00</td>\n",
       "      <td>-1.000000e+00</td>\n",
       "      <td>1.000000e+00</td>\n",
       "    </tr>\n",
       "    <tr>\n",
       "      <th>25%</th>\n",
       "      <td>1.898311e+06</td>\n",
       "      <td>0.000000e+00</td>\n",
       "      <td>4.000000e+00</td>\n",
       "      <td>1.000000e+00</td>\n",
       "      <td>1.367350e+05</td>\n",
       "      <td>3.000000e+00</td>\n",
       "      <td>1.062200e+04</td>\n",
       "      <td>2.500000e+01</td>\n",
       "    </tr>\n",
       "    <tr>\n",
       "      <th>50%</th>\n",
       "      <td>3.796622e+06</td>\n",
       "      <td>1.000000e+00</td>\n",
       "      <td>5.000000e+00</td>\n",
       "      <td>2.000000e+00</td>\n",
       "      <td>2.775610e+05</td>\n",
       "      <td>5.000000e+00</td>\n",
       "      <td>5.862500e+04</td>\n",
       "      <td>1.060000e+02</td>\n",
       "    </tr>\n",
       "    <tr>\n",
       "      <th>75%</th>\n",
       "      <td>5.694932e+06</td>\n",
       "      <td>4.000000e+00</td>\n",
       "      <td>5.000000e+00</td>\n",
       "      <td>6.000000e+00</td>\n",
       "      <td>4.291470e+05</td>\n",
       "      <td>9.000000e+00</td>\n",
       "      <td>2.886415e+05</td>\n",
       "      <td>3.970000e+02</td>\n",
       "    </tr>\n",
       "    <tr>\n",
       "      <th>max</th>\n",
       "      <td>7.593243e+06</td>\n",
       "      <td>7.453000e+03</td>\n",
       "      <td>5.000000e+00</td>\n",
       "      <td>7.669000e+03</td>\n",
       "      <td>5.485510e+05</td>\n",
       "      <td>1.160000e+02</td>\n",
       "      <td>3.798351e+06</td>\n",
       "      <td>5.545000e+03</td>\n",
       "    </tr>\n",
       "  </tbody>\n",
       "</table>\n",
       "</div>"
      ],
      "text/plain": [
       "         Unnamed: 0       helpful        rating         votes            Id  \\\n",
       "count  7.593244e+06  7.593244e+06  7.593244e+06  7.593244e+06  7.593244e+06   \n",
       "mean   3.796622e+06  3.794829e+00  4.178372e+00  5.859097e+00  2.827273e+05   \n",
       "std    2.191981e+06  1.097852e+01  1.250068e+00  1.478179e+01  1.661600e+05   \n",
       "min    0.000000e+00  0.000000e+00  1.000000e+00  0.000000e+00  1.000000e+00   \n",
       "25%    1.898311e+06  0.000000e+00  4.000000e+00  1.000000e+00  1.367350e+05   \n",
       "50%    3.796622e+06  1.000000e+00  5.000000e+00  2.000000e+00  2.775610e+05   \n",
       "75%    5.694932e+06  4.000000e+00  5.000000e+00  6.000000e+00  4.291470e+05   \n",
       "max    7.593243e+06  7.453000e+03  5.000000e+00  7.669000e+03  5.485510e+05   \n",
       "\n",
       "         categories     salesrank  reviews.total  \n",
       "count  7.593244e+06  7.593244e+06   7.593244e+06  \n",
       "mean   7.362797e+00  2.077678e+05   3.857565e+02  \n",
       "std    6.750026e+00  3.225715e+05   7.432342e+02  \n",
       "min    1.000000e+00 -1.000000e+00   1.000000e+00  \n",
       "25%    3.000000e+00  1.062200e+04   2.500000e+01  \n",
       "50%    5.000000e+00  5.862500e+04   1.060000e+02  \n",
       "75%    9.000000e+00  2.886415e+05   3.970000e+02  \n",
       "max    1.160000e+02  3.798351e+06   5.545000e+03  "
      ]
     },
     "execution_count": 16,
     "metadata": {},
     "output_type": "execute_result"
    }
   ],
   "source": [
    "df.describe()"
   ]
  },
  {
   "cell_type": "code",
   "execution_count": 17,
   "metadata": {},
   "outputs": [
    {
     "data": {
      "text/plain": [
       "<matplotlib.axes._subplots.AxesSubplot at 0x46088e978>"
      ]
     },
     "execution_count": 17,
     "metadata": {},
     "output_type": "execute_result"
    },
    {
     "data": {
      "image/png": "[encoded data removed]",
      "text/plain": [
       "<matplotlib.figure.Figure at 0x3ffaaf080>"
      ]
     },
     "metadata": {},
     "output_type": "display_data"
    }
   ],
   "source": [
    "df['rating'].plot(kind = 'hist')"
   ]
  },
  {
   "cell_type": "markdown",
   "metadata": {},
   "source": [
    "#### Trustworthiness Ratings: \n",
    "\n",
    "The ratings have a right peak and a long left tail. The mean rating is also less than the median rating. The ratings are positively biased which is primarily due to a selection bias of reviewers being primarily positive either for honest or disingenuous reasons. "
   ]
  },
  {
   "cell_type": "code",
   "execution_count": 18,
   "metadata": {},
   "outputs": [
    {
     "data": {
      "text/html": [
       "<div>\n",
       "<style>\n",
       "    .dataframe thead tr:only-child th {\n",
       "        text-align: right;\n",
       "    }\n",
       "\n",
       "    .dataframe thead th {\n",
       "        text-align: left;\n",
       "    }\n",
       "\n",
       "    .dataframe tbody tr th {\n",
       "        vertical-align: top;\n",
       "    }\n",
       "</style>\n",
       "<table border=\"1\" class=\"dataframe\">\n",
       "  <thead>\n",
       "    <tr style=\"text-align: right;\">\n",
       "      <th></th>\n",
       "      <th>category</th>\n",
       "      <th>ASIN</th>\n",
       "      <th>group</th>\n",
       "      <th>categories</th>\n",
       "    </tr>\n",
       "  </thead>\n",
       "  <tbody>\n",
       "    <tr>\n",
       "      <th>0</th>\n",
       "      <td>|Books[283155]|Subjects[1000]|Religion&amp;Spiritu...</td>\n",
       "      <td>0827229534</td>\n",
       "      <td>Book</td>\n",
       "      <td>2</td>\n",
       "    </tr>\n",
       "    <tr>\n",
       "      <th>1</th>\n",
       "      <td>|Books[283155]|Subjects[1000]|Religion&amp;Spiritu...</td>\n",
       "      <td>0827229534</td>\n",
       "      <td>Book</td>\n",
       "      <td>2</td>\n",
       "    </tr>\n",
       "    <tr>\n",
       "      <th>2</th>\n",
       "      <td>|Books[283155]|Subjects[1000]|Religion&amp;Spiritu...</td>\n",
       "      <td>0738700797</td>\n",
       "      <td>Book</td>\n",
       "      <td>2</td>\n",
       "    </tr>\n",
       "    <tr>\n",
       "      <th>3</th>\n",
       "      <td>|Books[283155]|Subjects[1000]|Religion&amp;Spiritu...</td>\n",
       "      <td>0738700797</td>\n",
       "      <td>Book</td>\n",
       "      <td>2</td>\n",
       "    </tr>\n",
       "    <tr>\n",
       "      <th>4</th>\n",
       "      <td>|Books[283155]|Subjects[1000]|Home&amp;Garden[48]|...</td>\n",
       "      <td>0486287785</td>\n",
       "      <td>Book</td>\n",
       "      <td>1</td>\n",
       "    </tr>\n",
       "  </tbody>\n",
       "</table>\n",
       "</div>"
      ],
      "text/plain": [
       "                                            category         ASIN  group  \\\n",
       "0  |Books[283155]|Subjects[1000]|Religion&Spiritu...   0827229534   Book   \n",
       "1  |Books[283155]|Subjects[1000]|Religion&Spiritu...   0827229534   Book   \n",
       "2  |Books[283155]|Subjects[1000]|Religion&Spiritu...   0738700797   Book   \n",
       "3  |Books[283155]|Subjects[1000]|Religion&Spiritu...   0738700797   Book   \n",
       "4  |Books[283155]|Subjects[1000]|Home&Garden[48]|...   0486287785   Book   \n",
       "\n",
       "  categories  \n",
       "0          2  \n",
       "1          2  \n",
       "2          2  \n",
       "3          2  \n",
       "4          1  "
      ]
     },
     "execution_count": 18,
     "metadata": {},
     "output_type": "execute_result"
    }
   ],
   "source": [
    "category = json_normalize(dict_all, 'cat_entries', \n",
    "                          ['ASIN','group','categories'])\n",
    "category.head()"
   ]
  },
  {
   "cell_type": "markdown",
   "metadata": {},
   "source": [
    "<span class=\"badge badge-pill badge-default\">Keep Up Challenge</span>\n",
    "<div class=\"alert alert-success\" role=\"alert\">\n",
    "  <p><b>Question and Answer Summary</b></p>\n",
    "<p></p>\n",
    "<p></p>\n",
    "<b>Algorithmic Thinking</b>\n",
    "<li>How would you build product categorization from scratch, using similar/co-purchased information?\n",
    "<p></p>\n",
    "<p></p>\n",
    "Building product categorization from scratch, I would start with the idea of how customers want to find the product they want. This means that the first category filter will narrow down the search to product type. From here, sub-categories are created/modified based on past \"similar/co-purchased information\" to further filter out the products. One caveat is that because customers buy a set of diverse products, it may not be that informative to use co-purchased information across categories. \n",
    "<p></p><p></p>\n",
    "<b>Question Set</b>\n",
    "<p></p>\n",
    "<b>a.</b> Is it a good idea to show users the categorization hierarchy for items? \n",
    "<p></p>\n",
    "<p></p>\n",
    "It depends on your user. For those that would like to understand the logic of how the algorithm classifies products so that the user can make smarter searches in the futute, showing the users the categorization hierarchy can make sense. For those users that feel bogged down with the length of the categorizatuion, it might not help though.\n",
    "<p></p>\n",
    "<p></p>\n",
    "<b>b.</b> Is it a good idea to show users similar/co-purchased items? \n",
    "<p></p>\n",
    "<p></p>\n",
    "It is a good idea to show similar/co-purchased items \"within\" the category group. As consumers purchase a set of diverse products, it is not necessarily informative or relevant to show a product from a different category. For example, if one buys deodarant, it is not necessarily informative to show that the same person bought a lawnmower as one assumes that the purchases were done with different factors and motivations in mind. \n",
    "<p></p>\n",
    "<p></p>\n",
    "<b>c.</b> Is it a good idea to show users reviews and ratings for items? \n",
    "<p></p>\n",
    "<p></p>\n",
    "Based on what we've seen with the biases in ratings, it is likely not worth showing users the simple ratings. A better rating system would compare the rating of the individual product to ratings in its category or the ratings in the system overall. With resepct to reviews, a sentiment analysis of the text reviews could be helpful in qualifying the ratings. \n",
    "<p></p>\n",
    "<p></p>\n",
    "<b>d.</b> For each of the above, why? How will you establish the same?\n",
    "<p></p>\n",
    "<p></p>\n",
    "To implement, one can use A/B testing to determine if these create improved searches. Metrics worth reviewing include \"speed of purchase\", \"speed of search\", and \"purchases of new products from similar/co-purchased items\".\n",
    "<p></p>\n",
    "<p></p>"
   ]
  },
  {
   "cell_type": "code",
   "execution_count": null,
   "metadata": {
    "collapsed": true
   },
   "outputs": [],
   "source": []
  },
  {
   "cell_type": "code",
   "execution_count": null,
   "metadata": {
    "collapsed": true
   },
   "outputs": [],
   "source": []
  }
 ],
 "metadata": {
  "kernelspec": {
   "display_name": "Python 3",
   "language": "python",
   "name": "python3"
  },
  "language_info": {
   "codemirror_mode": {
    "name": "ipython",
    "version": 3
   },
   "file_extension": ".py",
   "mimetype": "text/x-python",
   "name": "python",
   "nbconvert_exporter": "python",
   "pygments_lexer": "ipython3",
   "version": "3.6.1"
  }
 },
 "nbformat": 4,
 "nbformat_minor": 2
}
